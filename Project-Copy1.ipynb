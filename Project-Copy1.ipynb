{
 "cells": [
  {
   "cell_type": "code",
   "execution_count": 1,
   "metadata": {},
   "outputs": [
    {
     "data": {
      "text/plain": [
       "KnetArray{Float32,N} where N"
      ]
     },
     "execution_count": 1,
     "metadata": {},
     "output_type": "execute_result"
    }
   ],
   "source": [
    "using Knet\n",
    "using AutoGrad\n",
    "using Images\n",
    "using ImageMagick\n",
    "using Random\n",
    "using PyPlot\n",
    "using Statistics\n",
    "import Base: length, size, iterate, eltype, IteratorSize, IteratorEltype, haslength, @propagate_inbounds, repeat, rand, tail\n",
    "import .Iterators: cycle, Cycle, take\n",
    "using IterTools: ncycle, takenth\n",
    "import CUDA\n",
    "array_type=(CUDA.functional() ? KnetArray{Float32} : Array{Float32})"
   ]
  },
  {
   "cell_type": "markdown",
   "metadata": {},
   "source": [
    "Start by loading list of images to be used"
   ]
  },
  {
   "cell_type": "code",
   "execution_count": 2,
   "metadata": {
    "scrolled": true
   },
   "outputs": [],
   "source": [
    "dataPath = \"GeNeVA-v1\\\\i-CLEVR\\\\images\"\n",
    "files = readdir(dataPath);"
   ]
  },
  {
   "cell_type": "markdown",
   "metadata": {},
   "source": [
    "Select images containing single object"
   ]
  },
  {
   "cell_type": "code",
   "execution_count": 3,
   "metadata": {},
   "outputs": [],
   "source": [
    "singleObj = files[endswith.(files, \"_0.png\")]\n",
    "singleObj = [\"$(dataPath)\\\\$(file)\" for file in singleObj];"
   ]
  },
  {
   "cell_type": "markdown",
   "metadata": {},
   "source": [
    "Create iterator for Clevr Dataset"
   ]
  },
  {
   "cell_type": "code",
   "execution_count": 245,
   "metadata": {},
   "outputs": [],
   "source": [
    "struct ClevrData\n",
    "    files\n",
    "    batchsize::Int\n",
    "    #shuffle::Bool\n",
    "    num_instances::Int\n",
    "\n",
    "    function ClevrData(files; batchsize::Int=5) #shuffle::Bool=false)\n",
    "        new(files, batchsize, length(files))\n",
    "    end\n",
    "end"
   ]
  },
  {
   "cell_type": "code",
   "execution_count": 246,
   "metadata": {},
   "outputs": [
    {
     "data": {
      "text/plain": [
       "length (generic function with 210 methods)"
      ]
     },
     "execution_count": 246,
     "metadata": {},
     "output_type": "execute_result"
    }
   ],
   "source": [
    "function length(d::ClevrData)\n",
    "    nFullBatches, rem = divrem(d.num_instances, d.batchsize)\n",
    "    nFullBatches + (rem > 0)*1\n",
    "end"
   ]
  },
  {
   "cell_type": "code",
   "execution_count": 247,
   "metadata": {},
   "outputs": [
    {
     "data": {
      "text/plain": [
       "load_image (generic function with 1 method)"
      ]
     },
     "execution_count": 247,
     "metadata": {},
     "output_type": "execute_result"
    }
   ],
   "source": [
    "function load_image(filename)\n",
    "    img = load(filename)\n",
    "    img = imresize(img, (64,64))\n",
    "    img = Float64.(channelview(img))\n",
    "    img = img[1:3,:,:]\n",
    "    img = permutedims(img, [2, 3, 1])\n",
    "#     img = reshape(img, (64,64,3,1))\n",
    "#     img = convert(array_type, img)\n",
    "end"
   ]
  },
  {
   "cell_type": "code",
   "execution_count": 248,
   "metadata": {},
   "outputs": [
    {
     "data": {
      "text/plain": [
       "iterate (generic function with 432 methods)"
      ]
     },
     "execution_count": 248,
     "metadata": {},
     "output_type": "execute_result"
    }
   ],
   "source": [
    "function iterate(d::ClevrData, state=collect(1:d.num_instances))\n",
    "    if length(state) > 0\n",
    "        batch = d.files[state[1:(length(state) < d.batchsize ? end : d.batchsize)]]\n",
    "        state  = state[d.batchsize+1:end]\n",
    "        out = convert(array_type, zeros(64,64,3,length(batch)))\n",
    "        ims = load_image.(batch)\n",
    "        for i in collect(1:length(batch)); out[:,:,:,i] = ims[i]; end\n",
    "        return (Param(out)), state\n",
    "    end\n",
    "end"
   ]
  },
  {
   "cell_type": "code",
   "execution_count": 496,
   "metadata": {
    "collapsed": true
   },
   "outputs": [
    {
     "name": "stdout",
     "output_type": "stream",
     "text": [
      "search: \u001b[0m\u001b[1ms\u001b[22m\u001b[0m\u001b[1mg\u001b[22m\u001b[0m\u001b[1md\u001b[22m\u001b[0m\u001b[1m!\u001b[22m \u001b[0m\u001b[1ms\u001b[22m\u001b[0m\u001b[1mg\u001b[22m\u001b[0m\u001b[1md\u001b[22m \u001b[0m\u001b[1mS\u001b[22m\u001b[0m\u001b[1mg\u001b[22m\u001b[0m\u001b[1md\u001b[22m \u001b[0m\u001b[1mS\u001b[22m\u001b[0m\u001b[1mG\u001b[22m\u001b[0m\u001b[1mD\u001b[22m \u001b[0m\u001b[1ms\u001b[22mi\u001b[0m\u001b[1mg\u001b[22mne\u001b[0m\u001b[1md\u001b[22m \u001b[0m\u001b[1mS\u001b[22mi\u001b[0m\u001b[1mg\u001b[22mne\u001b[0m\u001b[1md\u001b[22m u\u001b[0m\u001b[1ms\u001b[22min\u001b[0m\u001b[1mg\u001b[22m3\u001b[0m\u001b[1mD\u001b[22m Un\u001b[0m\u001b[1ms\u001b[22mi\u001b[0m\u001b[1mg\u001b[22mne\u001b[0m\u001b[1md\u001b[22m un\u001b[0m\u001b[1ms\u001b[22mi\u001b[0m\u001b[1mg\u001b[22mne\u001b[0m\u001b[1md\u001b[22m color\u001b[0m\u001b[1ms\u001b[22mi\u001b[0m\u001b[1mg\u001b[22mne\u001b[0m\u001b[1md\u001b[22m\n",
      "\n"
     ]
    },
    {
     "data": {
      "text/latex": [
       "\\begin{verbatim}\n",
       "minimize(func, data, optimizer=Adam(); params)\n",
       "sgd     (func, data; lr=0.1,  gclip, params)\n",
       "momentum(func, data; lr=0.05, gamma=0.95, gclip, params)\n",
       "nesterov(func, data; lr=0.05, gamma=0.95, gclip, params)\n",
       "adagrad (func, data; lr=0.05, eps=1e-6, gclip, params)\n",
       "rmsprop (func, data; lr=0.01, rho=0.9, eps=1e-6, gclip, params)\n",
       "adadelta(func, data; lr=1.0,  rho=0.9, eps=1e-6, gclip, params)\n",
       "adam    (func, data; lr=0.001, beta1=0.9, beta2=0.999, eps=1e-8, gclip, params)\n",
       "\\end{verbatim}\n",
       "Return an iterator which applies \\texttt{func} to arguments in \\texttt{data}, i.e.  \\texttt{(func(args...) for args in data)}, and updates the parameters every iteration to minimize \\texttt{func}.  \\texttt{func} should return a scalar value.\n",
       "\n",
       "The common keyword argument \\texttt{params} can be used to list the \\texttt{Param}s to be optimized.  If not specified, any \\texttt{Param} that takes part in the computation of \\texttt{func(args...)} will be updated.\n",
       "\n",
       "The common keyword argument \\texttt{gclip} can be used to implement per-parameter gradient clipping. For a parameter gradient \\texttt{g}, if \\texttt{norm(g) > gclip > 0}, \\texttt{g} is scaled so that its norm is equal to \\texttt{gclip}. If not specified no gradient clipping is performed.\n",
       "\n",
       "These functions do not perform optimization, but return an iterator that can. Any function that produces values from an iterator can be used with such an object, e.g. \\texttt{progress!(sgd(f,d))} iterates the sgd optimizer and displays a progress bar. For convenience, appending \\texttt{!} to the name of the function iterates and returns \\texttt{nothing}, i.e. \\texttt{sgd!(...)} is equivalent to \\texttt{(for x in sgd(...) end)}.\n",
       "\n",
       "We define optimizers as lazy iterators to have explicit control over them:\n",
       "\n",
       "\\begin{itemize}\n",
       "\\item To report progress use \\texttt{progress(sgd(f,d))}.\n",
       "\n",
       "\n",
       "\\item To run until convergence use \\texttt{converge(sgd(f,cycle(d)))}.\n",
       "\n",
       "\n",
       "\\item To run multiple epochs use \\texttt{sgd(f,repeat(d,n))}.\n",
       "\n",
       "\n",
       "\\item To run a given number of iterations use \\texttt{sgd(f,take(cycle(d),n))}.\n",
       "\n",
       "\n",
       "\\item To do a task every n iterations use \\texttt{(task() for (i,j) in enumerate(sgd(f,d)) if i\\%n == 1)}.\n",
       "\n",
       "\\end{itemize}\n",
       "These functions apply the same algorithm with the same configuration to every parameter by default. \\texttt{minimize} takes an explicit optimizer argument, all others call \\texttt{minimize} with an appropriate optimizer argument (see \\texttt{@doc update!} for a list of possible optimizers). Before calling \\href{@ref}{\\texttt{update!}} on a \\texttt{Param}, \\texttt{minimize} sets its \\texttt{opt} field to a copy of this default optimizer if it is not already set. The \\texttt{opt} field is used by the \\texttt{update!} function to determine the type of update performed on that parameter.  If you need finer grained control, you can set the optimizer of an individual \\texttt{Param} by setting its \\texttt{opt} field before calling one of these functions. They will not override the \\texttt{opt} field if it is already set, e.g. \\texttt{sgd(model,data)} will perform an \\texttt{Adam} update for a parameter whose \\texttt{opt} field is an \\texttt{Adam} object. This also means you can stop and start the training without losing optimization state, the first call will set the \\texttt{opt} fields and the subsequent calls will not override them.\n",
       "\n",
       "Given a parameter \\texttt{w} and its gradient \\texttt{g} here are the updates applied by each optimizer:\n",
       "\n",
       "\\begin{verbatim}\n",
       "# sgd (http://en.wikipedia.org/wiki/Stochastic_gradient_descent)\n",
       "w .= w - lr * g\n",
       "\n",
       "# momentum (http://jlmelville.github.io/mize/nesterov.html)\n",
       "v .= gamma * v - lr * g\n",
       "w .= w + v\n",
       "\n",
       "# nesterov (http://jlmelville.github.io/mize/nesterov.html)\n",
       "w .= w - gamma * v\n",
       "v .= gamma * v - lr * g\n",
       "w .= w + (1 + gamma) * v\n",
       "\n",
       "# adagrad (http://www.jmlr.org/papers/v12/duchi11a.html)\n",
       "G .= G + g .^ 2\n",
       "w .= w - lr * g ./ sqrt(G + eps)\n",
       "\n",
       "# rmsprop (http://www.cs.toronto.edu/~tijmen/csc321/slides/lecture_slides_lec6.pdf)\n",
       "G .= rho * G + (1-rho) * g .^ 2 \n",
       "w .= w - lr * g ./ sqrt(G + eps)\n",
       "\n",
       "# adadelta (http://arxiv.org/abs/1212.5701)\n",
       "G .= rho * G + (1-rho) * g .^ 2\n",
       "update = sqrt(delta + eps) .* g ./ sqrt(G + eps)\n",
       "w = w - lr * update\n",
       "delta = rho * delta + (1-rho) * update .^ 2\n",
       "\n",
       "# adam (http://arxiv.org/abs/1412.6980)\n",
       "v = beta1 * v + (1 - beta1) * g\n",
       "G = beta2 * G + (1 - beta2) * g .^ 2\n",
       "vhat = v ./ (1 - beta1 ^ t)\n",
       "Ghat = G ./ (1 - beta2 ^ t)\n",
       "w = w - (lr / (sqrt(Ghat) + eps)) * vhat\n",
       "\\end{verbatim}\n"
      ],
      "text/markdown": [
       "```\n",
       "minimize(func, data, optimizer=Adam(); params)\n",
       "sgd     (func, data; lr=0.1,  gclip, params)\n",
       "momentum(func, data; lr=0.05, gamma=0.95, gclip, params)\n",
       "nesterov(func, data; lr=0.05, gamma=0.95, gclip, params)\n",
       "adagrad (func, data; lr=0.05, eps=1e-6, gclip, params)\n",
       "rmsprop (func, data; lr=0.01, rho=0.9, eps=1e-6, gclip, params)\n",
       "adadelta(func, data; lr=1.0,  rho=0.9, eps=1e-6, gclip, params)\n",
       "adam    (func, data; lr=0.001, beta1=0.9, beta2=0.999, eps=1e-8, gclip, params)\n",
       "```\n",
       "\n",
       "Return an iterator which applies `func` to arguments in `data`, i.e.  `(func(args...) for args in data)`, and updates the parameters every iteration to minimize `func`.  `func` should return a scalar value.\n",
       "\n",
       "The common keyword argument `params` can be used to list the `Param`s to be optimized.  If not specified, any `Param` that takes part in the computation of `func(args...)` will be updated.\n",
       "\n",
       "The common keyword argument `gclip` can be used to implement per-parameter gradient clipping. For a parameter gradient `g`, if `norm(g) > gclip > 0`, `g` is scaled so that its norm is equal to `gclip`. If not specified no gradient clipping is performed.\n",
       "\n",
       "These functions do not perform optimization, but return an iterator that can. Any function that produces values from an iterator can be used with such an object, e.g. `progress!(sgd(f,d))` iterates the sgd optimizer and displays a progress bar. For convenience, appending `!` to the name of the function iterates and returns `nothing`, i.e. `sgd!(...)` is equivalent to `(for x in sgd(...) end)`.\n",
       "\n",
       "We define optimizers as lazy iterators to have explicit control over them:\n",
       "\n",
       "  * To report progress use `progress(sgd(f,d))`.\n",
       "  * To run until convergence use `converge(sgd(f,cycle(d)))`.\n",
       "  * To run multiple epochs use `sgd(f,repeat(d,n))`.\n",
       "  * To run a given number of iterations use `sgd(f,take(cycle(d),n))`.\n",
       "  * To do a task every n iterations use `(task() for (i,j) in enumerate(sgd(f,d)) if i%n == 1)`.\n",
       "\n",
       "These functions apply the same algorithm with the same configuration to every parameter by default. `minimize` takes an explicit optimizer argument, all others call `minimize` with an appropriate optimizer argument (see `@doc update!` for a list of possible optimizers). Before calling [`update!`](@ref) on a `Param`, `minimize` sets its `opt` field to a copy of this default optimizer if it is not already set. The `opt` field is used by the `update!` function to determine the type of update performed on that parameter.  If you need finer grained control, you can set the optimizer of an individual `Param` by setting its `opt` field before calling one of these functions. They will not override the `opt` field if it is already set, e.g. `sgd(model,data)` will perform an `Adam` update for a parameter whose `opt` field is an `Adam` object. This also means you can stop and start the training without losing optimization state, the first call will set the `opt` fields and the subsequent calls will not override them.\n",
       "\n",
       "Given a parameter `w` and its gradient `g` here are the updates applied by each optimizer:\n",
       "\n",
       "```\n",
       "# sgd (http://en.wikipedia.org/wiki/Stochastic_gradient_descent)\n",
       "w .= w - lr * g\n",
       "\n",
       "# momentum (http://jlmelville.github.io/mize/nesterov.html)\n",
       "v .= gamma * v - lr * g\n",
       "w .= w + v\n",
       "\n",
       "# nesterov (http://jlmelville.github.io/mize/nesterov.html)\n",
       "w .= w - gamma * v\n",
       "v .= gamma * v - lr * g\n",
       "w .= w + (1 + gamma) * v\n",
       "\n",
       "# adagrad (http://www.jmlr.org/papers/v12/duchi11a.html)\n",
       "G .= G + g .^ 2\n",
       "w .= w - lr * g ./ sqrt(G + eps)\n",
       "\n",
       "# rmsprop (http://www.cs.toronto.edu/~tijmen/csc321/slides/lecture_slides_lec6.pdf)\n",
       "G .= rho * G + (1-rho) * g .^ 2 \n",
       "w .= w - lr * g ./ sqrt(G + eps)\n",
       "\n",
       "# adadelta (http://arxiv.org/abs/1212.5701)\n",
       "G .= rho * G + (1-rho) * g .^ 2\n",
       "update = sqrt(delta + eps) .* g ./ sqrt(G + eps)\n",
       "w = w - lr * update\n",
       "delta = rho * delta + (1-rho) * update .^ 2\n",
       "\n",
       "# adam (http://arxiv.org/abs/1412.6980)\n",
       "v = beta1 * v + (1 - beta1) * g\n",
       "G = beta2 * G + (1 - beta2) * g .^ 2\n",
       "vhat = v ./ (1 - beta1 ^ t)\n",
       "Ghat = G ./ (1 - beta2 ^ t)\n",
       "w = w - (lr / (sqrt(Ghat) + eps)) * vhat\n",
       "```\n"
      ],
      "text/plain": [
       "\u001b[36m  minimize(func, data, optimizer=Adam(); params)\u001b[39m\n",
       "\u001b[36m  sgd     (func, data; lr=0.1,  gclip, params)\u001b[39m\n",
       "\u001b[36m  momentum(func, data; lr=0.05, gamma=0.95, gclip, params)\u001b[39m\n",
       "\u001b[36m  nesterov(func, data; lr=0.05, gamma=0.95, gclip, params)\u001b[39m\n",
       "\u001b[36m  adagrad (func, data; lr=0.05, eps=1e-6, gclip, params)\u001b[39m\n",
       "\u001b[36m  rmsprop (func, data; lr=0.01, rho=0.9, eps=1e-6, gclip, params)\u001b[39m\n",
       "\u001b[36m  adadelta(func, data; lr=1.0,  rho=0.9, eps=1e-6, gclip, params)\u001b[39m\n",
       "\u001b[36m  adam    (func, data; lr=0.001, beta1=0.9, beta2=0.999, eps=1e-8, gclip, params)\u001b[39m\n",
       "\n",
       "  Return an iterator which applies \u001b[36mfunc\u001b[39m to arguments in \u001b[36mdata\u001b[39m, i.e.\n",
       "  \u001b[36m(func(args...) for args in data)\u001b[39m, and updates the parameters every iteration\n",
       "  to minimize \u001b[36mfunc\u001b[39m. \u001b[36mfunc\u001b[39m should return a scalar value.\n",
       "\n",
       "  The common keyword argument \u001b[36mparams\u001b[39m can be used to list the \u001b[36mParam\u001b[39ms to be\n",
       "  optimized. If not specified, any \u001b[36mParam\u001b[39m that takes part in the computation of\n",
       "  \u001b[36mfunc(args...)\u001b[39m will be updated.\n",
       "\n",
       "  The common keyword argument \u001b[36mgclip\u001b[39m can be used to implement per-parameter\n",
       "  gradient clipping. For a parameter gradient \u001b[36mg\u001b[39m, if \u001b[36mnorm(g) > gclip > 0\u001b[39m, \u001b[36mg\u001b[39m is\n",
       "  scaled so that its norm is equal to \u001b[36mgclip\u001b[39m. If not specified no gradient\n",
       "  clipping is performed.\n",
       "\n",
       "  These functions do not perform optimization, but return an iterator that\n",
       "  can. Any function that produces values from an iterator can be used with\n",
       "  such an object, e.g. \u001b[36mprogress!(sgd(f,d))\u001b[39m iterates the sgd optimizer and\n",
       "  displays a progress bar. For convenience, appending \u001b[36m!\u001b[39m to the name of the\n",
       "  function iterates and returns \u001b[36mnothing\u001b[39m, i.e. \u001b[36msgd!(...)\u001b[39m is equivalent to \u001b[36m(for\n",
       "  x in sgd(...) end)\u001b[39m.\n",
       "\n",
       "  We define optimizers as lazy iterators to have explicit control over them:\n",
       "\n",
       "    •    To report progress use \u001b[36mprogress(sgd(f,d))\u001b[39m.\n",
       "\n",
       "    •    To run until convergence use \u001b[36mconverge(sgd(f,cycle(d)))\u001b[39m.\n",
       "\n",
       "    •    To run multiple epochs use \u001b[36msgd(f,repeat(d,n))\u001b[39m.\n",
       "\n",
       "    •    To run a given number of iterations use \u001b[36msgd(f,take(cycle(d),n))\u001b[39m.\n",
       "\n",
       "    •    To do a task every n iterations use \u001b[36m(task() for (i,j) in\n",
       "        enumerate(sgd(f,d)) if i%n == 1)\u001b[39m.\n",
       "\n",
       "  These functions apply the same algorithm with the same configuration to\n",
       "  every parameter by default. \u001b[36mminimize\u001b[39m takes an explicit optimizer argument,\n",
       "  all others call \u001b[36mminimize\u001b[39m with an appropriate optimizer argument (see \u001b[36m@doc\n",
       "  update!\u001b[39m for a list of possible optimizers). Before calling \u001b[36mupdate!\u001b[39m on a\n",
       "  \u001b[36mParam\u001b[39m, \u001b[36mminimize\u001b[39m sets its \u001b[36mopt\u001b[39m field to a copy of this default optimizer if it\n",
       "  is not already set. The \u001b[36mopt\u001b[39m field is used by the \u001b[36mupdate!\u001b[39m function to\n",
       "  determine the type of update performed on that parameter. If you need finer\n",
       "  grained control, you can set the optimizer of an individual \u001b[36mParam\u001b[39m by setting\n",
       "  its \u001b[36mopt\u001b[39m field before calling one of these functions. They will not override\n",
       "  the \u001b[36mopt\u001b[39m field if it is already set, e.g. \u001b[36msgd(model,data)\u001b[39m will perform an\n",
       "  \u001b[36mAdam\u001b[39m update for a parameter whose \u001b[36mopt\u001b[39m field is an \u001b[36mAdam\u001b[39m object. This also\n",
       "  means you can stop and start the training without losing optimization state,\n",
       "  the first call will set the \u001b[36mopt\u001b[39m fields and the subsequent calls will not\n",
       "  override them.\n",
       "\n",
       "  Given a parameter \u001b[36mw\u001b[39m and its gradient \u001b[36mg\u001b[39m here are the updates applied by each\n",
       "  optimizer:\n",
       "\n",
       "\u001b[36m  # sgd (http://en.wikipedia.org/wiki/Stochastic_gradient_descent)\u001b[39m\n",
       "\u001b[36m  w .= w - lr * g\u001b[39m\n",
       "\u001b[36m  \u001b[39m\n",
       "\u001b[36m  # momentum (http://jlmelville.github.io/mize/nesterov.html)\u001b[39m\n",
       "\u001b[36m  v .= gamma * v - lr * g\u001b[39m\n",
       "\u001b[36m  w .= w + v\u001b[39m\n",
       "\u001b[36m  \u001b[39m\n",
       "\u001b[36m  # nesterov (http://jlmelville.github.io/mize/nesterov.html)\u001b[39m\n",
       "\u001b[36m  w .= w - gamma * v\u001b[39m\n",
       "\u001b[36m  v .= gamma * v - lr * g\u001b[39m\n",
       "\u001b[36m  w .= w + (1 + gamma) * v\u001b[39m\n",
       "\u001b[36m  \u001b[39m\n",
       "\u001b[36m  # adagrad (http://www.jmlr.org/papers/v12/duchi11a.html)\u001b[39m\n",
       "\u001b[36m  G .= G + g .^ 2\u001b[39m\n",
       "\u001b[36m  w .= w - lr * g ./ sqrt(G + eps)\u001b[39m\n",
       "\u001b[36m  \u001b[39m\n",
       "\u001b[36m  # rmsprop (http://www.cs.toronto.edu/~tijmen/csc321/slides/lecture_slides_lec6.pdf)\u001b[39m\n",
       "\u001b[36m  G .= rho * G + (1-rho) * g .^ 2 \u001b[39m\n",
       "\u001b[36m  w .= w - lr * g ./ sqrt(G + eps)\u001b[39m\n",
       "\u001b[36m  \u001b[39m\n",
       "\u001b[36m  # adadelta (http://arxiv.org/abs/1212.5701)\u001b[39m\n",
       "\u001b[36m  G .= rho * G + (1-rho) * g .^ 2\u001b[39m\n",
       "\u001b[36m  update = sqrt(delta + eps) .* g ./ sqrt(G + eps)\u001b[39m\n",
       "\u001b[36m  w = w - lr * update\u001b[39m\n",
       "\u001b[36m  delta = rho * delta + (1-rho) * update .^ 2\u001b[39m\n",
       "\u001b[36m  \u001b[39m\n",
       "\u001b[36m  # adam (http://arxiv.org/abs/1412.6980)\u001b[39m\n",
       "\u001b[36m  v = beta1 * v + (1 - beta1) * g\u001b[39m\n",
       "\u001b[36m  G = beta2 * G + (1 - beta2) * g .^ 2\u001b[39m\n",
       "\u001b[36m  vhat = v ./ (1 - beta1 ^ t)\u001b[39m\n",
       "\u001b[36m  Ghat = G ./ (1 - beta2 ^ t)\u001b[39m\n",
       "\u001b[36m  w = w - (lr / (sqrt(Ghat) + eps)) * vhat\u001b[39m"
      ]
     },
     "execution_count": 496,
     "metadata": {},
     "output_type": "execute_result"
    }
   ],
   "source": [
    "?sgd!"
   ]
  },
  {
   "cell_type": "code",
   "execution_count": 198,
   "metadata": {},
   "outputs": [],
   "source": [
    "# for batch in clevrDataset\n",
    "#     println(length(batch))\n",
    "# end"
   ]
  },
  {
   "cell_type": "code",
   "execution_count": 19,
   "metadata": {},
   "outputs": [
    {
     "data": {
      "text/plain": [
       "leakyRelu (generic function with 1 method)"
      ]
     },
     "execution_count": 19,
     "metadata": {},
     "output_type": "execute_result"
    }
   ],
   "source": [
    "function leakyRelu(x)\n",
    "    max(0.1 .* x, x)\n",
    "end"
   ]
  },
  {
   "cell_type": "code",
   "execution_count": 60,
   "metadata": {},
   "outputs": [
    {
     "data": {
      "text/plain": [
       "Z (generic function with 1 method)"
      ]
     },
     "execution_count": 60,
     "metadata": {},
     "output_type": "execute_result"
    }
   ],
   "source": [
    "function Z(dim1, dim2)\n",
    "    z = (rand(dim1, dim2).*2.0).-1.0\n",
    "    convert(array_type, z)\n",
    "end"
   ]
  },
  {
   "cell_type": "code",
   "execution_count": 381,
   "metadata": {},
   "outputs": [
    {
     "data": {
      "text/plain": [
       "Z2 (generic function with 2 methods)"
      ]
     },
     "execution_count": 381,
     "metadata": {},
     "output_type": "execute_result"
    }
   ],
   "source": [
    "function Z2(dim1, dim2, dim3, dim4)\n",
    "    z = (rand(dim1, dim2, dim3, dim4).*2.0).-1.0\n",
    "    convert(array_type, z)\n",
    "end"
   ]
  },
  {
   "cell_type": "code",
   "execution_count": 518,
   "metadata": {},
   "outputs": [
    {
     "data": {
      "text/plain": [
       "Z3 (generic function with 1 method)"
      ]
     },
     "execution_count": 518,
     "metadata": {},
     "output_type": "execute_result"
    }
   ],
   "source": [
    "function Z3(dim1, dim2, dim3, dim4, dim5)\n",
    "    z = (rand(dim1, dim2, dim3, dim4, dim5).*2.0).-1.0\n",
    "    convert(array_type, z)\n",
    "end"
   ]
  },
  {
   "cell_type": "code",
   "execution_count": 20,
   "metadata": {},
   "outputs": [],
   "source": [
    "struct Discriminator2\n",
    "    layers\n",
    "    Discriminator2(layers...) = new(layers)\n",
    "end\n",
    "(model::Discriminator2)(x) = (for l in model.layers; x = l(x); end; x)\n"
   ]
  },
  {
   "cell_type": "code",
   "execution_count": 541,
   "metadata": {},
   "outputs": [],
   "source": [
    "struct Generator2\n",
    "    layers\n",
    "    Generator2(layers...) = new(layers)\n",
    "end\n",
    "# (model::Generator2)(x) = (for l in model.layers; x = l(x); end; x)\n",
    "function (model::Generator2)(z)\n",
    "    layers = model.layers\n",
    "    x = layers[1]()\n",
    "    for i in collect(2:length(layers))\n",
    "       x = layers[i](x) \n",
    "    end\n",
    "    x\n",
    "end"
   ]
  },
  {
   "cell_type": "code",
   "execution_count": 515,
   "metadata": {},
   "outputs": [],
   "source": [
    "struct ObjectGenerator\n",
    "    layers\n",
    "    ObjectGenerator(layers...) = new(layers)\n",
    "end\n",
    "(model::ObjectGenerator)(x) = (for l in model.layers; x = l(x); end; x)"
   ]
  },
  {
   "cell_type": "code",
   "execution_count": 516,
   "metadata": {},
   "outputs": [],
   "source": [
    "struct BackgroundGenerator\n",
    "    layers\n",
    "    BackgroundGenerator(layers...) = new(layers)\n",
    "end\n",
    "(model::BackgroundGenerator)(x) = (for l in model.layers; x = l(x); end; x)"
   ]
  },
  {
   "cell_type": "code",
   "execution_count": 26,
   "metadata": {},
   "outputs": [
    {
     "data": {
      "text/plain": [
       "dLoss (generic function with 1 method)"
      ]
     },
     "execution_count": 26,
     "metadata": {},
     "output_type": "execute_result"
    }
   ],
   "source": [
    "function dLoss(D::Discriminator2, realIms, fakeIms)\n",
    "    realLoss = -mean(log.(D(realIms)))\n",
    "    fakeLoss = -mean(log.(1 .- D(fakeIms)))\n",
    "    return 0.5*(realLoss+fakeLoss)\n",
    "end"
   ]
  },
  {
   "cell_type": "code",
   "execution_count": 27,
   "metadata": {},
   "outputs": [
    {
     "data": {
      "text/plain": [
       "gLoss (generic function with 1 method)"
      ]
     },
     "execution_count": 27,
     "metadata": {},
     "output_type": "execute_result"
    }
   ],
   "source": [
    "function gLoss(G::Generator2, D::Discriminator2, z)\n",
    "    yPr = D(G(z))\n",
    "    return -0.5*mean(log.(yPr))\n",
    "end"
   ]
  },
  {
   "cell_type": "code",
   "execution_count": 514,
   "metadata": {},
   "outputs": [],
   "source": [
    "struct Chain\n",
    "    layers\n",
    "    Chain(layers...) = new(layers)\n",
    "end\n",
    "(model::Chain)(x) = (for l in model.layers; x = l(x); end; x)"
   ]
  },
  {
   "cell_type": "code",
   "execution_count": 18,
   "metadata": {},
   "outputs": [],
   "source": [
    "struct Dense; w; b; f; end\n",
    "Dense(i::Int,o::Int,f=relu) = Dense(param(o,i), param0(o), f)\n",
    "(d::Dense)(x) = d.f.(d.w * mat(x) .+ d.b) # mat reshapes 4-D tensor to 2-D matrix so we can use matmul"
   ]
  },
  {
   "cell_type": "code",
   "execution_count": 153,
   "metadata": {},
   "outputs": [],
   "source": [
    "struct Reshape1; x; y; c; end;\n",
    "Reshape1() = Reshape1(64,64,3)\n",
    "(r::Reshape1)(x) = reshape(x, r.x, r.y, r.c, :)"
   ]
  },
  {
   "cell_type": "code",
   "execution_count": 24,
   "metadata": {},
   "outputs": [],
   "source": [
    "struct Reshape3; x; y; c; end;\n",
    "Reshape3() = Reshape3(64,64,3)\n",
    "(r::Reshape3)(x) = reshape(x, r.x, r.y, r.c)"
   ]
  },
  {
   "cell_type": "code",
   "execution_count": 156,
   "metadata": {},
   "outputs": [],
   "source": [
    "struct Reshape2; a end;\n",
    "Reshape2() = Reshape2(1)\n",
    "(r::Reshape2)(x) = reshape(x, :,size(x)[end])"
   ]
  },
  {
   "cell_type": "code",
   "execution_count": 95,
   "metadata": {},
   "outputs": [],
   "source": [
    "struct BNorm; moments; params; act; end;\n",
    "(bn::BNorm)(x) = if bn.act sigm.(batchnorm(x, bn.moments, bn.params)) else batchnorm(x, bn.moments, bn.params) end"
   ]
  },
  {
   "cell_type": "code",
   "execution_count": 372,
   "metadata": {},
   "outputs": [
    {
     "data": {
      "text/plain": [
       "Conv"
      ]
     },
     "execution_count": 372,
     "metadata": {},
     "output_type": "execute_result"
    }
   ],
   "source": [
    "struct Conv; w; b; f; end\n",
    "(c::Conv)(x) = c.f.(conv4(c.w, x, stride = 2, padding = 2) .+ c.b)\n",
    "Conv(w1::Int,w2::Int,cx::Int,cy::Int,f=leakyRelu) = Conv(param(w1,w2,cx,cy), param0(1,1,cy,1), f)"
   ]
  },
  {
   "cell_type": "code",
   "execution_count": 484,
   "metadata": {},
   "outputs": [
    {
     "data": {
      "text/plain": [
       "Deconv"
      ]
     },
     "execution_count": 484,
     "metadata": {},
     "output_type": "execute_result"
    }
   ],
   "source": [
    "struct Deconv; w; f; end\n",
    "(c::Deconv)(x) = c.f.(deconv4(c.w, x, padding = 0, stride = 1))\n",
    "Deconv(w1::Int,w2::Int,cx::Int,cy::Int,f=relu) = Deconv(param(w1,w2,cx,cy),f)\n",
    "Deconv(w1::Int,w2::Int,w3::Int,cx::Int,cy::Int,f=relu) = Deconv(param(w1,w2,w3,cx,cy),f)"
   ]
  },
  {
   "cell_type": "code",
   "execution_count": 507,
   "metadata": {},
   "outputs": [
    {
     "data": {
      "text/plain": [
       "Deconv2"
      ]
     },
     "execution_count": 507,
     "metadata": {},
     "output_type": "execute_result"
    }
   ],
   "source": [
    "struct Deconv2; w; f; end\n",
    "(c::Deconv2)(x) = c.f.(deconv4(c.w, x, padding = 1, stride = 2))\n",
    "Deconv2(w1::Int,w2::Int,cx::Int,cy::Int,f=relu) = Deconv2(param(w1,w2,cx,cy),f)\n",
    "Deconv2(w1::Int,w2::Int,w3::Int,cx::Int,cy::Int,f=relu) = Deconv2(param(w1,w2,w3,cx,cy),f)"
   ]
  },
  {
   "cell_type": "code",
   "execution_count": 361,
   "metadata": {},
   "outputs": [
    {
     "data": {
      "text/plain": [
       "Deconv3"
      ]
     },
     "execution_count": 361,
     "metadata": {},
     "output_type": "execute_result"
    }
   ],
   "source": [
    "struct Deconv3; w; f; end\n",
    "(c::Deconv3)(x) = c.f.(deconv4(c.w, x, padding = 2, stride = 1))\n",
    "Deconv3(w1::Int,w2::Int,cx::Int,cy::Int,f=relu) = Deconv3(param(w1,w2,cx,cy),f)"
   ]
  },
  {
   "cell_type": "code",
   "execution_count": null,
   "metadata": {},
   "outputs": [],
   "source": [
    "# function unpack(array)\n",
    "#     objs = size(array)[end]\n",
    "#     if objs > 1\n",
    "#         out = [x[:,:,:,:,i]\n",
    "#     end\n",
    "# end"
   ]
  },
  {
   "cell_type": "code",
   "execution_count": 525,
   "metadata": {},
   "outputs": [
    {
     "data": {
      "text/plain": [
       "SceneComposer (generic function with 2 methods)"
      ]
     },
     "execution_count": 525,
     "metadata": {},
     "output_type": "execute_result"
    }
   ],
   "source": [
    "function SceneComposer(objs...)\n",
    "    m  = max.(objs)\n",
    "    concat = reshape(m, (16,16,16*64,:))\n",
    "end"
   ]
  },
  {
   "cell_type": "code",
   "execution_count": 527,
   "metadata": {},
   "outputs": [
    {
     "data": {
      "text/plain": [
       "createScene (generic function with 1 method)"
      ]
     },
     "execution_count": 527,
     "metadata": {},
     "output_type": "execute_result"
    }
   ],
   "source": [
    "function createScene(bgTensor, fgTensor)\n",
    "    FG = ObjectGenerator(Deconv2(4,4,4,128,512), Deconv2(4,4,4,64,128))\n",
    "    BG = BackgroundGenerator(Deconv2(4,4,4,128,256), Deconv2(4,4,4,64,128))\n",
    "    f  = FG(fgTensor)\n",
    "    b  = BG(bgTensor)\n",
    "    SceneComposer(f,b)\n",
    "end"
   ]
  },
  {
   "cell_type": "code",
   "execution_count": 535,
   "metadata": {},
   "outputs": [],
   "source": [
    "struct Scene\n",
    "    l1\n",
    "    l2\n",
    "end\n",
    "Scene(b::Int,f::Int) = Scene(param(4,4,4,b,1), param(4,4,4,f,1))\n",
    "(s::Scene)() = createScene(s.l1, s.l2)"
   ]
  },
  {
   "cell_type": "code",
   "execution_count": 539,
   "metadata": {},
   "outputs": [
    {
     "data": {
      "text/plain": [
       "Discriminator2((Conv(P(KnetArray{Float32,4}(5,5,3,64)), P(KnetArray{Float32,4}(1,1,64,1)), leakyRelu), Conv(P(KnetArray{Float32,4}(5,5,64,128)), P(KnetArray{Float32,4}(1,1,128,1)), leakyRelu), Conv(P(KnetArray{Float32,4}(5,5,128,256)), P(KnetArray{Float32,4}(1,1,256,1)), leakyRelu), Conv(P(KnetArray{Float32,4}(5,5,256,512)), P(KnetArray{Float32,4}(1,1,512,1)), leakyRelu), Dense(P(KnetArray{Float32,2}(1,8192)), P(KnetArray{Float32,1}(1)), Knet.Ops20.sigm)))"
      ]
     },
     "execution_count": 539,
     "metadata": {},
     "output_type": "execute_result"
    }
   ],
   "source": [
    "Random.seed!(1234)\n",
    "loss_g = []\n",
    "loss_d = []\n",
    "\n",
    "G = Generator2(Scene(256, 512), Deconv(1,1,64,16*64), Deconv2(4,4,64,64), Deconv2(4,4,64,64), Deconv3(5,5,3,64))\n",
    "D = Discriminator2(Conv(5,5,3,64), Conv(5,5,64,128), Conv(5,5,128,256), Conv(5,5,256,512), Dense(4*4*512,1,sigm))"
   ]
  },
  {
   "cell_type": "code",
   "execution_count": 483,
   "metadata": {
    "collapsed": true
   },
   "outputs": [
    {
     "name": "stdout",
     "output_type": "stream",
     "text": [
      "search: \u001b[0m\u001b[1md\u001b[22m\u001b[0m\u001b[1me\u001b[22m\u001b[0m\u001b[1mc\u001b[22m\u001b[0m\u001b[1mo\u001b[22m\u001b[0m\u001b[1mn\u001b[22m\u001b[0m\u001b[1mv\u001b[22m\u001b[0m\u001b[1m4\u001b[22m \u001b[0m\u001b[1mD\u001b[22m\u001b[0m\u001b[1me\u001b[22m\u001b[0m\u001b[1mc\u001b[22m\u001b[0m\u001b[1mo\u001b[22m\u001b[0m\u001b[1mn\u001b[22m\u001b[0m\u001b[1mv\u001b[22m3 \u001b[0m\u001b[1mD\u001b[22m\u001b[0m\u001b[1me\u001b[22m\u001b[0m\u001b[1mc\u001b[22m\u001b[0m\u001b[1mo\u001b[22m\u001b[0m\u001b[1mn\u001b[22m\u001b[0m\u001b[1mv\u001b[22m2 \u001b[0m\u001b[1mD\u001b[22m\u001b[0m\u001b[1me\u001b[22m\u001b[0m\u001b[1mc\u001b[22m\u001b[0m\u001b[1mo\u001b[22m\u001b[0m\u001b[1mn\u001b[22m\u001b[0m\u001b[1mv\u001b[22m space\u001b[0m\u001b[1md\u001b[22mir\u001b[0m\u001b[1me\u001b[22m\u001b[0m\u001b[1mc\u001b[22mti\u001b[0m\u001b[1mo\u001b[22m\u001b[0m\u001b[1mn\u001b[22ms gol\u001b[0m\u001b[1md\u001b[22m\u001b[0m\u001b[1me\u001b[22mnse\u001b[0m\u001b[1mc\u001b[22mti\u001b[0m\u001b[1mo\u001b[22m\u001b[0m\u001b[1mn\u001b[22m\n",
      "\n"
     ]
    },
    {
     "data": {
      "text/latex": [
       "\\begin{verbatim}\n",
       "deconv4(w, x; kwargs...)\n",
       "\\end{verbatim}\n",
       "Simulate 4-D deconvolution by using \\emph{transposed convolution} operation. Its forward pass is equivalent to backward pass of a convolution (gradients with respect to input tensor). Likewise, its backward pass (gradients with respect to input tensor) is equivalent to forward pass of a convolution. Since it swaps forward and backward passes of convolution operation, padding and stride options belong to output tensor. See \\href{https://arxiv.org/abs/1603.07285}{this report} for further explanation.\n",
       "\n",
       "If \\texttt{w} has dimensions \\texttt{(W1,W2,...,Cy,Cx)} and \\texttt{x} has dimensions \\texttt{(X1,X2,...,Cx,N)}, the result \\texttt{y=deconv4(w,x)} will have dimensions \\texttt{(Y1,Y2,...,Cy,N)} where\n",
       "\n",
       "\\begin{verbatim}\n",
       "Yi = (Xi - 1)*stride[i] + ((Wi-1)*dilation[i] + 1) - 2*padding[i]\n",
       "\\end{verbatim}\n",
       "Here Cx is the number of x channels, Cy is the number of y channels, N is the number of instances, and Wi,Xi,Yi are spatial dimensions. Padding and stride are keyword arguments that can be specified as a single number (in which case they apply to all dimensions), or an array/tuple with entries for each spatial dimension.\n",
       "\n",
       "\\section{Keywords}\n",
       "\\begin{itemize}\n",
       "\\item \\texttt{padding=0}: the number of extra zeros implicitly concatenated at the start and at the end of each dimension.\n",
       "\n",
       "\n",
       "\\item \\texttt{stride=1}: the number of elements to slide to reach the next filtering window.\n",
       "\n",
       "\n",
       "\\item \\texttt{mode=0}: 0 for convolution and 1 for cross-correlation.\n",
       "\n",
       "\n",
       "\\item \\texttt{alpha=1}: can be used to scale the result.\n",
       "\n",
       "\n",
       "\\item \\texttt{handle}: handle to a previously created cuDNN context. Defaults to a Knet allocated handle.\n",
       "\n",
       "\n",
       "\\item \\texttt{group=1}: can be used to perform grouped convolutions.\n",
       "\n",
       "\\end{itemize}\n"
      ],
      "text/markdown": [
       "```\n",
       "deconv4(w, x; kwargs...)\n",
       "```\n",
       "\n",
       "Simulate 4-D deconvolution by using *transposed convolution* operation. Its forward pass is equivalent to backward pass of a convolution (gradients with respect to input tensor). Likewise, its backward pass (gradients with respect to input tensor) is equivalent to forward pass of a convolution. Since it swaps forward and backward passes of convolution operation, padding and stride options belong to output tensor. See [this report](https://arxiv.org/abs/1603.07285) for further explanation.\n",
       "\n",
       "If `w` has dimensions `(W1,W2,...,Cy,Cx)` and `x` has dimensions `(X1,X2,...,Cx,N)`, the result `y=deconv4(w,x)` will have dimensions `(Y1,Y2,...,Cy,N)` where\n",
       "\n",
       "```\n",
       "Yi = (Xi - 1)*stride[i] + ((Wi-1)*dilation[i] + 1) - 2*padding[i]\n",
       "```\n",
       "\n",
       "Here Cx is the number of x channels, Cy is the number of y channels, N is the number of instances, and Wi,Xi,Yi are spatial dimensions. Padding and stride are keyword arguments that can be specified as a single number (in which case they apply to all dimensions), or an array/tuple with entries for each spatial dimension.\n",
       "\n",
       "# Keywords\n",
       "\n",
       "  * `padding=0`: the number of extra zeros implicitly concatenated at the start and at the end of each dimension.\n",
       "  * `stride=1`: the number of elements to slide to reach the next filtering window.\n",
       "  * `mode=0`: 0 for convolution and 1 for cross-correlation.\n",
       "  * `alpha=1`: can be used to scale the result.\n",
       "  * `handle`: handle to a previously created cuDNN context. Defaults to a Knet allocated handle.\n",
       "  * `group=1`: can be used to perform grouped convolutions.\n"
      ],
      "text/plain": [
       "\u001b[36m  deconv4(w, x; kwargs...)\u001b[39m\n",
       "\n",
       "  Simulate 4-D deconvolution by using \u001b[4mtransposed convolution\u001b[24m operation. Its\n",
       "  forward pass is equivalent to backward pass of a convolution (gradients with\n",
       "  respect to input tensor). Likewise, its backward pass (gradients with\n",
       "  respect to input tensor) is equivalent to forward pass of a convolution.\n",
       "  Since it swaps forward and backward passes of convolution operation, padding\n",
       "  and stride options belong to output tensor. See this report\n",
       "  (https://arxiv.org/abs/1603.07285) for further explanation.\n",
       "\n",
       "  If \u001b[36mw\u001b[39m has dimensions \u001b[36m(W1,W2,...,Cy,Cx)\u001b[39m and \u001b[36mx\u001b[39m has dimensions \u001b[36m(X1,X2,...,Cx,N)\u001b[39m,\n",
       "  the result \u001b[36my=deconv4(w,x)\u001b[39m will have dimensions \u001b[36m(Y1,Y2,...,Cy,N)\u001b[39m where\n",
       "\n",
       "\u001b[36m  Yi = (Xi - 1)*stride[i] + ((Wi-1)*dilation[i] + 1) - 2*padding[i]\u001b[39m\n",
       "\n",
       "  Here Cx is the number of x channels, Cy is the number of y channels, N is\n",
       "  the number of instances, and Wi,Xi,Yi are spatial dimensions. Padding and\n",
       "  stride are keyword arguments that can be specified as a single number (in\n",
       "  which case they apply to all dimensions), or an array/tuple with entries for\n",
       "  each spatial dimension.\n",
       "\n",
       "\u001b[1m  Keywords\u001b[22m\n",
       "\u001b[1m  ≡≡≡≡≡≡≡≡≡≡\u001b[22m\n",
       "\n",
       "    •    \u001b[36mpadding=0\u001b[39m: the number of extra zeros implicitly concatenated at\n",
       "        the start and at the end of each dimension.\n",
       "\n",
       "    •    \u001b[36mstride=1\u001b[39m: the number of elements to slide to reach the next\n",
       "        filtering window.\n",
       "\n",
       "    •    \u001b[36mmode=0\u001b[39m: 0 for convolution and 1 for cross-correlation.\n",
       "\n",
       "    •    \u001b[36malpha=1\u001b[39m: can be used to scale the result.\n",
       "\n",
       "    •    \u001b[36mhandle\u001b[39m: handle to a previously created cuDNN context. Defaults to\n",
       "        a Knet allocated handle.\n",
       "\n",
       "    •    \u001b[36mgroup=1\u001b[39m: can be used to perform grouped convolutions."
      ]
     },
     "execution_count": 483,
     "metadata": {},
     "output_type": "execute_result"
    }
   ],
   "source": [
    "?deconv4"
   ]
  },
  {
   "cell_type": "code",
   "execution_count": 447,
   "metadata": {
    "collapsed": true
   },
   "outputs": [
    {
     "name": "stdout",
     "output_type": "stream",
     "text": [
      "dLoss(D, i, G(z)) = 0.6953708529472351\n",
      "dLoss(D, i, G(z)) = 0.490739107131958\n",
      "dLoss(D, i, G(z)) = 0.5471761226654053\n",
      "dLoss(D, i, G(z)) = 0.15956293046474457\n",
      "dLoss(D, i, G(z)) = 1.9275312423706055\n",
      "dLoss(D, i, G(z)) = 0.030199842527508736\n",
      "dLoss(D, i, G(z)) = 0.03598947077989578\n",
      "dLoss(D, i, G(z)) = 0.019018832594156265\n",
      "dLoss(D, i, G(z)) = 0.003919986076653004\n",
      "dLoss(D, i, G(z)) = 0.0003582388162612915\n",
      "dLoss(D, i, G(z)) = 1.5206959687930066e-5\n",
      "dLoss(D, i, G(z)) = 3.6266439451537735e-7\n",
      "dLoss(D, i, G(z)) = -0.0\n",
      "dLoss(D, i, G(z)) = -0.0\n",
      "dLoss(D, i, G(z)) = -0.0\n",
      "dLoss(D, i, G(z)) = -0.0\n",
      "dLoss(D, i, G(z)) = -0.0\n",
      "dLoss(D, i, G(z)) = -0.0\n",
      "dLoss(D, i, G(z)) = -0.0\n",
      "dLoss(D, i, G(z)) = -0.0\n",
      "dLoss(D, i, G(z)) = -0.0\n",
      "dLoss(D, i, G(z)) = -0.0\n",
      "dLoss(D, i, G(z)) = -0.0\n",
      "dLoss(D, i, G(z)) = -0.0\n",
      "dLoss(D, i, G(z)) = -0.0\n",
      "dLoss(D, i, G(z)) = -0.0\n",
      "dLoss(D, i, G(z)) = -0.0\n",
      "dLoss(D, i, G(z)) = -0.0\n",
      "dLoss(D, i, G(z)) = -0.0\n",
      "dLoss(D, i, G(z)) = -0.0\n",
      "dLoss(D, i, G(z)) = -0.0\n",
      "dLoss(D, i, G(z)) = -0.0\n",
      "dLoss(D, i, G(z)) = -0.0\n",
      "dLoss(D, i, G(z)) = -0.0\n",
      "dLoss(D, i, G(z)) = -0.0\n",
      "dLoss(D, i, G(z)) = -0.0\n",
      "dLoss(D, i, G(z)) = -0.0\n",
      "dLoss(D, i, G(z)) = -0.0\n",
      "dLoss(D, i, G(z)) = -0.0\n",
      "dLoss(D, i, G(z)) = -0.0\n",
      "dLoss(D, i, G(z)) = -0.0\n",
      "dLoss(D, i, G(z)) = -0.0\n",
      "dLoss(D, i, G(z)) = -0.0\n",
      "dLoss(D, i, G(z)) = -0.0\n",
      "dLoss(D, i, G(z)) = -0.0\n",
      "dLoss(D, i, G(z)) = -0.0\n",
      "dLoss(D, i, G(z)) = -0.0\n",
      "dLoss(D, i, G(z)) = -0.0\n",
      "dLoss(D, i, G(z)) = -0.0\n",
      "dLoss(D, i, G(z)) = -0.0\n",
      "dLoss(D, i, G(z)) = -0.0\n",
      "dLoss(D, i, G(z)) = -0.0\n",
      "dLoss(D, i, G(z)) = -0.0\n",
      "dLoss(D, i, G(z)) = -0.0\n",
      "dLoss(D, i, G(z)) = -0.0\n",
      "dLoss(D, i, G(z)) = -0.0\n",
      "dLoss(D, i, G(z)) = -0.0\n",
      "dLoss(D, i, G(z)) = -0.0\n",
      "dLoss(D, i, G(z)) = -0.0\n",
      "dLoss(D, i, G(z)) = -0.0\n",
      "dLoss(D, i, G(z)) = -0.0\n",
      "dLoss(D, i, G(z)) = -0.0\n",
      "dLoss(D, i, G(z)) = -0.0\n",
      "dLoss(D, i, G(z)) = -0.0\n",
      "dLoss(D, i, G(z)) = -0.0\n",
      "dLoss(D, i, G(z)) = -0.0\n",
      "dLoss(D, i, G(z)) = -0.0\n",
      "dLoss(D, i, G(z)) = -0.0\n",
      "dLoss(D, i, G(z)) = -0.0\n",
      "dLoss(D, i, G(z)) = -0.0\n",
      "dLoss(D, i, G(z)) = -0.0\n",
      "dLoss(D, i, G(z)) = -0.0\n",
      "dLoss(D, i, G(z)) = -0.0\n",
      "dLoss(D, i, G(z)) = -0.0\n",
      "dLoss(D, i, G(z)) = -0.0\n",
      "dLoss(D, i, G(z)) = -0.0\n",
      "dLoss(D, i, G(z)) = -0.0\n",
      "dLoss(D, i, G(z)) = -0.0\n",
      "dLoss(D, i, G(z)) = -0.0\n",
      "dLoss(D, i, G(z)) = -0.0\n",
      "dLoss(D, i, G(z)) = -0.0\n",
      "dLoss(D, i, G(z)) = -0.0\n",
      "dLoss(D, i, G(z)) = -0.0\n",
      "dLoss(D, i, G(z)) = -0.0\n",
      "dLoss(D, i, G(z)) = -0.0\n",
      "dLoss(D, i, G(z)) = -0.0\n",
      "dLoss(D, i, G(z)) = -0.0\n",
      "dLoss(D, i, G(z)) = -0.0\n",
      "dLoss(D, i, G(z)) = -0.0\n",
      "dLoss(D, i, G(z)) = -0.0\n",
      "dLoss(D, i, G(z)) = -0.0\n",
      "dLoss(D, i, G(z)) = -0.0\n",
      "dLoss(D, i, G(z)) = -0.0\n",
      "dLoss(D, i, G(z)) = -0.0\n",
      "dLoss(D, i, G(z)) = -0.0\n",
      "dLoss(D, i, G(z)) = -0.0\n",
      "dLoss(D, i, G(z)) = -0.0\n",
      "dLoss(D, i, G(z)) = -0.0\n",
      "dLoss(D, i, G(z)) = -0.0\n",
      "dLoss(D, i, G(z)) = -0.0\n",
      "dLoss(D, i, G(z)) = -0.0\n",
      "dLoss(D, i, G(z)) = -0.0\n",
      "dLoss(D, i, G(z)) = -0.0\n",
      "dLoss(D, i, G(z)) = -0.0\n",
      "dLoss(D, i, G(z)) = -0.0\n",
      "dLoss(D, i, G(z)) = -0.0\n",
      "dLoss(D, i, G(z)) = -0.0\n",
      "dLoss(D, i, G(z)) = -0.0\n",
      "dLoss(D, i, G(z)) = -0.0\n",
      "dLoss(D, i, G(z)) = -0.0"
     ]
    },
    {
     "ename": "LoadError",
     "evalue": "InterruptException:",
     "output_type": "error",
     "traceback": [
      "InterruptException:",
      "",
      "Stacktrace:",
      " [1] try_yieldto(::typeof(Base.ensure_rescheduled)) at .\\task.jl:656",
      " [2] wait at .\\task.jl:713 [inlined]",
      " [3] uv_write(::Base.PipeEndpoint, ::Ptr{UInt8}, ::UInt64) at .\\stream.jl:933",
      " [4] unsafe_write(::Base.PipeEndpoint, ::Ptr{UInt8}, ::UInt64) at .\\stream.jl:1005",
      " [5] unsafe_write at .\\io.jl:337 [inlined]",
      " [6] write at .\\strings\\io.jl:183 [inlined]",
      " [7] print(::IJulia.IJuliaStdio{Base.PipeEndpoint}, ::String) at .\\strings\\io.jl:185",
      " [8] print(::IJulia.IJuliaStdio{Base.PipeEndpoint}, ::String, ::String, ::Vararg{Any,N} where N) at .\\strings\\io.jl:46",
      " [9] println(::IJulia.IJuliaStdio{Base.PipeEndpoint}, ::String, ::Vararg{String,N} where N) at .\\strings\\io.jl:73",
      " [10] println(::String, ::String) at .\\coreio.jl:4",
      " [11] top-level scope at .\\In[447]:3",
      " [12] include_string(::Function, ::Module, ::String, ::String) at .\\loading.jl:1091",
      " [13] execute_code(::String, ::String) at C:\\Users\\basit\\.julia\\packages\\IJulia\\rWZ9e\\src\\execute_request.jl:27",
      " [14] execute_request(::ZMQ.Socket, ::IJulia.Msg) at C:\\Users\\basit\\.julia\\packages\\IJulia\\rWZ9e\\src\\execute_request.jl:86",
      " [15] #invokelatest#1 at .\\essentials.jl:710 [inlined]",
      " [16] invokelatest at .\\essentials.jl:709 [inlined]",
      " [17] eventloop(::ZMQ.Socket) at C:\\Users\\basit\\.julia\\packages\\IJulia\\rWZ9e\\src\\eventloop.jl:8",
      " [18] (::IJulia.var\"#15#18\")() at .\\task.jl:356"
     ]
    }
   ],
   "source": [
    "# for i in ncycle(take(clevrDataset1,20), 100)\n",
    "#     z = Z2(16,16,16*64,1)\n",
    "#     @show dLoss(D, i, G(z))\n",
    "# #     adam!(gLoss, [(G, D, z)], params=params(G))\n",
    "#     adam!(dLoss, [(D, i, G(z))])#, params=params(D))\n",
    "# end\n"
   ]
  },
  {
   "cell_type": "code",
   "execution_count": 480,
   "metadata": {},
   "outputs": [
    {
     "data": {
      "text/plain": [
       "main (generic function with 1 method)"
      ]
     },
     "execution_count": 480,
     "metadata": {},
     "output_type": "execute_result"
    }
   ],
   "source": [
    "function main()\n",
    "    clevrDataset = ClevrData(singleObj)\n",
    "#     G = Generator2(Dense(128, 12288), Reshape1())\n",
    "#     D = Discriminator2(Reshape2(), Dense(12288, 1, sigm))\n",
    "#     loss_g = []\n",
    "#     loss_d = []\n",
    "    i = 1\n",
    "    for real_image in ncycle(take(clevrDataset,20), 100)\n",
    "        z = Z2(16,16,16*64,1)\n",
    "        if i % 25 == 0\n",
    "        adam!(dLoss, [(D, real_image, G(z))])#, params=params(D))\n",
    "        end\n",
    "#         if i % 5 == 0\n",
    "        adam!(gLoss, [(G, D, z)], params=params(G))\n",
    "#         end\n",
    "        if i % 100 == 0\n",
    "            push!(loss_g, gLoss(G, D, z))\n",
    "            push!(loss_d, dLoss(D, real_image, G(z)))\n",
    "            print(\"$(i): GenLoss: \");print(loss_g[end])\n",
    "            print(\"    DisLoss: \");println(loss_d[end])\n",
    "        end\n",
    "        i += 1\n",
    "    end\n",
    "end"
   ]
  },
  {
   "cell_type": "code",
   "execution_count": 481,
   "metadata": {
    "collapsed": true
   },
   "outputs": [
    {
     "name": "stdout",
     "output_type": "stream",
     "text": [
      "100: GenLoss: 9.027029037475586"
     ]
    },
    {
     "ename": "LoadError",
     "evalue": "InterruptException:",
     "output_type": "error",
     "traceback": [
      "InterruptException:",
      "",
      "Stacktrace:",
      " [1] try_yieldto(::typeof(Base.ensure_rescheduled)) at .\\task.jl:656",
      " [2] wait at .\\task.jl:713 [inlined]",
      " [3] uv_write(::Base.PipeEndpoint, ::Ptr{UInt8}, ::UInt64) at .\\stream.jl:933",
      " [4] unsafe_write(::Base.PipeEndpoint, ::Ptr{UInt8}, ::UInt64) at .\\stream.jl:1005",
      " [5] unsafe_write at .\\io.jl:337 [inlined]",
      " [6] unsafe_write at .\\io.jl:622 [inlined]",
      " [7] write at .\\io.jl:645 [inlined]",
      " [8] show(::IJulia.IJuliaStdio{Base.PipeEndpoint}, ::Float64, ::Bool, ::Bool) at .\\ryu\\Ryu.jl:117",
      " [9] show at .\\ryu\\Ryu.jl:112 [inlined]",
      " [10] print(::IJulia.IJuliaStdio{Base.PipeEndpoint}, ::Float64) at .\\strings\\io.jl:35",
      " [11] print(::Float64) at .\\coreio.jl:3",
      " [12] main() at .\\In[480]:19",
      " [13] top-level scope at In[481]:2",
      " [14] include_string(::Function, ::Module, ::String, ::String) at .\\loading.jl:1091",
      " [15] execute_code(::String, ::String) at C:\\Users\\basit\\.julia\\packages\\IJulia\\rWZ9e\\src\\execute_request.jl:27",
      " [16] execute_request(::ZMQ.Socket, ::IJulia.Msg) at C:\\Users\\basit\\.julia\\packages\\IJulia\\rWZ9e\\src\\execute_request.jl:86",
      " [17] #invokelatest#1 at .\\essentials.jl:710 [inlined]",
      " [18] invokelatest at .\\essentials.jl:709 [inlined]",
      " [19] eventloop(::ZMQ.Socket) at C:\\Users\\basit\\.julia\\packages\\IJulia\\rWZ9e\\src\\eventloop.jl:8",
      " [20] eventloop(::ZMQ.Socket) at C:\\Users\\basit\\.julia\\packages\\IJulia\\rWZ9e\\src\\eventloop.jl:28 (repeats 3 times)",
      " [21] (::IJulia.var\"#15#18\")() at .\\task.jl:356"
     ]
    }
   ],
   "source": [
    "Random.seed!(123678)\n",
    "main()"
   ]
  },
  {
   "cell_type": "code",
   "execution_count": 478,
   "metadata": {},
   "outputs": [
    {
     "data": {
      "image/png": "[encoded data removed]",
      "text/plain": [
       "Figure(PyObject <Figure size 640x480 with 1 Axes>)"
      ]
     },
     "metadata": {},
     "output_type": "display_data"
    },
    {
     "data": {
      "text/plain": [
       "PyObject <matplotlib.image.AxesImage object at 0x000000009A911A00>"
      ]
     },
     "execution_count": 478,
     "metadata": {},
     "output_type": "execute_result"
    }
   ],
   "source": [
    "img = G(Z2(16,16,16*64,1))[:,:,:,1]\n",
    "img = convert(Array{Float32}, value(img))\n",
    "imshow(img)"
   ]
  },
  {
   "cell_type": "code",
   "execution_count": 144,
   "metadata": {},
   "outputs": [],
   "source": [
    "img = img ./ maximum(img);\n",
    "#imshow(img);"
   ]
  },
  {
   "cell_type": "code",
   "execution_count": 136,
   "metadata": {},
   "outputs": [
    {
     "data": {
      "image/png": "[encoded data removed]",
      "text/plain": [
       "Figure(PyObject <Figure size 640x480 with 1 Axes>)"
      ]
     },
     "metadata": {},
     "output_type": "display_data"
    },
    {
     "data": {
      "text/plain": [
       "PyObject <matplotlib.image.AxesImage object at 0x0000000063D62460>"
      ]
     },
     "execution_count": 136,
     "metadata": {},
     "output_type": "execute_result"
    }
   ],
   "source": [
    "clevrDataset1 = ClevrData(singleObj)1\n",
    "img1= first(take(clevrDataset1, 1))[:,:,:,1]\n",
    "img1 = convert(Array{Float32}, value(img1))\n",
    "imshow(img1)"
   ]
  },
  {
   "cell_type": "code",
   "execution_count": 467,
   "metadata": {},
   "outputs": [
    {
     "data": {
      "text/plain": [
       "1×1 KnetArray{Float32,2}:\n",
       " 0.49700376"
      ]
     },
     "execution_count": 467,
     "metadata": {},
     "output_type": "execute_result"
    }
   ],
   "source": [
    "D(first(take(clevrDataset1, 1)))"
   ]
  },
  {
   "cell_type": "code",
   "execution_count": 555,
   "metadata": {},
   "outputs": [],
   "source": [
    "# a = Deconv2(4,4,4,128,512)\n",
    "# a(param(4,4,4,512,1))\n",
    "# b = Deconv2(4,4,4,64,128)\n",
    "# b(a(param(4,4,4,512,1)))"
   ]
  },
  {
   "cell_type": "code",
   "execution_count": 554,
   "metadata": {},
   "outputs": [],
   "source": [
    "# background = ObjectGenerator()\n",
    "# foreground = ObjectGenerator()\n",
    "# composedScene = max.(background, foreground)\n",
    "# concat = reshape(composedScene, (16,16,16*64,1))\n",
    "# c1 = Conv(1,1,1024,64)\n",
    "# projected = c1(concat)"
   ]
  },
  {
   "cell_type": "code",
   "execution_count": 545,
   "metadata": {},
   "outputs": [],
   "source": [
    "# Random.seed!(1234)\n",
    "# loss_g = []\n",
    "# loss_d = []\n",
    "# moments1 = bnmoments()\n",
    "# params1 = param(bnparams(3))\n",
    "# G = Generator2(Dense(128, 12288, sigm), Reshape1())\n",
    "# D = Discriminator2(Conv(5,5,3,64,leakyRelu), Dense(65536, 1, sigm))"
   ]
  },
  {
   "cell_type": "code",
   "execution_count": 546,
   "metadata": {},
   "outputs": [],
   "source": [
    "# a = Conv(5,5,3,64)\n",
    "# b = Conv(5,5,64,128)\n",
    "# c = Conv(5,5,128,256)\n",
    "# d = Conv(5,5,256,512)\n",
    "# e = Dense(4*4*512,1,sigm)\n",
    "# e(d(c(b(a(param(64,64,3,1))))))"
   ]
  },
  {
   "cell_type": "code",
   "execution_count": 547,
   "metadata": {},
   "outputs": [],
   "source": [
    "# a = Conv(1,1,1024,64)\n",
    "# a(param(randn(16,16,1024,1)))"
   ]
  },
  {
   "cell_type": "code",
   "execution_count": 548,
   "metadata": {},
   "outputs": [],
   "source": [
    "# e = a(Z2(16,16,16*64,1))\n",
    "# f = b(e)\n",
    "# g = b(f)\n",
    "# h = c(g)"
   ]
  },
  {
   "cell_type": "code",
   "execution_count": 549,
   "metadata": {},
   "outputs": [],
   "source": [
    "# a = Deconv2(4,4,64,16*64)\n",
    "\n",
    "# a(param(16,16,16*64,1))"
   ]
  },
  {
   "cell_type": "code",
   "execution_count": 550,
   "metadata": {},
   "outputs": [],
   "source": [
    "# x = randn(16, 16, 16*64, 1)\n",
    "# w = randn(4, 4, 64, 16*64)\n",
    "# y = deconv4(w, x, stride = 2, padding = 1)"
   ]
  },
  {
   "cell_type": "code",
   "execution_count": 551,
   "metadata": {},
   "outputs": [],
   "source": [
    "# a = 3\n",
    "# a(param(randn(16,16,1024,1)))"
   ]
  },
  {
   "cell_type": "code",
   "execution_count": 552,
   "metadata": {},
   "outputs": [],
   "source": [
    "# a = Deconv(1,1,64,16*64)\n",
    "# a(param(16,16,16*64,1))\n",
    "# b = Deconv2(4,4,64,64)\n",
    "# b(b(param(16,16,64,1)))\n",
    "# c = Deconv3(5,5,3,64)\n",
    "# c(param(64,64,64,1))"
   ]
  },
  {
   "cell_type": "code",
   "execution_count": 553,
   "metadata": {},
   "outputs": [],
   "source": [
    "# function make_minibatch(names, batchSize = 128)\n",
    "#     rem = mod(length(names), batchSize)\n",
    "#     names = reshape(names[1:end-rem], :, batchSize)\n",
    "# end\n",
    "\n",
    "# batches = make_minibatch(singleObj, 64)\n",
    "# batch = load_batch(batches, 1)"
   ]
  }
 ],
 "metadata": {
  "kernelspec": {
   "display_name": "Julia 1.5.2",
   "language": "julia",
   "name": "julia-1.5"
  },
  "language_info": {
   "file_extension": ".jl",
   "mimetype": "application/julia",
   "name": "julia",
   "version": "1.5.2"
  }
 },
 "nbformat": 4,
 "nbformat_minor": 2
}
