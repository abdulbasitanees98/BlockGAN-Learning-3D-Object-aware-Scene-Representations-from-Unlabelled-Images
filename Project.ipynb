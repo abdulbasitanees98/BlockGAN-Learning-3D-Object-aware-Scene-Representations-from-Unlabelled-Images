{
 "cells": [
  {
   "cell_type": "code",
   "execution_count": 1,
   "metadata": {},
   "outputs": [],
   "source": [
    "using Knet\n",
    "using AutoGrad\n",
    "using Images\n",
    "using ImageMagick\n",
    "using Random\n",
    "using Statistics\n",
    "import Base: length, size, iterate, eltype, IteratorSize, IteratorEltype, haslength, @propagate_inbounds, repeat, rand, tail\n",
    "import .Iterators: cycle, Cycle, take\n"
   ]
  },
  {
   "cell_type": "markdown",
   "metadata": {},
   "source": [
    "Start by loading list of images to be used"
   ]
  },
  {
   "cell_type": "code",
   "execution_count": 3,
   "metadata": {
    "collapsed": true
   },
   "outputs": [
    {
     "data": {
      "text/plain": [
       "60023-element Array{String,1}:\n",
       " \".ipynb_checkpoints\"\n",
       " \"CLEVR_test_000000.png\"\n",
       " \"CLEVR_test_000000_0.png\"\n",
       " \"CLEVR_test_000000_1.png\"\n",
       " \"CLEVR_test_000000_2.png\"\n",
       " \"CLEVR_test_000000_3.png\"\n",
       " \"CLEVR_test_000000_4.png\"\n",
       " \"CLEVR_test_000001.png\"\n",
       " \"CLEVR_test_000001_0.png\"\n",
       " \"CLEVR_test_000001_1.png\"\n",
       " \"CLEVR_test_000001_2.png\"\n",
       " \"CLEVR_test_000001_3.png\"\n",
       " \"CLEVR_test_000001_4.png\"\n",
       " ⋮\n",
       " \"CLEVR_val_001998.png\"\n",
       " \"CLEVR_val_001998_0.png\"\n",
       " \"CLEVR_val_001998_1.png\"\n",
       " \"CLEVR_val_001998_2.png\"\n",
       " \"CLEVR_val_001998_3.png\"\n",
       " \"CLEVR_val_001998_4.png\"\n",
       " \"CLEVR_val_001999.png\"\n",
       " \"CLEVR_val_001999_0.png\"\n",
       " \"CLEVR_val_001999_1.png\"\n",
       " \"CLEVR_val_001999_2.png\"\n",
       " \"CLEVR_val_001999_3.png\"\n",
       " \"CLEVR_val_001999_4.png\""
      ]
     },
     "execution_count": 3,
     "metadata": {},
     "output_type": "execute_result"
    }
   ],
   "source": [
    "dataPath = \"GeNeVA-v1\\\\i-CLEVR\\\\images\"\n",
    "files = readdir(dataPath)"
   ]
  },
  {
   "cell_type": "markdown",
   "metadata": {},
   "source": [
    "Select images containing single object"
   ]
  },
  {
   "cell_type": "code",
   "execution_count": 4,
   "metadata": {
    "collapsed": true
   },
   "outputs": [
    {
     "data": {
      "text/plain": [
       "10004-element Array{String,1}:\n",
       " \"GeNeVA-v1\\\\i-CLEVR\\\\images\\\\CLEVR_test_000000_0.png\"\n",
       " \"GeNeVA-v1\\\\i-CLEVR\\\\images\\\\CLEVR_test_000001_0.png\"\n",
       " \"GeNeVA-v1\\\\i-CLEVR\\\\images\\\\CLEVR_test_000002_0.png\"\n",
       " \"GeNeVA-v1\\\\i-CLEVR\\\\images\\\\CLEVR_test_000003_0.png\"\n",
       " \"GeNeVA-v1\\\\i-CLEVR\\\\images\\\\CLEVR_test_000004_0.png\"\n",
       " \"GeNeVA-v1\\\\i-CLEVR\\\\images\\\\CLEVR_test_000005_0.png\"\n",
       " \"GeNeVA-v1\\\\i-CLEVR\\\\images\\\\CLEVR_test_000006_0.png\"\n",
       " \"GeNeVA-v1\\\\i-CLEVR\\\\images\\\\CLEVR_test_000007_0.png\"\n",
       " \"GeNeVA-v1\\\\i-CLEVR\\\\images\\\\CLEVR_test_000008_0.png\"\n",
       " \"GeNeVA-v1\\\\i-CLEVR\\\\images\\\\CLEVR_test_000009_0.png\"\n",
       " \"GeNeVA-v1\\\\i-CLEVR\\\\images\\\\CLEVR_test_000010_0.png\"\n",
       " \"GeNeVA-v1\\\\i-CLEVR\\\\images\\\\CLEVR_test_000011_0.png\"\n",
       " \"GeNeVA-v1\\\\i-CLEVR\\\\images\\\\CLEVR_test_000012_0.png\"\n",
       " ⋮\n",
       " \"GeNeVA-v1\\\\i-CLEVR\\\\images\\\\CLEVR_val_001988_0.png\"\n",
       " \"GeNeVA-v1\\\\i-CLEVR\\\\images\\\\CLEVR_val_001989_0.png\"\n",
       " \"GeNeVA-v1\\\\i-CLEVR\\\\images\\\\CLEVR_val_001990_0.png\"\n",
       " \"GeNeVA-v1\\\\i-CLEVR\\\\images\\\\CLEVR_val_001991_0.png\"\n",
       " \"GeNeVA-v1\\\\i-CLEVR\\\\images\\\\CLEVR_val_001992_0.png\"\n",
       " \"GeNeVA-v1\\\\i-CLEVR\\\\images\\\\CLEVR_val_001993_0.png\"\n",
       " \"GeNeVA-v1\\\\i-CLEVR\\\\images\\\\CLEVR_val_001994_0.png\"\n",
       " \"GeNeVA-v1\\\\i-CLEVR\\\\images\\\\CLEVR_val_001995_0.png\"\n",
       " \"GeNeVA-v1\\\\i-CLEVR\\\\images\\\\CLEVR_val_001996_0.png\"\n",
       " \"GeNeVA-v1\\\\i-CLEVR\\\\images\\\\CLEVR_val_001997_0.png\"\n",
       " \"GeNeVA-v1\\\\i-CLEVR\\\\images\\\\CLEVR_val_001998_0.png\"\n",
       " \"GeNeVA-v1\\\\i-CLEVR\\\\images\\\\CLEVR_val_001999_0.png\""
      ]
     },
     "execution_count": 4,
     "metadata": {},
     "output_type": "execute_result"
    }
   ],
   "source": [
    "singleObj = files[endswith.(files, \"_0.png\")]\n",
    "singleObj = [\"$(dataPath)\\\\$(file)\" for file in singleObj]"
   ]
  },
  {
   "cell_type": "markdown",
   "metadata": {},
   "source": [
    "Create iterator for Clevr Dataset"
   ]
  },
  {
   "cell_type": "code",
   "execution_count": 5,
   "metadata": {},
   "outputs": [],
   "source": [
    "struct ClevrData\n",
    "    files\n",
    "    batchsize::Int\n",
    "    #shuffle::Bool\n",
    "    num_instances::Int\n",
    "\n",
    "    function ClevrData(files; batchsize::Int=64) #shuffle::Bool=false)\n",
    "        new(files, batchsize, length(files))\n",
    "    end\n",
    "end"
   ]
  },
  {
   "cell_type": "code",
   "execution_count": 6,
   "metadata": {},
   "outputs": [
    {
     "data": {
      "text/plain": [
       "length (generic function with 204 methods)"
      ]
     },
     "execution_count": 6,
     "metadata": {},
     "output_type": "execute_result"
    }
   ],
   "source": [
    "function length(d::ClevrData)\n",
    "    nFullBatches, rem = divrem(d.num_instances, d.batchsize)\n",
    "    nFullBatches + (rem > 0)*1\n",
    "end"
   ]
  },
  {
   "cell_type": "code",
   "execution_count": 7,
   "metadata": {},
   "outputs": [
    {
     "data": {
      "text/plain": [
       "load_batch (generic function with 1 method)"
      ]
     },
     "execution_count": 7,
     "metadata": {},
     "output_type": "execute_result"
    }
   ],
   "source": [
    "function load_image(filename)\n",
    "    img = load(filename)\n",
    "    img = imresize(img, (64,64))\n",
    "    img = Float64.(channelview(img))\n",
    "    img = img[1:3,:,:]\n",
    "end\n",
    "\n",
    "function load_batch(batches, i)\n",
    "    #batch = [load_image(image) for image in batches[i,:]]\n",
    "    batch = load_image.(batches[i,:])\n",
    "end"
   ]
  },
  {
   "cell_type": "code",
   "execution_count": 14,
   "metadata": {},
   "outputs": [
    {
     "data": {
      "text/plain": [
       "iterate (generic function with 422 methods)"
      ]
     },
     "execution_count": 14,
     "metadata": {},
     "output_type": "execute_result"
    }
   ],
   "source": [
    "function iterate(d::ClevrData, state=collect(1:d.num_instances))\n",
    "    if length(state) > 0\n",
    "        batch = d.files[state[1:(length(state) < d.batchsize ? end : d.batchsize)]]\n",
    "        state  = state[d.batchsize+1:end]\n",
    "        return (load_image.(batch)), state\n",
    "    end\n",
    "end"
   ]
  },
  {
   "cell_type": "code",
   "execution_count": 17,
   "metadata": {
    "collapsed": true
   },
   "outputs": [
    {
     "data": {
      "text/plain": [
       "ClevrData([\"GeNeVA-v1\\\\i-CLEVR\\\\images\\\\CLEVR_test_000000_0.png\", \"GeNeVA-v1\\\\i-CLEVR\\\\images\\\\CLEVR_test_000001_0.png\", \"GeNeVA-v1\\\\i-CLEVR\\\\images\\\\CLEVR_test_000002_0.png\", \"GeNeVA-v1\\\\i-CLEVR\\\\images\\\\CLEVR_test_000003_0.png\", \"GeNeVA-v1\\\\i-CLEVR\\\\images\\\\CLEVR_test_000004_0.png\", \"GeNeVA-v1\\\\i-CLEVR\\\\images\\\\CLEVR_test_000005_0.png\", \"GeNeVA-v1\\\\i-CLEVR\\\\images\\\\CLEVR_test_000006_0.png\", \"GeNeVA-v1\\\\i-CLEVR\\\\images\\\\CLEVR_test_000007_0.png\", \"GeNeVA-v1\\\\i-CLEVR\\\\images\\\\CLEVR_test_000008_0.png\", \"GeNeVA-v1\\\\i-CLEVR\\\\images\\\\CLEVR_test_000009_0.png\"  …  \"GeNeVA-v1\\\\i-CLEVR\\\\images\\\\CLEVR_val_001990_0.png\", \"GeNeVA-v1\\\\i-CLEVR\\\\images\\\\CLEVR_val_001991_0.png\", \"GeNeVA-v1\\\\i-CLEVR\\\\images\\\\CLEVR_val_001992_0.png\", \"GeNeVA-v1\\\\i-CLEVR\\\\images\\\\CLEVR_val_001993_0.png\", \"GeNeVA-v1\\\\i-CLEVR\\\\images\\\\CLEVR_val_001994_0.png\", \"GeNeVA-v1\\\\i-CLEVR\\\\images\\\\CLEVR_val_001995_0.png\", \"GeNeVA-v1\\\\i-CLEVR\\\\images\\\\CLEVR_val_001996_0.png\", \"GeNeVA-v1\\\\i-CLEVR\\\\images\\\\CLEVR_val_001997_0.png\", \"GeNeVA-v1\\\\i-CLEVR\\\\images\\\\CLEVR_val_001998_0.png\", \"GeNeVA-v1\\\\i-CLEVR\\\\images\\\\CLEVR_val_001999_0.png\"], 128, 10004)"
      ]
     },
     "execution_count": 17,
     "metadata": {},
     "output_type": "execute_result"
    }
   ],
   "source": [
    "clevrDataset = ClevrData(singleObj)"
   ]
  },
  {
   "cell_type": "code",
   "execution_count": 18,
   "metadata": {
    "collapsed": true
   },
   "outputs": [
    {
     "name": "stdout",
     "output_type": "stream",
     "text": [
      "128\n",
      "128\n",
      "128\n",
      "128\n",
      "128\n",
      "128\n",
      "128\n",
      "128\n",
      "128\n",
      "128\n",
      "128\n",
      "128\n",
      "128\n",
      "128\n",
      "128\n",
      "128\n",
      "128\n",
      "128\n",
      "128\n",
      "128\n",
      "128\n",
      "128\n",
      "128\n",
      "128\n",
      "128\n",
      "128\n",
      "128\n",
      "128\n",
      "128\n",
      "128\n",
      "128\n",
      "128\n",
      "128\n",
      "128\n",
      "128\n",
      "128\n",
      "128\n",
      "128\n",
      "128\n",
      "128\n",
      "128\n",
      "128\n",
      "128\n",
      "128\n",
      "128\n",
      "128\n",
      "128\n",
      "128\n",
      "128\n",
      "128\n",
      "128\n",
      "128\n",
      "128\n",
      "128\n",
      "128\n",
      "128\n",
      "128\n",
      "128\n",
      "128\n",
      "128\n",
      "128\n",
      "128\n",
      "128\n",
      "128\n",
      "128\n",
      "128\n",
      "128\n",
      "128\n",
      "128\n",
      "128\n",
      "128\n",
      "128\n",
      "128\n",
      "128\n",
      "128\n",
      "128\n",
      "128\n",
      "128\n",
      "20\n"
     ]
    }
   ],
   "source": [
    "for batch in clevrDataset\n",
    "    println(length(batch))\n",
    "end"
   ]
  },
  {
   "cell_type": "code",
   "execution_count": null,
   "metadata": {},
   "outputs": [],
   "source": []
  },
  {
   "cell_type": "code",
   "execution_count": null,
   "metadata": {},
   "outputs": [],
   "source": [
    "function gLoss(G::Generator, D::Discriminator, z)\n",
    "    yPr = D(G(z))\n",
    "    return -0.5*mean(log.(yPr))\n",
    "end"
   ]
  },
  {
   "cell_type": "code",
   "execution_count": null,
   "metadata": {},
   "outputs": [],
   "source": [
    "function dLoss(D::Discriminator, realIms, fakeIms)\n",
    "    realLoss = -mean(log.(D(realIms)))\n",
    "    fakeLoss = -mean(log.(1 .- D(fakeIms)))\n",
    "    return 0.5*(realLoss+fakeLoss)\n",
    "end"
   ]
  },
  {
   "cell_type": "code",
   "execution_count": 8,
   "metadata": {
    "collapsed": true
   },
   "outputs": [
    {
     "data": {
      "text/plain": [
       "156×64 Array{String,2}:\n",
       " \"GeNeVA-v1\\\\i-CLEVR\\\\images\\\\CLEVR_test_000000_0.png\"  …  \"GeNeVA-v1\\\\i-CLEVR\\\\images\\\\CLEVR_val_001824_0.png\"\n",
       " \"GeNeVA-v1\\\\i-CLEVR\\\\images\\\\CLEVR_test_000001_0.png\"     \"GeNeVA-v1\\\\i-CLEVR\\\\images\\\\CLEVR_val_001825_0.png\"\n",
       " \"GeNeVA-v1\\\\i-CLEVR\\\\images\\\\CLEVR_test_000002_0.png\"     \"GeNeVA-v1\\\\i-CLEVR\\\\images\\\\CLEVR_val_001826_0.png\"\n",
       " \"GeNeVA-v1\\\\i-CLEVR\\\\images\\\\CLEVR_test_000003_0.png\"     \"GeNeVA-v1\\\\i-CLEVR\\\\images\\\\CLEVR_val_001827_0.png\"\n",
       " \"GeNeVA-v1\\\\i-CLEVR\\\\images\\\\CLEVR_test_000004_0.png\"     \"GeNeVA-v1\\\\i-CLEVR\\\\images\\\\CLEVR_val_001828_0.png\"\n",
       " \"GeNeVA-v1\\\\i-CLEVR\\\\images\\\\CLEVR_test_000005_0.png\"  …  \"GeNeVA-v1\\\\i-CLEVR\\\\images\\\\CLEVR_val_001829_0.png\"\n",
       " \"GeNeVA-v1\\\\i-CLEVR\\\\images\\\\CLEVR_test_000006_0.png\"     \"GeNeVA-v1\\\\i-CLEVR\\\\images\\\\CLEVR_val_001830_0.png\"\n",
       " \"GeNeVA-v1\\\\i-CLEVR\\\\images\\\\CLEVR_test_000007_0.png\"     \"GeNeVA-v1\\\\i-CLEVR\\\\images\\\\CLEVR_val_001831_0.png\"\n",
       " \"GeNeVA-v1\\\\i-CLEVR\\\\images\\\\CLEVR_test_000008_0.png\"     \"GeNeVA-v1\\\\i-CLEVR\\\\images\\\\CLEVR_val_001832_0.png\"\n",
       " \"GeNeVA-v1\\\\i-CLEVR\\\\images\\\\CLEVR_test_000009_0.png\"     \"GeNeVA-v1\\\\i-CLEVR\\\\images\\\\CLEVR_val_001833_0.png\"\n",
       " \"GeNeVA-v1\\\\i-CLEVR\\\\images\\\\CLEVR_test_000010_0.png\"  …  \"GeNeVA-v1\\\\i-CLEVR\\\\images\\\\CLEVR_val_001834_0.png\"\n",
       " \"GeNeVA-v1\\\\i-CLEVR\\\\images\\\\CLEVR_test_000011_0.png\"     \"GeNeVA-v1\\\\i-CLEVR\\\\images\\\\CLEVR_val_001835_0.png\"\n",
       " \"GeNeVA-v1\\\\i-CLEVR\\\\images\\\\CLEVR_test_000012_0.png\"     \"GeNeVA-v1\\\\i-CLEVR\\\\images\\\\CLEVR_val_001836_0.png\"\n",
       " ⋮                                                      ⋱  \n",
       " \"GeNeVA-v1\\\\i-CLEVR\\\\images\\\\CLEVR_test_000144_0.png\"     \"GeNeVA-v1\\\\i-CLEVR\\\\images\\\\CLEVR_val_001968_0.png\"\n",
       " \"GeNeVA-v1\\\\i-CLEVR\\\\images\\\\CLEVR_test_000145_0.png\"  …  \"GeNeVA-v1\\\\i-CLEVR\\\\images\\\\CLEVR_val_001969_0.png\"\n",
       " \"GeNeVA-v1\\\\i-CLEVR\\\\images\\\\CLEVR_test_000146_0.png\"     \"GeNeVA-v1\\\\i-CLEVR\\\\images\\\\CLEVR_val_001970_0.png\"\n",
       " \"GeNeVA-v1\\\\i-CLEVR\\\\images\\\\CLEVR_test_000147_0.png\"     \"GeNeVA-v1\\\\i-CLEVR\\\\images\\\\CLEVR_val_001971_0.png\"\n",
       " \"GeNeVA-v1\\\\i-CLEVR\\\\images\\\\CLEVR_test_000148_0.png\"     \"GeNeVA-v1\\\\i-CLEVR\\\\images\\\\CLEVR_val_001972_0.png\"\n",
       " \"GeNeVA-v1\\\\i-CLEVR\\\\images\\\\CLEVR_test_000149_0.png\"     \"GeNeVA-v1\\\\i-CLEVR\\\\images\\\\CLEVR_val_001973_0.png\"\n",
       " \"GeNeVA-v1\\\\i-CLEVR\\\\images\\\\CLEVR_test_000150_0.png\"  …  \"GeNeVA-v1\\\\i-CLEVR\\\\images\\\\CLEVR_val_001974_0.png\"\n",
       " \"GeNeVA-v1\\\\i-CLEVR\\\\images\\\\CLEVR_test_000151_0.png\"     \"GeNeVA-v1\\\\i-CLEVR\\\\images\\\\CLEVR_val_001975_0.png\"\n",
       " \"GeNeVA-v1\\\\i-CLEVR\\\\images\\\\CLEVR_test_000152_0.png\"     \"GeNeVA-v1\\\\i-CLEVR\\\\images\\\\CLEVR_val_001976_0.png\"\n",
       " \"GeNeVA-v1\\\\i-CLEVR\\\\images\\\\CLEVR_test_000153_0.png\"     \"GeNeVA-v1\\\\i-CLEVR\\\\images\\\\CLEVR_val_001977_0.png\"\n",
       " \"GeNeVA-v1\\\\i-CLEVR\\\\images\\\\CLEVR_test_000154_0.png\"     \"GeNeVA-v1\\\\i-CLEVR\\\\images\\\\CLEVR_val_001978_0.png\"\n",
       " \"GeNeVA-v1\\\\i-CLEVR\\\\images\\\\CLEVR_test_000155_0.png\"  …  \"GeNeVA-v1\\\\i-CLEVR\\\\images\\\\CLEVR_val_001979_0.png\""
      ]
     },
     "execution_count": 8,
     "metadata": {},
     "output_type": "execute_result"
    }
   ],
   "source": [
    "# function make_minibatch(names, batchSize = 128)\n",
    "#     rem = mod(length(names), batchSize)\n",
    "#     names = reshape(names[1:end-rem], :, batchSize)\n",
    "# end\n",
    "\n",
    "# batches = make_minibatch(singleObj, 64)\n",
    "# batch = load_batch(batches, 1)"
   ]
  }
 ],
 "metadata": {
  "kernelspec": {
   "display_name": "Julia 1.5.2",
   "language": "julia",
   "name": "julia-1.5"
  },
  "language_info": {
   "file_extension": ".jl",
   "mimetype": "application/julia",
   "name": "julia",
   "version": "1.5.2"
  }
 },
 "nbformat": 4,
 "nbformat_minor": 2
}
