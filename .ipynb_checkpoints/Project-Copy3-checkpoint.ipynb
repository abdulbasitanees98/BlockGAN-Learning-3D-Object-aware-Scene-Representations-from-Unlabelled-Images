{
 "cells": [
  {
   "cell_type": "code",
   "execution_count": 1,
   "metadata": {},
   "outputs": [
    {
     "data": {
      "text/plain": [
       "KnetArray{Float32,N} where N"
      ]
     },
     "execution_count": 1,
     "metadata": {},
     "output_type": "execute_result"
    }
   ],
   "source": [
    "using Knet\n",
    "using AutoGrad\n",
    "using Images\n",
    "using ImageMagick\n",
    "using Random\n",
    "using PyPlot\n",
    "using Statistics\n",
    "import Base: length, size, iterate, eltype, IteratorSize, IteratorEltype, haslength, @propagate_inbounds, repeat, rand, tail\n",
    "import .Iterators: cycle, Cycle, take\n",
    "using IterTools: ncycle, takenth\n",
    "import CUDA\n",
    "array_type=(CUDA.functional() ? KnetArray{Float32} : Array{Float32})"
   ]
  },
  {
   "cell_type": "markdown",
   "metadata": {},
   "source": [
    "Start by loading list of images to be used"
   ]
  },
  {
   "cell_type": "code",
   "execution_count": 2,
   "metadata": {
    "scrolled": true
   },
   "outputs": [],
   "source": [
    "dataPath = \"GeNeVA-v1\\\\i-CLEVR\\\\images\"\n",
    "files = readdir(dataPath);"
   ]
  },
  {
   "cell_type": "markdown",
   "metadata": {},
   "source": [
    "Select images containing single object"
   ]
  },
  {
   "cell_type": "code",
   "execution_count": 3,
   "metadata": {},
   "outputs": [],
   "source": [
    "singleObj = files[endswith.(files, \"_0.png\")]\n",
    "singleObj = [\"$(dataPath)\\\\$(file)\" for file in singleObj];"
   ]
  },
  {
   "cell_type": "markdown",
   "metadata": {},
   "source": [
    "Create iterator for Clevr Dataset"
   ]
  },
  {
   "cell_type": "code",
   "execution_count": 4,
   "metadata": {},
   "outputs": [],
   "source": [
    "struct ClevrData\n",
    "    files\n",
    "    batchsize::Int\n",
    "    #shuffle::Bool\n",
    "    num_instances::Int\n",
    "\n",
    "    function ClevrData(files; batchsize::Int=1) #shuffle::Bool=false)\n",
    "        new(files, batchsize, length(files))\n",
    "    end\n",
    "end"
   ]
  },
  {
   "cell_type": "code",
   "execution_count": 5,
   "metadata": {},
   "outputs": [
    {
     "data": {
      "text/plain": [
       "length (generic function with 210 methods)"
      ]
     },
     "execution_count": 5,
     "metadata": {},
     "output_type": "execute_result"
    }
   ],
   "source": [
    "function length(d::ClevrData)\n",
    "    nFullBatches, rem = divrem(d.num_instances, d.batchsize)\n",
    "    nFullBatches + (rem > 0)*1\n",
    "end"
   ]
  },
  {
   "cell_type": "code",
   "execution_count": 6,
   "metadata": {},
   "outputs": [
    {
     "data": {
      "text/plain": [
       "load_image (generic function with 1 method)"
      ]
     },
     "execution_count": 6,
     "metadata": {},
     "output_type": "execute_result"
    }
   ],
   "source": [
    "function load_image(filename)\n",
    "    img = load(filename)\n",
    "    img = imresize(img, (64,64))\n",
    "    img = Float64.(channelview(img))\n",
    "    img = img[1:3,:,:]\n",
    "    img = permutedims(img, [2, 3, 1])\n",
    "#     img = reshape(img, (64,64,3,1))\n",
    "#     img = convert(array_type, img)\n",
    "end"
   ]
  },
  {
   "cell_type": "code",
   "execution_count": 7,
   "metadata": {},
   "outputs": [
    {
     "data": {
      "text/plain": [
       "iterate (generic function with 432 methods)"
      ]
     },
     "execution_count": 7,
     "metadata": {},
     "output_type": "execute_result"
    }
   ],
   "source": [
    "function iterate(d::ClevrData, state=collect(1:d.num_instances))\n",
    "    if length(state) > 0\n",
    "        batch = d.files[state[1:(length(state) < d.batchsize ? end : d.batchsize)]]\n",
    "        state  = state[d.batchsize+1:end]\n",
    "        out = convert(array_type, zeros(64,64,3,length(batch)))\n",
    "        ims = load_image.(batch)\n",
    "        for i in collect(1:length(batch)); out[:,:,:,i] = ims[i]; end\n",
    "        return (Param(out)), state\n",
    "    end\n",
    "end"
   ]
  },
  {
   "cell_type": "code",
   "execution_count": 496,
   "metadata": {
    "collapsed": true
   },
   "outputs": [
    {
     "name": "stdout",
     "output_type": "stream",
     "text": [
      "search: \u001b[0m\u001b[1ms\u001b[22m\u001b[0m\u001b[1mg\u001b[22m\u001b[0m\u001b[1md\u001b[22m\u001b[0m\u001b[1m!\u001b[22m \u001b[0m\u001b[1ms\u001b[22m\u001b[0m\u001b[1mg\u001b[22m\u001b[0m\u001b[1md\u001b[22m \u001b[0m\u001b[1mS\u001b[22m\u001b[0m\u001b[1mg\u001b[22m\u001b[0m\u001b[1md\u001b[22m \u001b[0m\u001b[1mS\u001b[22m\u001b[0m\u001b[1mG\u001b[22m\u001b[0m\u001b[1mD\u001b[22m \u001b[0m\u001b[1ms\u001b[22mi\u001b[0m\u001b[1mg\u001b[22mne\u001b[0m\u001b[1md\u001b[22m \u001b[0m\u001b[1mS\u001b[22mi\u001b[0m\u001b[1mg\u001b[22mne\u001b[0m\u001b[1md\u001b[22m u\u001b[0m\u001b[1ms\u001b[22min\u001b[0m\u001b[1mg\u001b[22m3\u001b[0m\u001b[1mD\u001b[22m Un\u001b[0m\u001b[1ms\u001b[22mi\u001b[0m\u001b[1mg\u001b[22mne\u001b[0m\u001b[1md\u001b[22m un\u001b[0m\u001b[1ms\u001b[22mi\u001b[0m\u001b[1mg\u001b[22mne\u001b[0m\u001b[1md\u001b[22m color\u001b[0m\u001b[1ms\u001b[22mi\u001b[0m\u001b[1mg\u001b[22mne\u001b[0m\u001b[1md\u001b[22m\n",
      "\n"
     ]
    },
    {
     "data": {
      "text/latex": [
       "\\begin{verbatim}\n",
       "minimize(func, data, optimizer=Adam(); params)\n",
       "sgd     (func, data; lr=0.1,  gclip, params)\n",
       "momentum(func, data; lr=0.05, gamma=0.95, gclip, params)\n",
       "nesterov(func, data; lr=0.05, gamma=0.95, gclip, params)\n",
       "adagrad (func, data; lr=0.05, eps=1e-6, gclip, params)\n",
       "rmsprop (func, data; lr=0.01, rho=0.9, eps=1e-6, gclip, params)\n",
       "adadelta(func, data; lr=1.0,  rho=0.9, eps=1e-6, gclip, params)\n",
       "adam    (func, data; lr=0.001, beta1=0.9, beta2=0.999, eps=1e-8, gclip, params)\n",
       "\\end{verbatim}\n",
       "Return an iterator which applies \\texttt{func} to arguments in \\texttt{data}, i.e.  \\texttt{(func(args...) for args in data)}, and updates the parameters every iteration to minimize \\texttt{func}.  \\texttt{func} should return a scalar value.\n",
       "\n",
       "The common keyword argument \\texttt{params} can be used to list the \\texttt{Param}s to be optimized.  If not specified, any \\texttt{Param} that takes part in the computation of \\texttt{func(args...)} will be updated.\n",
       "\n",
       "The common keyword argument \\texttt{gclip} can be used to implement per-parameter gradient clipping. For a parameter gradient \\texttt{g}, if \\texttt{norm(g) > gclip > 0}, \\texttt{g} is scaled so that its norm is equal to \\texttt{gclip}. If not specified no gradient clipping is performed.\n",
       "\n",
       "These functions do not perform optimization, but return an iterator that can. Any function that produces values from an iterator can be used with such an object, e.g. \\texttt{progress!(sgd(f,d))} iterates the sgd optimizer and displays a progress bar. For convenience, appending \\texttt{!} to the name of the function iterates and returns \\texttt{nothing}, i.e. \\texttt{sgd!(...)} is equivalent to \\texttt{(for x in sgd(...) end)}.\n",
       "\n",
       "We define optimizers as lazy iterators to have explicit control over them:\n",
       "\n",
       "\\begin{itemize}\n",
       "\\item To report progress use \\texttt{progress(sgd(f,d))}.\n",
       "\n",
       "\n",
       "\\item To run until convergence use \\texttt{converge(sgd(f,cycle(d)))}.\n",
       "\n",
       "\n",
       "\\item To run multiple epochs use \\texttt{sgd(f,repeat(d,n))}.\n",
       "\n",
       "\n",
       "\\item To run a given number of iterations use \\texttt{sgd(f,take(cycle(d),n))}.\n",
       "\n",
       "\n",
       "\\item To do a task every n iterations use \\texttt{(task() for (i,j) in enumerate(sgd(f,d)) if i\\%n == 1)}.\n",
       "\n",
       "\\end{itemize}\n",
       "These functions apply the same algorithm with the same configuration to every parameter by default. \\texttt{minimize} takes an explicit optimizer argument, all others call \\texttt{minimize} with an appropriate optimizer argument (see \\texttt{@doc update!} for a list of possible optimizers). Before calling \\href{@ref}{\\texttt{update!}} on a \\texttt{Param}, \\texttt{minimize} sets its \\texttt{opt} field to a copy of this default optimizer if it is not already set. The \\texttt{opt} field is used by the \\texttt{update!} function to determine the type of update performed on that parameter.  If you need finer grained control, you can set the optimizer of an individual \\texttt{Param} by setting its \\texttt{opt} field before calling one of these functions. They will not override the \\texttt{opt} field if it is already set, e.g. \\texttt{sgd(model,data)} will perform an \\texttt{Adam} update for a parameter whose \\texttt{opt} field is an \\texttt{Adam} object. This also means you can stop and start the training without losing optimization state, the first call will set the \\texttt{opt} fields and the subsequent calls will not override them.\n",
       "\n",
       "Given a parameter \\texttt{w} and its gradient \\texttt{g} here are the updates applied by each optimizer:\n",
       "\n",
       "\\begin{verbatim}\n",
       "# sgd (http://en.wikipedia.org/wiki/Stochastic_gradient_descent)\n",
       "w .= w - lr * g\n",
       "\n",
       "# momentum (http://jlmelville.github.io/mize/nesterov.html)\n",
       "v .= gamma * v - lr * g\n",
       "w .= w + v\n",
       "\n",
       "# nesterov (http://jlmelville.github.io/mize/nesterov.html)\n",
       "w .= w - gamma * v\n",
       "v .= gamma * v - lr * g\n",
       "w .= w + (1 + gamma) * v\n",
       "\n",
       "# adagrad (http://www.jmlr.org/papers/v12/duchi11a.html)\n",
       "G .= G + g .^ 2\n",
       "w .= w - lr * g ./ sqrt(G + eps)\n",
       "\n",
       "# rmsprop (http://www.cs.toronto.edu/~tijmen/csc321/slides/lecture_slides_lec6.pdf)\n",
       "G .= rho * G + (1-rho) * g .^ 2 \n",
       "w .= w - lr * g ./ sqrt(G + eps)\n",
       "\n",
       "# adadelta (http://arxiv.org/abs/1212.5701)\n",
       "G .= rho * G + (1-rho) * g .^ 2\n",
       "update = sqrt(delta + eps) .* g ./ sqrt(G + eps)\n",
       "w = w - lr * update\n",
       "delta = rho * delta + (1-rho) * update .^ 2\n",
       "\n",
       "# adam (http://arxiv.org/abs/1412.6980)\n",
       "v = beta1 * v + (1 - beta1) * g\n",
       "G = beta2 * G + (1 - beta2) * g .^ 2\n",
       "vhat = v ./ (1 - beta1 ^ t)\n",
       "Ghat = G ./ (1 - beta2 ^ t)\n",
       "w = w - (lr / (sqrt(Ghat) + eps)) * vhat\n",
       "\\end{verbatim}\n"
      ],
      "text/markdown": [
       "```\n",
       "minimize(func, data, optimizer=Adam(); params)\n",
       "sgd     (func, data; lr=0.1,  gclip, params)\n",
       "momentum(func, data; lr=0.05, gamma=0.95, gclip, params)\n",
       "nesterov(func, data; lr=0.05, gamma=0.95, gclip, params)\n",
       "adagrad (func, data; lr=0.05, eps=1e-6, gclip, params)\n",
       "rmsprop (func, data; lr=0.01, rho=0.9, eps=1e-6, gclip, params)\n",
       "adadelta(func, data; lr=1.0,  rho=0.9, eps=1e-6, gclip, params)\n",
       "adam    (func, data; lr=0.001, beta1=0.9, beta2=0.999, eps=1e-8, gclip, params)\n",
       "```\n",
       "\n",
       "Return an iterator which applies `func` to arguments in `data`, i.e.  `(func(args...) for args in data)`, and updates the parameters every iteration to minimize `func`.  `func` should return a scalar value.\n",
       "\n",
       "The common keyword argument `params` can be used to list the `Param`s to be optimized.  If not specified, any `Param` that takes part in the computation of `func(args...)` will be updated.\n",
       "\n",
       "The common keyword argument `gclip` can be used to implement per-parameter gradient clipping. For a parameter gradient `g`, if `norm(g) > gclip > 0`, `g` is scaled so that its norm is equal to `gclip`. If not specified no gradient clipping is performed.\n",
       "\n",
       "These functions do not perform optimization, but return an iterator that can. Any function that produces values from an iterator can be used with such an object, e.g. `progress!(sgd(f,d))` iterates the sgd optimizer and displays a progress bar. For convenience, appending `!` to the name of the function iterates and returns `nothing`, i.e. `sgd!(...)` is equivalent to `(for x in sgd(...) end)`.\n",
       "\n",
       "We define optimizers as lazy iterators to have explicit control over them:\n",
       "\n",
       "  * To report progress use `progress(sgd(f,d))`.\n",
       "  * To run until convergence use `converge(sgd(f,cycle(d)))`.\n",
       "  * To run multiple epochs use `sgd(f,repeat(d,n))`.\n",
       "  * To run a given number of iterations use `sgd(f,take(cycle(d),n))`.\n",
       "  * To do a task every n iterations use `(task() for (i,j) in enumerate(sgd(f,d)) if i%n == 1)`.\n",
       "\n",
       "These functions apply the same algorithm with the same configuration to every parameter by default. `minimize` takes an explicit optimizer argument, all others call `minimize` with an appropriate optimizer argument (see `@doc update!` for a list of possible optimizers). Before calling [`update!`](@ref) on a `Param`, `minimize` sets its `opt` field to a copy of this default optimizer if it is not already set. The `opt` field is used by the `update!` function to determine the type of update performed on that parameter.  If you need finer grained control, you can set the optimizer of an individual `Param` by setting its `opt` field before calling one of these functions. They will not override the `opt` field if it is already set, e.g. `sgd(model,data)` will perform an `Adam` update for a parameter whose `opt` field is an `Adam` object. This also means you can stop and start the training without losing optimization state, the first call will set the `opt` fields and the subsequent calls will not override them.\n",
       "\n",
       "Given a parameter `w` and its gradient `g` here are the updates applied by each optimizer:\n",
       "\n",
       "```\n",
       "# sgd (http://en.wikipedia.org/wiki/Stochastic_gradient_descent)\n",
       "w .= w - lr * g\n",
       "\n",
       "# momentum (http://jlmelville.github.io/mize/nesterov.html)\n",
       "v .= gamma * v - lr * g\n",
       "w .= w + v\n",
       "\n",
       "# nesterov (http://jlmelville.github.io/mize/nesterov.html)\n",
       "w .= w - gamma * v\n",
       "v .= gamma * v - lr * g\n",
       "w .= w + (1 + gamma) * v\n",
       "\n",
       "# adagrad (http://www.jmlr.org/papers/v12/duchi11a.html)\n",
       "G .= G + g .^ 2\n",
       "w .= w - lr * g ./ sqrt(G + eps)\n",
       "\n",
       "# rmsprop (http://www.cs.toronto.edu/~tijmen/csc321/slides/lecture_slides_lec6.pdf)\n",
       "G .= rho * G + (1-rho) * g .^ 2 \n",
       "w .= w - lr * g ./ sqrt(G + eps)\n",
       "\n",
       "# adadelta (http://arxiv.org/abs/1212.5701)\n",
       "G .= rho * G + (1-rho) * g .^ 2\n",
       "update = sqrt(delta + eps) .* g ./ sqrt(G + eps)\n",
       "w = w - lr * update\n",
       "delta = rho * delta + (1-rho) * update .^ 2\n",
       "\n",
       "# adam (http://arxiv.org/abs/1412.6980)\n",
       "v = beta1 * v + (1 - beta1) * g\n",
       "G = beta2 * G + (1 - beta2) * g .^ 2\n",
       "vhat = v ./ (1 - beta1 ^ t)\n",
       "Ghat = G ./ (1 - beta2 ^ t)\n",
       "w = w - (lr / (sqrt(Ghat) + eps)) * vhat\n",
       "```\n"
      ],
      "text/plain": [
       "\u001b[36m  minimize(func, data, optimizer=Adam(); params)\u001b[39m\n",
       "\u001b[36m  sgd     (func, data; lr=0.1,  gclip, params)\u001b[39m\n",
       "\u001b[36m  momentum(func, data; lr=0.05, gamma=0.95, gclip, params)\u001b[39m\n",
       "\u001b[36m  nesterov(func, data; lr=0.05, gamma=0.95, gclip, params)\u001b[39m\n",
       "\u001b[36m  adagrad (func, data; lr=0.05, eps=1e-6, gclip, params)\u001b[39m\n",
       "\u001b[36m  rmsprop (func, data; lr=0.01, rho=0.9, eps=1e-6, gclip, params)\u001b[39m\n",
       "\u001b[36m  adadelta(func, data; lr=1.0,  rho=0.9, eps=1e-6, gclip, params)\u001b[39m\n",
       "\u001b[36m  adam    (func, data; lr=0.001, beta1=0.9, beta2=0.999, eps=1e-8, gclip, params)\u001b[39m\n",
       "\n",
       "  Return an iterator which applies \u001b[36mfunc\u001b[39m to arguments in \u001b[36mdata\u001b[39m, i.e.\n",
       "  \u001b[36m(func(args...) for args in data)\u001b[39m, and updates the parameters every iteration\n",
       "  to minimize \u001b[36mfunc\u001b[39m. \u001b[36mfunc\u001b[39m should return a scalar value.\n",
       "\n",
       "  The common keyword argument \u001b[36mparams\u001b[39m can be used to list the \u001b[36mParam\u001b[39ms to be\n",
       "  optimized. If not specified, any \u001b[36mParam\u001b[39m that takes part in the computation of\n",
       "  \u001b[36mfunc(args...)\u001b[39m will be updated.\n",
       "\n",
       "  The common keyword argument \u001b[36mgclip\u001b[39m can be used to implement per-parameter\n",
       "  gradient clipping. For a parameter gradient \u001b[36mg\u001b[39m, if \u001b[36mnorm(g) > gclip > 0\u001b[39m, \u001b[36mg\u001b[39m is\n",
       "  scaled so that its norm is equal to \u001b[36mgclip\u001b[39m. If not specified no gradient\n",
       "  clipping is performed.\n",
       "\n",
       "  These functions do not perform optimization, but return an iterator that\n",
       "  can. Any function that produces values from an iterator can be used with\n",
       "  such an object, e.g. \u001b[36mprogress!(sgd(f,d))\u001b[39m iterates the sgd optimizer and\n",
       "  displays a progress bar. For convenience, appending \u001b[36m!\u001b[39m to the name of the\n",
       "  function iterates and returns \u001b[36mnothing\u001b[39m, i.e. \u001b[36msgd!(...)\u001b[39m is equivalent to \u001b[36m(for\n",
       "  x in sgd(...) end)\u001b[39m.\n",
       "\n",
       "  We define optimizers as lazy iterators to have explicit control over them:\n",
       "\n",
       "    •    To report progress use \u001b[36mprogress(sgd(f,d))\u001b[39m.\n",
       "\n",
       "    •    To run until convergence use \u001b[36mconverge(sgd(f,cycle(d)))\u001b[39m.\n",
       "\n",
       "    •    To run multiple epochs use \u001b[36msgd(f,repeat(d,n))\u001b[39m.\n",
       "\n",
       "    •    To run a given number of iterations use \u001b[36msgd(f,take(cycle(d),n))\u001b[39m.\n",
       "\n",
       "    •    To do a task every n iterations use \u001b[36m(task() for (i,j) in\n",
       "        enumerate(sgd(f,d)) if i%n == 1)\u001b[39m.\n",
       "\n",
       "  These functions apply the same algorithm with the same configuration to\n",
       "  every parameter by default. \u001b[36mminimize\u001b[39m takes an explicit optimizer argument,\n",
       "  all others call \u001b[36mminimize\u001b[39m with an appropriate optimizer argument (see \u001b[36m@doc\n",
       "  update!\u001b[39m for a list of possible optimizers). Before calling \u001b[36mupdate!\u001b[39m on a\n",
       "  \u001b[36mParam\u001b[39m, \u001b[36mminimize\u001b[39m sets its \u001b[36mopt\u001b[39m field to a copy of this default optimizer if it\n",
       "  is not already set. The \u001b[36mopt\u001b[39m field is used by the \u001b[36mupdate!\u001b[39m function to\n",
       "  determine the type of update performed on that parameter. If you need finer\n",
       "  grained control, you can set the optimizer of an individual \u001b[36mParam\u001b[39m by setting\n",
       "  its \u001b[36mopt\u001b[39m field before calling one of these functions. They will not override\n",
       "  the \u001b[36mopt\u001b[39m field if it is already set, e.g. \u001b[36msgd(model,data)\u001b[39m will perform an\n",
       "  \u001b[36mAdam\u001b[39m update for a parameter whose \u001b[36mopt\u001b[39m field is an \u001b[36mAdam\u001b[39m object. This also\n",
       "  means you can stop and start the training without losing optimization state,\n",
       "  the first call will set the \u001b[36mopt\u001b[39m fields and the subsequent calls will not\n",
       "  override them.\n",
       "\n",
       "  Given a parameter \u001b[36mw\u001b[39m and its gradient \u001b[36mg\u001b[39m here are the updates applied by each\n",
       "  optimizer:\n",
       "\n",
       "\u001b[36m  # sgd (http://en.wikipedia.org/wiki/Stochastic_gradient_descent)\u001b[39m\n",
       "\u001b[36m  w .= w - lr * g\u001b[39m\n",
       "\u001b[36m  \u001b[39m\n",
       "\u001b[36m  # momentum (http://jlmelville.github.io/mize/nesterov.html)\u001b[39m\n",
       "\u001b[36m  v .= gamma * v - lr * g\u001b[39m\n",
       "\u001b[36m  w .= w + v\u001b[39m\n",
       "\u001b[36m  \u001b[39m\n",
       "\u001b[36m  # nesterov (http://jlmelville.github.io/mize/nesterov.html)\u001b[39m\n",
       "\u001b[36m  w .= w - gamma * v\u001b[39m\n",
       "\u001b[36m  v .= gamma * v - lr * g\u001b[39m\n",
       "\u001b[36m  w .= w + (1 + gamma) * v\u001b[39m\n",
       "\u001b[36m  \u001b[39m\n",
       "\u001b[36m  # adagrad (http://www.jmlr.org/papers/v12/duchi11a.html)\u001b[39m\n",
       "\u001b[36m  G .= G + g .^ 2\u001b[39m\n",
       "\u001b[36m  w .= w - lr * g ./ sqrt(G + eps)\u001b[39m\n",
       "\u001b[36m  \u001b[39m\n",
       "\u001b[36m  # rmsprop (http://www.cs.toronto.edu/~tijmen/csc321/slides/lecture_slides_lec6.pdf)\u001b[39m\n",
       "\u001b[36m  G .= rho * G + (1-rho) * g .^ 2 \u001b[39m\n",
       "\u001b[36m  w .= w - lr * g ./ sqrt(G + eps)\u001b[39m\n",
       "\u001b[36m  \u001b[39m\n",
       "\u001b[36m  # adadelta (http://arxiv.org/abs/1212.5701)\u001b[39m\n",
       "\u001b[36m  G .= rho * G + (1-rho) * g .^ 2\u001b[39m\n",
       "\u001b[36m  update = sqrt(delta + eps) .* g ./ sqrt(G + eps)\u001b[39m\n",
       "\u001b[36m  w = w - lr * update\u001b[39m\n",
       "\u001b[36m  delta = rho * delta + (1-rho) * update .^ 2\u001b[39m\n",
       "\u001b[36m  \u001b[39m\n",
       "\u001b[36m  # adam (http://arxiv.org/abs/1412.6980)\u001b[39m\n",
       "\u001b[36m  v = beta1 * v + (1 - beta1) * g\u001b[39m\n",
       "\u001b[36m  G = beta2 * G + (1 - beta2) * g .^ 2\u001b[39m\n",
       "\u001b[36m  vhat = v ./ (1 - beta1 ^ t)\u001b[39m\n",
       "\u001b[36m  Ghat = G ./ (1 - beta2 ^ t)\u001b[39m\n",
       "\u001b[36m  w = w - (lr / (sqrt(Ghat) + eps)) * vhat\u001b[39m"
      ]
     },
     "execution_count": 496,
     "metadata": {},
     "output_type": "execute_result"
    }
   ],
   "source": [
    "?sgd!"
   ]
  },
  {
   "cell_type": "code",
   "execution_count": 198,
   "metadata": {},
   "outputs": [],
   "source": [
    "# for batch in clevrDataset\n",
    "#     println(length(batch))\n",
    "# end"
   ]
  },
  {
   "cell_type": "code",
   "execution_count": 18,
   "metadata": {},
   "outputs": [],
   "source": [
    "struct Dense; w; b; f; end\n",
    "Dense(i::Int,o::Int,f=relu) = Dense(param(o,i), param0(o), f)\n",
    "(d::Dense)(x) = d.f.(d.w * mat(x) .+ d.b) # mat reshapes 4-D tensor to 2-D matrix so we can use matmul"
   ]
  },
  {
   "cell_type": "code",
   "execution_count": 19,
   "metadata": {},
   "outputs": [
    {
     "data": {
      "text/plain": [
       "leakyRelu (generic function with 1 method)"
      ]
     },
     "execution_count": 19,
     "metadata": {},
     "output_type": "execute_result"
    }
   ],
   "source": [
    "function leakyRelu(x)\n",
    "    max(0.1 .* x, x)\n",
    "end"
   ]
  },
  {
   "cell_type": "code",
   "execution_count": 20,
   "metadata": {},
   "outputs": [],
   "source": [
    "struct Discriminator2\n",
    "    layers\n",
    "    Discriminator2(layers...) = new(layers)\n",
    "end\n",
    "(model::Discriminator2)(x) = (for l in model.layers; x = l(x); end; x)\n"
   ]
  },
  {
   "cell_type": "code",
   "execution_count": 60,
   "metadata": {},
   "outputs": [
    {
     "data": {
      "text/plain": [
       "Z (generic function with 1 method)"
      ]
     },
     "execution_count": 60,
     "metadata": {},
     "output_type": "execute_result"
    }
   ],
   "source": [
    "function Z(dim1, dim2)\n",
    "    z = (rand(dim1, dim2).*2.0).-1.0\n",
    "    convert(array_type, z)\n",
    "end"
   ]
  },
  {
   "cell_type": "code",
   "execution_count": 22,
   "metadata": {},
   "outputs": [],
   "source": [
    "struct Generator2\n",
    "    layers\n",
    "    Generator2(layers...) = new(layers)\n",
    "end\n",
    "(model::Generator2)(x) = (for l in model.layers; x = l(x); end; x)"
   ]
  },
  {
   "cell_type": "code",
   "execution_count": 23,
   "metadata": {},
   "outputs": [],
   "source": [
    "struct Reshape1; x; y; c; end;\n",
    "Reshape1() = Reshape1(64,64,3)\n",
    "(r::Reshape1)(x) = reshape(x, r.x, r.y, r.c, :)"
   ]
  },
  {
   "cell_type": "code",
   "execution_count": 24,
   "metadata": {},
   "outputs": [],
   "source": [
    "struct Reshape3; x; y; c; end;\n",
    "Reshape3() = Reshape3(64,64,3)\n",
    "(r::Reshape3)(x) = reshape(x, r.x, r.y, r.c)"
   ]
  },
  {
   "cell_type": "code",
   "execution_count": 25,
   "metadata": {},
   "outputs": [],
   "source": [
    "struct Reshape2; a end;\n",
    "Reshape2() = Reshape2(1)\n",
    "(r::Reshape2)(x) = reshape(x, :,1)"
   ]
  },
  {
   "cell_type": "code",
   "execution_count": 95,
   "metadata": {},
   "outputs": [],
   "source": [
    "struct BNorm\n",
    "    moments\n",
    "    params\n",
    "    act\n",
    "end\n",
    "(bn::BNorm)(x) = if bn.act sigm.(batchnorm(x, bn.moments, bn.params)) else batchnorm(x, bn.moments, bn.params) end"
   ]
  },
  {
   "cell_type": "code",
   "execution_count": 26,
   "metadata": {},
   "outputs": [
    {
     "data": {
      "text/plain": [
       "dLoss (generic function with 1 method)"
      ]
     },
     "execution_count": 26,
     "metadata": {},
     "output_type": "execute_result"
    }
   ],
   "source": [
    "function dLoss(D::Discriminator2, realIms, fakeIms)\n",
    "    realLoss = -mean(log.(D(realIms)))\n",
    "    fakeLoss = -mean(log.(1 .- D(fakeIms)))\n",
    "    return 0.5*(realLoss+fakeLoss)\n",
    "end"
   ]
  },
  {
   "cell_type": "code",
   "execution_count": 27,
   "metadata": {},
   "outputs": [
    {
     "data": {
      "text/plain": [
       "gLoss (generic function with 1 method)"
      ]
     },
     "execution_count": 27,
     "metadata": {},
     "output_type": "execute_result"
    }
   ],
   "source": [
    "function gLoss(G::Generator2, D::Discriminator2, z)\n",
    "    yPr = D(G(z))\n",
    "    return -0.5*mean(log.(yPr))\n",
    "end"
   ]
  },
  {
   "cell_type": "code",
   "execution_count": 128,
   "metadata": {},
   "outputs": [
    {
     "data": {
      "text/plain": [
       "Discriminator2((Reshape2(1), Dense(P(KnetArray{Float32,2}(1,12288)), P(KnetArray{Float32,1}(1)), Knet.Ops20.sigm)))"
      ]
     },
     "execution_count": 128,
     "metadata": {},
     "output_type": "execute_result"
    }
   ],
   "source": [
    "Random.seed!(1234)\n",
    "loss_g = []\n",
    "loss_d = []\n",
    "moments1 = bnmoments()\n",
    "params1 = param(bnparams(3))\n",
    "G = Generator2(Dense(128, 12288, identity), Reshape1(), BNorm(moments1, params1, true), Reshape3())\n",
    "D = Discriminator2(Reshape2(), Dense(12288, 1, sigm))"
   ]
  },
  {
   "cell_type": "code",
   "execution_count": 131,
   "metadata": {},
   "outputs": [],
   "source": [
    "# D(G(Z(128,1)))\n",
    "G(Z(128,1));"
   ]
  },
  {
   "cell_type": "code",
   "execution_count": 132,
   "metadata": {},
   "outputs": [
    {
     "data": {
      "text/plain": [
       "main (generic function with 1 method)"
      ]
     },
     "execution_count": 132,
     "metadata": {},
     "output_type": "execute_result"
    }
   ],
   "source": [
    "function main()\n",
    "    clevrDataset = ClevrData(singleObj)\n",
    "#     G = Generator2(Dense(128, 12288), Reshape1())\n",
    "#     D = Discriminator2(Reshape2(), Dense(12288, 1, sigm))\n",
    "#     loss_g = []\n",
    "#     loss_d = []\n",
    "    i = 1\n",
    "    for real_image in ncycle(take(clevrDataset,1), 10000)\n",
    "        z = Z(128,1)\n",
    "#         if i % 5 == 0\n",
    "        adam!(dLoss, [(D, real_image, G(z))])#, params=params(D))\n",
    "#         end\n",
    "#         if i % 5 == 0\n",
    "        adam!(gLoss, [(G, D, z)], params=params(G))\n",
    "#         end\n",
    "        if i % 100 == 0\n",
    "            push!(loss_g, gLoss(G, D, z))\n",
    "            push!(loss_d, dLoss(D, real_image, G(z)))\n",
    "            print(\"$(i): GenLoss: \");print(loss_g[end]);print(\"   \")\n",
    "            print(\"DisLoss: \");println(loss_d[end])\n",
    "        end\n",
    "        i += 1\n",
    "    end\n",
    "end"
   ]
  },
  {
   "cell_type": "code",
   "execution_count": 142,
   "metadata": {
    "scrolled": true
   },
   "outputs": [
    {
     "name": "stdout",
     "output_type": "stream",
     "text": [
      "100: GenLoss: 0.2716096341609955   DisLoss: 0.9054676294326782\n",
      "200: GenLoss: 0.46633946895599365   DisLoss: 0.5029844045639038\n",
      "300: GenLoss: 0.652884840965271   DisLoss: 0.8475909233093262\n",
      "400: GenLoss: 0.19949960708618164   DisLoss: 0.8337887525558472\n",
      "500: GenLoss: 2.0526041984558105   DisLoss: 0.4304620623588562\n",
      "600: GenLoss: 0.8163079619407654   DisLoss: 0.3036441504955292\n",
      "700: GenLoss: 0.01705966703593731   DisLoss: 1.7477182149887085\n",
      "800: GenLoss: 0.09574815630912781   DisLoss: 0.9635609984397888\n",
      "900: GenLoss: 0.16929014027118683   DisLoss: 0.8385300636291504\n",
      "1000: GenLoss: 1.0083452463150024   DisLoss: 0.2944227457046509\n",
      "1100: GenLoss: 0.46253693103790283   DisLoss: 0.39681798219680786\n",
      "1200: GenLoss: 0.4349633753299713   DisLoss: 0.49360328912734985\n",
      "1300: GenLoss: 0.46959036588668823   DisLoss: 0.34172090888023376\n",
      "1400: GenLoss: 1.0764837265014648   DisLoss: 0.6194807887077332\n",
      "1500: GenLoss: 0.4629749655723572   DisLoss: 0.8241636753082275\n",
      "1600: GenLoss: 0.004311722237616777   DisLoss: 2.384127616882324\n",
      "1700: GenLoss: 0.7675307393074036   DisLoss: 0.21511569619178772\n",
      "1800: GenLoss: 0.14212848246097565   DisLoss: 0.8511694073677063\n",
      "1900: GenLoss: 0.028651366010308266   DisLoss: 1.557905912399292\n",
      "2000: GenLoss: 0.5693472623825073   DisLoss: 0.6065992116928101\n",
      "2100: GenLoss: 0.704254686832428   DisLoss: 0.4915032386779785\n",
      "2200: GenLoss: 0.4124726355075836   DisLoss: 0.8145827054977417\n",
      "2300: GenLoss: 0.28969934582710266   DisLoss: 0.9582679271697998\n",
      "2400: GenLoss: 0.25482720136642456   DisLoss: 0.6767445206642151\n",
      "2500: GenLoss: 0.619083821773529   DisLoss: 0.6407551765441895\n",
      "2600: GenLoss: 0.8410174250602722   DisLoss: 0.2603412866592407\n",
      "2700: GenLoss: 1.0453591346740723   DisLoss: 0.9912993311882019\n",
      "2800: GenLoss: 0.6819595694541931   DisLoss: 0.4788137972354889\n",
      "2900: GenLoss: 0.362978458404541   DisLoss: 0.3650623857975006\n",
      "3000: GenLoss: 0.03491607680916786   DisLoss: 1.595933198928833\n",
      "3100: GenLoss: 0.298042893409729   DisLoss: 0.5061839818954468\n",
      "3200: GenLoss: 0.6023167967796326   DisLoss: 0.6596338152885437\n",
      "3300: GenLoss: 1.449486494064331   DisLoss: 0.5961674451828003\n",
      "3400: GenLoss: 0.23688286542892456   DisLoss: 0.7414147257804871\n",
      "3500: GenLoss: 0.7741342782974243   DisLoss: 0.6041774749755859\n",
      "3600: GenLoss: 0.5116699934005737   DisLoss: 0.515020489692688\n",
      "3700: GenLoss: 0.24798038601875305   DisLoss: 0.6920579075813293\n",
      "3800: GenLoss: 0.20511996746063232   DisLoss: 0.7413896918296814\n",
      "3900: GenLoss: 0.40696194767951965   DisLoss: 0.49672767519950867\n",
      "4000: GenLoss: 0.08462977409362793   DisLoss: 1.2516878843307495\n",
      "4100: GenLoss: 0.030476177111268044   DisLoss: 1.4703714847564697\n",
      "4200: GenLoss: 0.7167261838912964   DisLoss: 0.22851330041885376\n",
      "4300: GenLoss: 0.09821698069572449   DisLoss: 0.9674900770187378\n",
      "4400: GenLoss: 0.19725994765758514   DisLoss: 0.7607103586196899\n",
      "4500: GenLoss: 0.39550861716270447   DisLoss: 0.5227079391479492\n",
      "4600: GenLoss: 0.9760856628417969   DisLoss: 0.1626330465078354\n",
      "4700: GenLoss: 0.39021143317222595   DisLoss: 0.3455957770347595\n",
      "4800: GenLoss: 0.37899652123451233   DisLoss: 0.8707042932510376\n",
      "4900: GenLoss: 0.35892659425735474   DisLoss: 0.7790520191192627\n",
      "5000: GenLoss: 0.28126582503318787   DisLoss: 0.4932439923286438\n",
      "5100: GenLoss: 0.23985403776168823   DisLoss: 0.6428060531616211\n",
      "5200: GenLoss: 0.5858955383300781   DisLoss: 0.5865240097045898\n",
      "5300: GenLoss: 0.4215870499610901   DisLoss: 0.5912735462188721\n",
      "5400: GenLoss: 0.1601095348596573   DisLoss: 0.9325679540634155\n",
      "5500: GenLoss: 0.5135588049888611   DisLoss: 0.30237817764282227\n",
      "5600: GenLoss: 0.13655108213424683"
     ]
    },
    {
     "ename": "LoadError",
     "evalue": "InterruptException:",
     "output_type": "error",
     "traceback": [
      "InterruptException:",
      "",
      "Stacktrace:",
      " [1] try_yieldto(::typeof(Base.ensure_rescheduled)) at .\\task.jl:656",
      " [2] wait at .\\task.jl:713 [inlined]",
      " [3] uv_write(::Base.PipeEndpoint, ::Ptr{UInt8}, ::UInt64) at .\\stream.jl:933",
      " [4] unsafe_write(::Base.PipeEndpoint, ::Ptr{UInt8}, ::UInt64) at .\\stream.jl:1005",
      " [5] unsafe_write at .\\io.jl:337 [inlined]",
      " [6] unsafe_write at .\\io.jl:622 [inlined]",
      " [7] write at .\\io.jl:645 [inlined]",
      " [8] show(::IJulia.IJuliaStdio{Base.PipeEndpoint}, ::Float64, ::Bool, ::Bool) at .\\ryu\\Ryu.jl:117",
      " [9] show at .\\ryu\\Ryu.jl:112 [inlined]",
      " [10] print(::IJulia.IJuliaStdio{Base.PipeEndpoint}, ::Float64) at .\\strings\\io.jl:35",
      " [11] print(::Float64) at .\\coreio.jl:3",
      " [12] main() at .\\In[132]:19",
      " [13] top-level scope at In[142]:2",
      " [14] include_string(::Function, ::Module, ::String, ::String) at .\\loading.jl:1091",
      " [15] execute_code(::String, ::String) at C:\\Users\\basit\\.julia\\packages\\IJulia\\rWZ9e\\src\\execute_request.jl:27",
      " [16] execute_request(::ZMQ.Socket, ::IJulia.Msg) at C:\\Users\\basit\\.julia\\packages\\IJulia\\rWZ9e\\src\\execute_request.jl:86",
      " [17] #invokelatest#1 at .\\essentials.jl:710 [inlined]",
      " [18] invokelatest at .\\essentials.jl:709 [inlined]",
      " [19] eventloop(::ZMQ.Socket) at C:\\Users\\basit\\.julia\\packages\\IJulia\\rWZ9e\\src\\eventloop.jl:8",
      " [20] (::IJulia.var\"#15#18\")() at .\\task.jl:356"
     ]
    }
   ],
   "source": [
    "Random.seed!(1234)\n",
    "main()"
   ]
  },
  {
   "cell_type": "code",
   "execution_count": 150,
   "metadata": {},
   "outputs": [
    {
     "data": {
      "image/png": "[encoded data removed]",
      "text/plain": [
       "Figure(PyObject <Figure size 640x480 with 1 Axes>)"
      ]
     },
     "metadata": {},
     "output_type": "display_data"
    },
    {
     "data": {
      "text/plain": [
       "PyObject <matplotlib.image.AxesImage object at 0x0000000007FB2490>"
      ]
     },
     "execution_count": 150,
     "metadata": {},
     "output_type": "execute_result"
    }
   ],
   "source": [
    "img = G(Z(128,1))\n",
    "img = convert(Array{Float32}, value(img))\n",
    "imshow(img)"
   ]
  },
  {
   "cell_type": "code",
   "execution_count": 144,
   "metadata": {},
   "outputs": [],
   "source": [
    "img = img ./ maximum(img);\n",
    "#imshow(img);"
   ]
  },
  {
   "cell_type": "code",
   "execution_count": 136,
   "metadata": {},
   "outputs": [
    {
     "data": {
      "image/png": "[encoded data removed]",
      "text/plain": [
       "Figure(PyObject <Figure size 640x480 with 1 Axes>)"
      ]
     },
     "metadata": {},
     "output_type": "display_data"
    },
    {
     "data": {
      "text/plain": [
       "PyObject <matplotlib.image.AxesImage object at 0x0000000063D62460>"
      ]
     },
     "execution_count": 136,
     "metadata": {},
     "output_type": "execute_result"
    }
   ],
   "source": [
    "clevrDataset1 = ClevrData(singleObj)\n",
    "img1= first(take(clevrDataset1, 1))[:,:,:,1]\n",
    "img1 = convert(Array{Float32}, value(img1))\n",
    "imshow(img1)"
   ]
  },
  {
   "cell_type": "code",
   "execution_count": 44,
   "metadata": {},
   "outputs": [
    {
     "data": {
      "text/plain": [
       "1×1 KnetArray{Float32,2}:\n",
       " 0.6782726"
      ]
     },
     "execution_count": 44,
     "metadata": {},
     "output_type": "execute_result"
    }
   ],
   "source": [
    "D(first(take(clevrDataset1, 1))[:,:,:,1])"
   ]
  },
  {
   "cell_type": "code",
   "execution_count": 93,
   "metadata": {
    "collapsed": true
   },
   "outputs": [
    {
     "name": "stdout",
     "output_type": "stream",
     "text": [
      "search: \u001b[0m\u001b[1mb\u001b[22m\u001b[0m\u001b[1ma\u001b[22m\u001b[0m\u001b[1mt\u001b[22m\u001b[0m\u001b[1mc\u001b[22m\u001b[0m\u001b[1mh\u001b[22m\u001b[0m\u001b[1mn\u001b[22m\u001b[0m\u001b[1mo\u001b[22m\u001b[0m\u001b[1mr\u001b[22m\u001b[0m\u001b[1mm\u001b[22m\n",
      "\n"
     ]
    },
    {
     "data": {
      "text/latex": [
       "\\begin{verbatim}\n",
       "batchnorm(x[, moments, params]; kwargs...)\n",
       "\\end{verbatim}\n",
       "perform batch normalization on \\texttt{x} with optional mean and variance in \\texttt{moments} and scaling factor and bias in \\texttt{params}. See https://arxiv.org/abs/1502.03167 for reference.\n",
       "\n",
       "2d, 4d and 5d inputs are supported. Mean and variance are computed over dimensions (2,), (1,2,4) and (1,2,3,5) for 2d, 4d and 5d arrays, respectively.\n",
       "\n",
       "\\texttt{moments} stores running mean and variance to be used at inference time.  It is optional in training mode, but mandatory in test mode.  Training and test modes can be controlled by the \\texttt{training} keyword argument which defaults to \\texttt{Knet.training()}.\n",
       "\n",
       "\\texttt{params} stores the optional affine parameters gamma and beta.  \\texttt{bnparams} function can be used to initialize \\texttt{params}.\n",
       "\n",
       "\\section{Example}\n",
       "\\begin{verbatim}\n",
       "# Inilization, C is an integer\n",
       "moments = bnmoments()\n",
       "params = bnparams(C)\n",
       "...\n",
       "# size(x) -> (H, W, C, N)\n",
       "y = batchnorm(x, moments, params)\n",
       "# size(y) -> (H, W, C, N)\n",
       "\\end{verbatim}\n",
       "\\section{Keywords}\n",
       "\\texttt{eps=1e-5}: The epsilon parameter added to the variance to avoid division by 0.\n",
       "\n",
       "\\texttt{training=Knet.training()}: When \\texttt{training} is true, the mean and variance of \\texttt{x} are used  and \\texttt{moments} argument is modified if it is provided. When \\texttt{training} is false, mean and  variance stored in the \\texttt{moments} argument are used.\n",
       "\n"
      ],
      "text/markdown": [
       "```\n",
       "batchnorm(x[, moments, params]; kwargs...)\n",
       "```\n",
       "\n",
       "perform batch normalization on `x` with optional mean and variance in `moments` and scaling factor and bias in `params`. See https://arxiv.org/abs/1502.03167 for reference.\n",
       "\n",
       "2d, 4d and 5d inputs are supported. Mean and variance are computed over dimensions (2,), (1,2,4) and (1,2,3,5) for 2d, 4d and 5d arrays, respectively.\n",
       "\n",
       "`moments` stores running mean and variance to be used at inference time.  It is optional in training mode, but mandatory in test mode.  Training and test modes can be controlled by the `training` keyword argument which defaults to `Knet.training()`.\n",
       "\n",
       "`params` stores the optional affine parameters gamma and beta.  `bnparams` function can be used to initialize `params`.\n",
       "\n",
       "# Example\n",
       "\n",
       "```\n",
       "# Inilization, C is an integer\n",
       "moments = bnmoments()\n",
       "params = bnparams(C)\n",
       "...\n",
       "# size(x) -> (H, W, C, N)\n",
       "y = batchnorm(x, moments, params)\n",
       "# size(y) -> (H, W, C, N)\n",
       "```\n",
       "\n",
       "# Keywords\n",
       "\n",
       "`eps=1e-5`: The epsilon parameter added to the variance to avoid division by 0.\n",
       "\n",
       "`training=Knet.training()`: When `training` is true, the mean and variance of `x` are used  and `moments` argument is modified if it is provided. When `training` is false, mean and  variance stored in the `moments` argument are used.\n"
      ],
      "text/plain": [
       "\u001b[36m  batchnorm(x[, moments, params]; kwargs...)\u001b[39m\n",
       "\n",
       "  perform batch normalization on \u001b[36mx\u001b[39m with optional mean and variance in \u001b[36mmoments\u001b[39m\n",
       "  and scaling factor and bias in \u001b[36mparams\u001b[39m. See https://arxiv.org/abs/1502.03167\n",
       "  for reference.\n",
       "\n",
       "  2d, 4d and 5d inputs are supported. Mean and variance are computed over\n",
       "  dimensions (2,), (1,2,4) and (1,2,3,5) for 2d, 4d and 5d arrays,\n",
       "  respectively.\n",
       "\n",
       "  \u001b[36mmoments\u001b[39m stores running mean and variance to be used at inference time. It is\n",
       "  optional in training mode, but mandatory in test mode. Training and test\n",
       "  modes can be controlled by the \u001b[36mtraining\u001b[39m keyword argument which defaults to\n",
       "  \u001b[36mKnet.training()\u001b[39m.\n",
       "\n",
       "  \u001b[36mparams\u001b[39m stores the optional affine parameters gamma and beta. \u001b[36mbnparams\u001b[39m\n",
       "  function can be used to initialize \u001b[36mparams\u001b[39m.\n",
       "\n",
       "\u001b[1m  Example\u001b[22m\n",
       "\u001b[1m  ≡≡≡≡≡≡≡≡≡\u001b[22m\n",
       "\n",
       "\u001b[36m  # Inilization, C is an integer\u001b[39m\n",
       "\u001b[36m  moments = bnmoments()\u001b[39m\n",
       "\u001b[36m  params = bnparams(C)\u001b[39m\n",
       "\u001b[36m  ...\u001b[39m\n",
       "\u001b[36m  # size(x) -> (H, W, C, N)\u001b[39m\n",
       "\u001b[36m  y = batchnorm(x, moments, params)\u001b[39m\n",
       "\u001b[36m  # size(y) -> (H, W, C, N)\u001b[39m\n",
       "\n",
       "\u001b[1m  Keywords\u001b[22m\n",
       "\u001b[1m  ≡≡≡≡≡≡≡≡≡≡\u001b[22m\n",
       "\n",
       "  \u001b[36meps=1e-5\u001b[39m: The epsilon parameter added to the variance to avoid division by\n",
       "  0.\n",
       "\n",
       "  \u001b[36mtraining=Knet.training()\u001b[39m: When \u001b[36mtraining\u001b[39m is true, the mean and variance of \u001b[36mx\u001b[39m\n",
       "  are used and \u001b[36mmoments\u001b[39m argument is modified if it is provided. When \u001b[36mtraining\u001b[39m\n",
       "  is false, mean and variance stored in the \u001b[36mmoments\u001b[39m argument are used."
      ]
     },
     "execution_count": 93,
     "metadata": {},
     "output_type": "execute_result"
    }
   ],
   "source": [
    "? batchnorm"
   ]
  },
  {
   "cell_type": "code",
   "execution_count": 29,
   "metadata": {
    "collapsed": true
   },
   "outputs": [
    {
     "data": {
      "text/plain": [
       "16×16×64×1 KnetArray{Float32,4}:\n",
       "[:, :, 1, 1] =\n",
       " 0.0       0.111333  0.0       0.0        …  0.33001    0.0        0.0\n",
       " 1.00384   0.0       0.0       0.0643006     0.0        0.370728   0.0\n",
       " 0.422767  0.0       0.0       0.0           0.264088   0.0        0.393287\n",
       " 0.0       1.33968   0.0       0.0           0.0        0.0        0.983215\n",
       " 0.0       0.0       0.0       0.143648      0.0        0.0        0.340574\n",
       " 0.0       0.205829  0.0       0.0        …  0.0101797  0.0        0.0\n",
       " 0.0       0.0       0.0       0.527833      0.48742    0.0        1.00791\n",
       " 0.0       1.17808   0.0       0.0           0.0        0.0        0.0\n",
       " 0.0       2.14931   0.0       0.0           0.053772   0.0        0.0\n",
       " 0.0       0.0       0.983323  0.0           0.0        0.510495   0.0\n",
       " 0.0       0.0       0.0       0.0        …  0.0        0.0        0.0\n",
       " 0.0       0.0       0.212154  0.0           0.0        0.113724   0.0\n",
       " 0.0       0.0       0.0       0.0           0.0        0.0        0.0\n",
       " 1.66186   1.45715   0.681577  0.0           0.0        0.0        0.0\n",
       " 0.0       0.0       0.126905  0.0           0.0        0.0656704  0.169109\n",
       " 0.524472  0.0       0.756918  0.49032    …  1.04476    0.0        0.0\n",
       "\n",
       "[:, :, 2, 1] =\n",
       " 0.0       0.0  0.0       0.0       0.0       …  0.0       0.0       0.0\n",
       " 0.0       0.0  0.0       0.0       0.0          0.0       0.0       0.0\n",
       " 0.0       0.0  2.0259    0.0       0.0          0.0       0.90584   0.0\n",
       " 0.0       0.0  0.0       0.0       0.0          0.0       0.0       0.0\n",
       " 0.0       0.0  0.154288  0.0       0.0          0.0       0.0       0.0\n",
       " 0.0       0.0  0.0       0.0       0.0       …  0.0       0.0       0.0\n",
       " 0.0       0.0  0.682667  0.0       1.17212      0.0       0.0       0.0\n",
       " 0.925142  0.0  0.0       0.0       0.0          2.23594   0.0       0.0\n",
       " 0.0       0.0  0.0       0.0       0.0          0.0       0.0       0.247833\n",
       " 2.70801   0.0  1.23082   0.0       0.0          0.747135  0.0       0.0\n",
       " 0.0       0.0  0.0       0.0       0.0       …  0.0       0.0       0.0\n",
       " 0.0       0.0  0.0       0.0       0.0          0.0       0.747791  0.0\n",
       " 0.0       0.0  0.0       0.0       0.0          0.0       0.0       0.504468\n",
       " 0.0       0.0  0.0       0.538948  0.412103     0.120324  0.0       0.0\n",
       " 0.0       0.0  0.0       0.0       0.0          0.0       0.0       0.295087\n",
       " 0.0       0.0  0.0       0.0       0.0       …  0.994251  0.0       0.213475\n",
       "\n",
       "[:, :, 3, 1] =\n",
       " 0.0       0.0         0.772387  0.0  …  0.0        0.0        0.0\n",
       " 0.0       0.0         0.0       0.0     0.0        1.18554    0.0\n",
       " 0.0       0.0         0.0       0.0     0.0        1.7117     1.46088\n",
       " 0.0       0.0         0.835313  0.0     0.0532047  0.0        0.0\n",
       " 0.108036  0.0         0.0       0.0     0.0        0.0        0.0\n",
       " 0.0       0.0         0.0       0.0  …  0.197753   0.0        0.0\n",
       " 0.0       0.0         0.0       0.0     0.0517841  0.0        0.0\n",
       " 0.0       0.00528122  0.0       0.0     0.0        0.0        0.0\n",
       " 0.146456  1.18489     0.0       0.0     0.875443   0.0        0.0\n",
       " 0.0       0.0         0.0       0.0     0.0        0.0585006  0.0\n",
       " 0.0       0.0         0.0       0.0  …  0.0        0.0        0.0\n",
       " 0.0       0.0         0.0       0.0     0.0        0.0        0.0\n",
       " 0.0       0.0         0.0       0.0     0.226243   0.0        0.0\n",
       " 0.0       0.0         0.331749  0.0     0.0        0.0        0.0\n",
       " 0.0       0.0         0.0       0.0     0.0        0.0        0.0\n",
       " 0.0       0.0         0.0       0.0  …  0.0        0.0        0.323694\n",
       "\n",
       "...\n",
       "\n",
       "[:, :, 62, 1] =\n",
       " 0.480115   0.0860529  0.0       0.0       …  0.0       0.0       0.0\n",
       " 1.07196    0.0        0.0       0.0          1.07709   0.1336    0.0\n",
       " 0.0        0.588871   0.424571  0.0          0.0       0.0       0.0\n",
       " 0.0611946  0.0        0.0       1.53557      0.0       0.0       0.0\n",
       " 0.0        0.0        0.0       0.285655     0.0       0.0       1.75376\n",
       " 0.0        0.535136   0.0       0.0       …  0.0       0.113893  0.0\n",
       " 0.0        0.0        0.0       0.371635     0.0       0.0       0.541034\n",
       " 0.0        0.0        0.0       0.0          0.0       0.0       0.172778\n",
       " 0.0        0.0        1.47596   0.0          0.408616  0.0       0.0\n",
       " 1.44184    0.0        0.0       0.0          0.0       0.0       0.0\n",
       " 0.0        0.0        0.994526  0.758095  …  0.0       0.0       0.0\n",
       " 0.0        0.0        0.929279  0.0          0.0       0.0       0.0\n",
       " 1.79449    0.0        0.0       0.0          0.0       0.0       0.0\n",
       " 0.0        0.0        0.660243  0.598659     0.798742  0.0       0.0\n",
       " 0.0        0.0        0.0       0.0          0.0       0.0       0.260706\n",
       " 0.0        0.141219   0.0       0.0       …  0.0       0.477685  0.0\n",
       "\n",
       "[:, :, 63, 1] =\n",
       " 1.72142   0.633871  0.742074  0.58953    …  2.10283   0.887666   1.73927\n",
       " 1.04638   0.0       0.0       1.12268       0.0       2.52632    1.21113\n",
       " 0.227794  0.712916  0.321291  2.29263       0.0       0.0        0.143341\n",
       " 0.793925  0.967738  0.841344  0.0           0.0       1.14562    1.56035\n",
       " 1.26956   0.754745  1.80626   0.0146521     2.41578   1.12503    0.0\n",
       " 0.0       1.41581   2.38791   1.73943    …  0.0       0.789146   1.07512\n",
       " 0.380582  2.08076   0.981279  0.181882      0.514052  1.37556    0.258128\n",
       " 1.20022   1.00485   0.0       0.437892      0.0       2.19292    1.21735\n",
       " 0.0       0.0       0.291712  0.731249      1.76002   1.84603    0.0\n",
       " 2.52172   0.0       0.0       0.0           2.2779    0.0        0.314275\n",
       " 0.556271  1.11643   0.0       1.32509    …  1.27823   0.461919   0.990014\n",
       " 2.15794   0.66372   0.869521  0.0           0.0       0.144834   0.350931\n",
       " 0.866681  0.574767  1.4576    0.643526      1.41031   2.23369    2.29292\n",
       " 0.775423  0.0       2.80862   0.0           1.43318   1.13991    1.28084\n",
       " 0.453714  2.19491   0.650683  1.84076       2.74951   2.53676    0.612317\n",
       " 0.0       0.490461  0.0       0.200431   …  0.305635  0.0399807  0.969429\n",
       "\n",
       "[:, :, 64, 1] =\n",
       " 4.04088   3.03724   2.34344   2.0678    …  2.94192   2.44642   2.96703\n",
       " 0.678085  4.41993   2.9073    0.867147     1.82485   2.87363   1.78236\n",
       " 3.6039    1.1946    0.619471  3.59465      2.53971   2.46291   4.45727\n",
       " 3.09114   0.522209  2.80756   3.76404      2.65868   3.88829   1.10483\n",
       " 3.02341   2.48763   1.02619   2.3296       0.822589  0.215763  3.90145\n",
       " 1.20793   2.84514   0.685858  1.99772   …  1.073     3.36498   2.68038\n",
       " 1.4542    2.4913    0.565448  4.23998      1.61385   1.19824   3.30844\n",
       " 1.3998    1.65268   2.22663   0.599825     2.09141   2.29618   1.64624\n",
       " 5.28799   2.69623   2.68985   3.29495      3.33327   2.11426   1.34507\n",
       " 1.52735   0.904941  0.0       1.29255      0.925481  3.85207   3.78821\n",
       " 0.590639  3.20277   2.22766   1.7822    …  2.26772   2.45414   2.58797\n",
       " 0.0       1.3766    2.12726   2.30814      1.87345   1.942     2.58855\n",
       " 2.90567   2.47229   2.38365   3.61902      0.763321  2.59922   4.27727\n",
       " 0.927879  2.34783   2.1757    2.79116      2.58381   5.15313   2.8227\n",
       " 1.6706    2.28615   1.94116   1.31496      0.624349  2.35038   2.80143\n",
       " 2.98656   2.48587   2.18102   1.15369   …  0.482376  3.13173   1.42"
      ]
     },
     "execution_count": 29,
     "metadata": {},
     "output_type": "execute_result"
    }
   ],
   "source": [
    "# background = ObjectGenerator()\n",
    "# foreground = ObjectGenerator()\n",
    "# composedScene = max.(background, foreground)\n",
    "# concat = reshape(composedScene, (16,16,16*64,1))\n",
    "# c1 = Conv(1,1,1024,64)\n",
    "# projected = c1(concat)"
   ]
  },
  {
   "cell_type": "code",
   "execution_count": 24,
   "metadata": {
    "collapsed": true
   },
   "outputs": [
    {
     "data": {
      "text/plain": [
       "16×16×64×1 KnetArray{Float32,4}:\n",
       "[:, :, 1, 1] =\n",
       " 1.13547   0.033441  2.04341   0.0       …  0.0       0.0        0.678595\n",
       " 2.00566   0.0       1.47031   0.0          0.209973  0.0        0.0\n",
       " 0.102576  0.0       0.0       1.2225       2.20026   1.454      0.0\n",
       " 0.0       0.568861  0.0       0.113073     0.0       1.83049    0.0\n",
       " 0.0       2.64026   1.29375   0.0          3.05729   0.0        0.411401\n",
       " 0.828501  1.64009   1.84639   0.0       …  0.0       0.0        0.513648\n",
       " 1.90068   1.26037   0.141308  0.0          0.0       0.0        0.0\n",
       " 0.953805  0.0       1.60803   0.562737     0.678362  2.23742    0.0\n",
       " 0.197631  0.884353  0.0       1.40859      0.512996  1.1179     0.0\n",
       " 2.01026   0.705277  0.0       0.222179     1.68262   1.35116    0.272887\n",
       " 0.929535  0.537303  0.956694  1.21961   …  0.0       0.0294501  1.64141\n",
       " 0.0       2.1019    0.555992  0.0          0.0       0.0        0.0\n",
       " 0.0       0.719509  0.430889  1.18116      1.43637   1.47862    0.0\n",
       " 0.370132  0.0       1.23364   0.586837     2.45952   1.3963     1.64911\n",
       " 0.685615  0.88358   0.0       0.0          1.31789   0.0        0.0\n",
       " 0.0       0.0       0.0       1.19189   …  1.34886   0.0        1.45653\n",
       "\n",
       "[:, :, 2, 1] =\n",
       " 0.219576  0.675354  0.0       0.0455914  …  0.0       1.17082    0.604015\n",
       " 0.0       1.0128    0.694682  0.0           0.0       2.68543    1.62096\n",
       " 0.0       2.55015   0.0       0.0           0.592178  0.544385   0.0\n",
       " 2.65656   0.0       0.0       0.0           0.0       0.0        0.0\n",
       " 0.0       0.0       1.19889   1.35693       0.0       0.0        0.0\n",
       " 0.568012  0.809705  1.96881   1.49674    …  1.47972   0.0        1.62143\n",
       " 0.0       0.710732  0.0       0.643585      0.179139  0.0        1.36767\n",
       " 1.26576   1.8084    0.0       0.0           2.00768   0.0        0.0\n",
       " 0.0       0.0       0.0       0.0           0.0       0.0        0.0\n",
       " 0.273566  0.551091  2.02653   0.0           1.27652   0.0        0.116199\n",
       " 0.0       0.0       0.53474   0.0        …  0.232992  0.958948   0.0\n",
       " 0.944386  2.7575    1.81939   2.46605       0.0       0.0        0.762657\n",
       " 0.659214  0.0       0.0       0.689805      0.0       0.0        0.0\n",
       " 0.0       0.848012  1.42649   0.0           0.0       0.0582274  0.257902\n",
       " 1.09384   0.0       0.802284  0.0           0.0       0.943065   0.0\n",
       " 0.320431  0.0       0.0       0.0        …  0.0       0.0        0.715014\n",
       "\n",
       "[:, :, 3, 1] =\n",
       " 1.23888   0.0       0.937378  1.18729   …  0.0       0.668758   1.48219\n",
       " 0.301096  0.0       0.0       0.0          1.51144   0.0591669  0.0\n",
       " 1.18745   0.0       0.991491  0.0          0.0       0.0394062  0.895559\n",
       " 0.184738  0.440736  0.0       0.0          0.0       0.0        2.33726\n",
       " 0.0       0.0       0.0       0.0          0.0       0.0        0.0\n",
       " 0.958705  0.64469   0.0       0.0       …  0.0       0.0        0.0\n",
       " 2.81206   0.0       0.0       0.0          0.0       2.58867    0.0\n",
       " 0.0       0.0       0.0       0.0          0.0       2.17078    0.0\n",
       " 0.0       2.27507   0.0       0.0          0.0       0.58279    0.234832\n",
       " 0.0       0.0       1.25765   2.4671       0.0       0.0        0.0\n",
       " 0.0       0.344453  0.0       1.87968   …  2.42553   0.67128    0.596304\n",
       " 0.0       0.0       2.63046   0.059269     0.0       0.501581   0.0\n",
       " 0.0       0.417043  0.774225  0.0          0.154611  0.0        1.75494\n",
       " 1.37699   0.932856  0.0       2.00784      0.0       0.0        0.89774\n",
       " 0.0       1.69747   0.0       0.0          0.509623  0.0        2.35402\n",
       " 0.0       0.0       0.970092  0.246545  …  0.123167  0.0        1.3224\n",
       "\n",
       "...\n",
       "\n",
       "[:, :, 62, 1] =\n",
       " 0.0       1.01278   0.543038  0.0       …  1.72724   2.41146  0.651817\n",
       " 0.0       0.0       0.0       0.0          0.0       0.0      0.0\n",
       " 0.179363  0.0       1.64915   2.93961      0.746867  3.07279  0.0\n",
       " 0.0       0.0       0.0       0.0          1.13291   0.0      0.0\n",
       " 0.0       0.0       0.0       0.0          0.0       0.0      0.0\n",
       " 1.66957   0.0       0.0       0.0       …  1.25974   1.80822  0.0\n",
       " 0.928923  0.0       0.0       0.710993     0.0       2.55239  0.164505\n",
       " 0.578683  0.539112  0.0       0.0          0.191913  0.0      0.0\n",
       " 0.365967  1.60851   0.0       0.0          0.0       0.0      0.0\n",
       " 1.65196   0.0       0.0       1.37608      0.0       1.93894  0.0\n",
       " 0.0       0.147742  0.0       0.0       …  0.320039  0.0      1.81671\n",
       " 0.0       0.0       0.0       0.0          2.33585   0.0      0.0\n",
       " 0.992293  0.0       0.0       0.0          0.0       0.0      0.325571\n",
       " 0.235462  0.0       0.225253  0.0          0.0       0.0      0.173481\n",
       " 1.23745   0.797094  1.41357   0.0          1.61145   0.0      0.0\n",
       " 0.0       0.0       0.0       0.376981  …  0.0       0.0      0.0\n",
       "\n",
       "[:, :, 63, 1] =\n",
       " 0.0       1.71289     0.518097  1.34087   …  0.186061  0.0         0.719298\n",
       " 0.0       0.632601    0.0       0.373741     0.0       0.107579    0.209077\n",
       " 0.0       0.00182848  0.0       0.0          0.0       1.77812     0.0\n",
       " 0.0       1.33445     0.0       0.485619     0.0       1.77584     2.11755\n",
       " 1.66394   2.39631     0.0       0.0          2.0458    0.0         0.770439\n",
       " 0.71725   1.91251     1.89158   0.0       …  0.127619  0.89486     0.0\n",
       " 0.657494  0.0         1.30932   0.0          0.839552  0.0         0.0\n",
       " 0.0       0.0         0.102593  0.0          0.990944  0.57647     0.118507\n",
       " 0.0       2.00519     1.16181   0.0          1.15849   0.0         0.0\n",
       " 2.03464   1.16686     0.202543  0.581444     1.49047   0.488783    0.0\n",
       " 1.46025   0.0         0.0       1.1684    …  0.322246  0.0         0.0\n",
       " 0.0       3.0528      1.1308    0.0          0.40926   0.00321399  1.93866\n",
       " 0.0       0.0         0.70873   0.528341     0.856491  2.59605     0.0\n",
       " 0.518816  0.294622    0.0       0.0          0.300377  0.0         0.0\n",
       " 0.0       0.0         1.1808    0.0          0.904188  0.156506    1.53227\n",
       " 0.0       0.0         3.55055   0.0       …  0.0       0.0         0.0\n",
       "\n",
       "[:, :, 64, 1] =\n",
       " 0.998808   0.0       0.0       1.37505    …  0.0       0.0       0.0\n",
       " 0.908732   0.0       2.2373    0.0           1.04264   1.15369   0.884966\n",
       " 0.984142   0.0       0.908718  2.24959       0.770139  2.85992   0.375048\n",
       " 0.0860722  1.91864   0.887559  0.403447      1.72501   0.0       1.66985\n",
       " 0.0        2.85461   0.628164  0.0304148     1.18113   0.0       1.44893\n",
       " 0.0        0.0       0.0       0.379304   …  1.14953   1.66339   0.0\n",
       " 0.0        0.0       0.0       0.0           0.0       0.206268  0.349436\n",
       " 0.0        0.0       0.0       2.14393       0.825875  0.0       0.0\n",
       " 0.680337   0.0       0.0       0.829746      1.49687   0.0       0.0\n",
       " 0.0        0.0       1.26903   0.0           0.0       0.461454  0.0\n",
       " 0.618795   1.90962   0.0       0.0        …  0.0       0.0       0.0\n",
       " 0.0        0.717029  0.0       0.0           0.483605  0.0       0.0\n",
       " 0.0        0.0       0.0       1.01128       0.0       0.0       0.00609518\n",
       " 0.0        0.0       0.0       0.0           0.727052  1.79375   0.0\n",
       " 0.0        0.964456  2.41049   0.0           0.485092  0.0       0.0\n",
       " 0.0        0.0       0.115411  1.21416    …  0.0       0.0       0.138927"
      ]
     },
     "execution_count": 24,
     "metadata": {},
     "output_type": "execute_result"
    }
   ],
   "source": [
    "# a = Conv(1,1,1024,64)\n",
    "# a(param(randn(16,16,1024,1)))"
   ]
  },
  {
   "cell_type": "code",
   "execution_count": 9,
   "metadata": {},
   "outputs": [
    {
     "data": {
      "text/plain": [
       "ObjectGenerator (generic function with 1 method)"
      ]
     },
     "execution_count": 9,
     "metadata": {},
     "output_type": "execute_result"
    }
   ],
   "source": [
    "function ObjectGenerator()\n",
    "    param(16,16,16,64)\n",
    "end"
   ]
  },
  {
   "cell_type": "code",
   "execution_count": 30,
   "metadata": {},
   "outputs": [
    {
     "data": {
      "text/plain": [
       "Deconv2"
      ]
     },
     "execution_count": 30,
     "metadata": {},
     "output_type": "execute_result"
    }
   ],
   "source": [
    "struct Deconv2; w; f; end\n",
    "(c::Deconv2)(x) = c.f.(deconv4(c.w, x, padding = 0, stride = 2))\n",
    "Deconv2(w1::Int,w2::Int,cx::Int,cy::Int,f=relu) = Deconv2(param(w1,w2,cx,cy),f)"
   ]
  },
  {
   "cell_type": "code",
   "execution_count": 11,
   "metadata": {},
   "outputs": [],
   "source": [
    "# struct Deconv\n",
    "#     w\n",
    "#     b\n",
    "#     function Deconv(filterSizeX::Int, filterSizeY::Int, nChannels::Int)\n",
    "#         w = randn(filterSizeX, filterSizeY, nChannels)\n",
    "#         b = zeros(filterSize, 1)\n",
    "#         new(Param(w), Param(b))\n",
    "#     end\n",
    "# end"
   ]
  },
  {
   "cell_type": "code",
   "execution_count": 23,
   "metadata": {},
   "outputs": [
    {
     "data": {
      "text/plain": [
       "Conv"
      ]
     },
     "execution_count": 23,
     "metadata": {},
     "output_type": "execute_result"
    }
   ],
   "source": [
    "struct Conv; w; f; end\n",
    "(c::Conv)(x) = c.f.(conv4(c.w, x, padding = 0, stride = 1))\n",
    "Conv(w1::Int,w2::Int,cx::Int,cy::Int,f=relu) = Conv(param(w1,w2,cx,cy),f)"
   ]
  },
  {
   "cell_type": "code",
   "execution_count": 13,
   "metadata": {},
   "outputs": [],
   "source": [
    "# struct Generator\n",
    "#     background\n",
    "#     foreground\n",
    "#     element_max\n",
    "#     Concatenate\n",
    "#     conv\n",
    "#     upconv1\n",
    "#     upconv2\n",
    "#     upconv3\n",
    "# end"
   ]
  },
  {
   "cell_type": "code",
   "execution_count": 25,
   "metadata": {},
   "outputs": [
    {
     "data": {
      "text/plain": [
       "Deconv"
      ]
     },
     "execution_count": 25,
     "metadata": {},
     "output_type": "execute_result"
    }
   ],
   "source": [
    "struct Deconv; w; f; end\n",
    "(c::Deconv)(x) = c.f.(deconv4(c.w, x, padding = 0, stride = 1))\n",
    "Deconv(w1::Int,w2::Int,cx::Int,cy::Int,f=relu) = Deconv(param(w1,w2,cx,cy),f)"
   ]
  },
  {
   "cell_type": "code",
   "execution_count": null,
   "metadata": {},
   "outputs": [],
   "source": [
    "# For 4d input\n",
    "struct Dense; w; b; f; end\n",
    "(d::Dense)(x) = d.f.(d.w * mat(x) .+ d.b) # mat reshapes 4-D tensor to 2-D matrix so we can use matmul\n",
    "Dense(i::Int,o::Int,f=relu) = Dense(param(o,i), param0(o), f)"
   ]
  },
  {
   "cell_type": "code",
   "execution_count": 27,
   "metadata": {
    "collapsed": true
   },
   "outputs": [
    {
     "data": {
      "text/plain": [
       "16×16×64×1 KnetArray{Float32,4}:\n",
       "[:, :, 1, 1] =\n",
       " 0.0       0.0       0.0       0.0        …  0.0       0.0       2.3136\n",
       " 1.11355   0.0       0.0       0.0           1.3074    0.0       1.78763\n",
       " 0.0       3.43131   0.0       0.0           0.469733  0.0       0.0\n",
       " 0.772017  0.0       0.80964   1.0469        0.0       0.0       0.0\n",
       " 1.509     1.47611   0.0       0.547486      0.0       0.0       0.0\n",
       " 0.0       0.0       1.43111   2.07118    …  0.0       0.0       0.0\n",
       " 0.0       1.3741    0.965698  0.775948      0.0       0.469228  0.566646\n",
       " 0.44611   0.181138  2.56543   0.0116432     0.808221  0.0       0.0\n",
       " 3.16855   0.0       0.0       0.0           0.0       0.0       0.0665335\n",
       " 0.0       0.0       0.198053  0.0           0.589427  0.0       0.0\n",
       " 2.38588   1.85486   0.12415   1.91237    …  0.0       0.0       1.72541\n",
       " 1.03584   0.145103  1.47623   0.0           2.29299   1.25946   0.0\n",
       " 0.0       0.0       0.0       0.0           0.0       0.0       1.56871\n",
       " 2.39351   0.0       1.29967   0.0           1.81844   1.89735   0.0\n",
       " 1.48112   0.0       0.43788   0.0           1.79835   0.376063  0.0\n",
       " 1.18791   0.0       0.0       1.13413    …  0.963654  0.328405  2.22515\n",
       "\n",
       "[:, :, 2, 1] =\n",
       " 0.0        0.589163  0.0       0.0        …  1.50882   3.03303    3.23473\n",
       " 0.70243    0.0       0.0       2.04358       1.99578   0.0        1.31826\n",
       " 0.543426   0.585039  0.0       1.31464       0.695254  0.0        1.03221\n",
       " 0.0        0.0       0.0       0.0           1.78775   0.0        0.304441\n",
       " 2.15317    3.38051   0.0       0.0           0.517125  0.0        0.0\n",
       " 0.0        0.0       0.553903  0.0537653  …  0.0       0.0        1.38002\n",
       " 0.0346838  2.63247   1.93017   0.452521      0.0       0.0        0.311625\n",
       " 1.23382    0.0       0.0       0.0           0.0       1.21157    0.44239\n",
       " 1.41314    0.0       1.55971   0.0           0.679065  0.885515   1.72163\n",
       " 1.11983    1.81783   0.0       1.39873       0.678527  0.205206   0.0\n",
       " 0.0        0.0       0.95893   0.3842     …  0.438762  1.2553     0.9985\n",
       " 1.57854    0.0       0.919477  0.273258      0.0       0.0        0.163337\n",
       " 0.528808   1.71471   0.0       1.48919       0.519538  0.0        0.0\n",
       " 0.0        1.743     0.0       0.0           0.0       0.407765   2.13409\n",
       " 1.40576    0.0       0.196208  0.0496218     0.0       0.0        0.200126\n",
       " 0.0        0.756801  0.127972  0.0        …  0.0       0.0303967  0.275565\n",
       "\n",
       "[:, :, 3, 1] =\n",
       " 0.311398   0.0      1.91957   0.0      …  0.663558   1.17707   0.529608\n",
       " 0.0        0.0      0.0       0.0         0.0        1.65998   1.37875\n",
       " 0.0        1.87042  0.191698  0.0         0.0        0.0       0.0\n",
       " 0.170674   1.85842  1.52176   0.0         0.0        0.0       0.0\n",
       " 2.08896    0.0      1.14927   0.0         0.0        3.00545   2.67474\n",
       " 0.0        2.00458  2.33862   2.10928  …  0.0        0.371752  0.342564\n",
       " 0.0889859  0.0      0.0       1.25452     1.26412    0.0       0.485954\n",
       " 0.0        0.0      1.3694    1.38906     0.364422   0.0       0.700315\n",
       " 1.2564     0.0      0.0       0.0         0.0        0.0       1.54448\n",
       " 0.140706   0.0      0.0       1.96425     0.0        0.673371  1.5056\n",
       " 0.716358   0.0      0.0       0.0      …  0.0484803  0.0       0.0502252\n",
       " 0.940963   0.0      0.931353  1.41645     1.95479    1.87407   0.0\n",
       " 0.0        0.0      0.0       1.19644     0.896927   0.0       0.916449\n",
       " 0.0        0.0      0.0       1.36352     1.28853    1.33562   1.28885\n",
       " 0.549778   2.25769  0.0       0.0         0.397207   0.0       0.210724\n",
       " 1.353      0.0      0.924088  0.0      …  2.50103    0.0       0.0\n",
       "\n",
       "...\n",
       "\n",
       "[:, :, 62, 1] =\n",
       " 0.0       0.0588942  0.0       0.0       …  1.94964    0.0        1.43047\n",
       " 0.414009  1.61875    0.781238  1.08266      0.0        1.31787    0.0\n",
       " 1.54205   0.0        0.0       1.32038      1.22126    0.0        0.566893\n",
       " 0.0       0.43459    0.016063  0.0          0.0        0.0        2.16768\n",
       " 0.0       0.0        3.00728   0.27003      0.0        0.0169044  0.0\n",
       " 0.0       0.0        1.87318   0.0       …  0.0947913  0.795404   0.0\n",
       " 4.21309   1.09931    0.0       1.47336      2.42928    0.187836   0.0\n",
       " 2.63294   0.0        0.314633  0.969781     1.53067    0.0        0.0\n",
       " 0.0       0.584274   0.183253  0.0          1.01521    1.58813    0.0\n",
       " 0.0       2.0315     1.61467   0.0          1.44841    1.39617    0.0\n",
       " 0.0       0.0        1.29656   0.0       …  0.0        0.0        0.454733\n",
       " 0.21672   0.0        0.0       0.469194     0.0        0.0        1.50195\n",
       " 0.725008  1.29756    0.0       0.0          1.23377    0.0        0.0\n",
       " 3.18999   2.64858    0.0       0.0          0.28643    0.0        0.216989\n",
       " 0.0       0.0        0.0       0.0          0.0        0.599034   4.03553\n",
       " 1.13463   1.91238    0.373767  0.0       …  0.0        0.0        0.93191\n",
       "\n",
       "[:, :, 63, 1] =\n",
       " 0.0      1.20701    2.06722   0.0       …  0.0        1.39416    0.979302\n",
       " 2.01798  0.0        2.08156   0.395713     1.11335    0.935983   0.0\n",
       " 1.14675  0.0        0.444764  0.0          0.0        0.0        0.0\n",
       " 0.0      0.0        0.0       0.0          0.429402   0.0        1.08958\n",
       " 0.0      0.0618035  0.0       0.0          0.0121997  0.0        0.622768\n",
       " 0.0      1.07283    0.0       2.38913   …  0.07123    0.733774   0.0\n",
       " 0.0      0.0        0.0       0.0          0.645418   2.04583    0.0\n",
       " 0.0      0.783509   0.0       0.0          0.320722   0.837272   0.810696\n",
       " 1.39055  1.09298    0.0       0.0          0.0        0.0258753  0.623308\n",
       " 1.47484  2.45357    1.45556   0.383182     0.0        0.0        0.613835\n",
       " 0.0      0.0        3.2638    0.0       …  0.491824   0.0        0.0\n",
       " 2.491    1.45919    3.39733   0.44929      0.0        0.966242   1.07476\n",
       " 0.0      0.0        0.0       1.73999      0.306053   0.0        0.0\n",
       " 0.0      0.0        0.633823  0.0          0.0        0.0        0.885933\n",
       " 0.0      0.0        0.0       0.0          0.979368   1.30312    0.0\n",
       " 0.0      0.0        0.153698  0.0       …  0.6207     0.532763   0.0\n",
       "\n",
       "[:, :, 64, 1] =\n",
       " 0.0        0.0       1.6637     0.703234  …  0.840667   0.196251  1.3678\n",
       " 0.0        0.0       2.46824    0.0          0.0169682  0.0       0.0\n",
       " 0.153612   1.45725   0.0        0.796687     0.0        0.0       0.0\n",
       " 1.47295    1.09436   0.0        0.933551     0.0        0.0       2.45499\n",
       " 1.78263    0.412799  2.31087    1.46282      1.4291     1.0278    1.29398\n",
       " 0.0        0.603657  0.141951   0.0       …  0.0        0.0       0.0\n",
       " 0.0786023  0.0       0.622185   0.0          1.91443    0.0       0.0\n",
       " 0.398038   0.0       0.0        1.75556      0.0        1.4526    0.268217\n",
       " 0.0        0.0       0.757344   0.463269     0.426964   0.0       0.842633\n",
       " 1.02987    2.06742   0.0        0.0          1.29658    0.0       1.43465\n",
       " 0.0        0.0       0.642894   0.688684  …  1.77863    0.085352  0.0\n",
       " 0.0        0.139342  0.656006   0.0          0.0        0.57487   0.0\n",
       " 0.0        0.899978  0.0923478  0.0          0.0        2.10298   0.388157\n",
       " 0.0        1.03842   0.0        0.0          0.145761   0.657648  1.58573\n",
       " 0.47005    1.37297   0.0        1.15188      0.0        0.0       0.407142\n",
       " 0.0        0.0       1.36716    0.0       …  1.13072    1.33125   0.0"
      ]
     },
     "execution_count": 27,
     "metadata": {},
     "output_type": "execute_result"
    }
   ],
   "source": [
    "# a = 3\n",
    "# a(param(randn(16,16,1024,1)))"
   ]
  },
  {
   "cell_type": "code",
   "execution_count": 33,
   "metadata": {
    "collapsed": true
   },
   "outputs": [
    {
     "data": {
      "text/plain": [
       "19×19×64×1 KnetArray{Float32,4}:\n",
       "[:, :, 1, 1] =\n",
       " 0.06208    0.265894   0.495422    …  0.339784   0.0         0.234587\n",
       " 0.0568185  0.108414   0.0            0.204019   0.0         0.242404\n",
       " 0.0605689  0.984221   1.10574        0.965279   0.0         0.0\n",
       " 0.127674   0.301857   0.0302098      0.0        0.0         0.330062\n",
       " 0.0        0.438629   0.401362       0.142138   0.358297    0.0\n",
       " 0.0513354  0.680541   0.0         …  0.0        0.361507    0.223266\n",
       " 0.0        0.548035   0.138269       0.303595   0.0         0.495789\n",
       " 0.0        0.606143   0.617513       0.332527   0.562796    0.353458\n",
       " 0.0        0.66817    1.25798        0.406031   0.616905    0.0\n",
       " 0.0        0.794922   0.0            0.0590964  0.0185492   0.0\n",
       " 0.0        0.0        0.224953    …  0.357717   0.0         0.21162\n",
       " 0.217885   0.0        0.93838        1.99154    0.00548868  0.0\n",
       " 0.0        0.168142   0.765238       0.804281   0.0         0.160878\n",
       " 0.0        0.491761   0.16064        0.337105   0.0         0.0\n",
       " 0.0        0.377492   0.0            0.243871   0.128656    0.0\n",
       " 0.0        0.0412116  0.431112    …  0.162118   0.0         0.0\n",
       " 0.0447827  0.0        0.00407049     0.0429587  0.0         0.0\n",
       " 0.0        0.0        0.480077       0.0        0.0374857   0.0\n",
       " 0.0        0.154101   0.0            0.0        0.183064    0.0\n",
       "\n",
       "[:, :, 2, 1] =\n",
       " 0.0738482  0.154866   0.0       …  0.0         0.0       0.0\n",
       " 0.163623   0.0        0.171853     0.0         0.269728  0.0\n",
       " 0.471921   0.0        0.685754     0.517096    1.00856   0.0\n",
       " 0.737783   0.0427461  0.0          0.0         0.0       0.0\n",
       " 0.294614   0.0        0.199922     0.0         0.0       0.0\n",
       " 0.0134839  1.03455    0.916531  …  0.0         0.0       0.0\n",
       " 0.40152    0.292469   0.642676     0.0         0.0       0.0\n",
       " 0.155014   0.816337   1.41026      0.0         0.0       0.0\n",
       " 0.763216   0.38259    0.0          0.0         0.237017  0.0\n",
       " 0.498236   0.482136   0.844254     0.0         0.32519   0.0\n",
       " 0.344013   0.0        0.267598  …  0.00356227  0.0       0.0\n",
       " 0.0        0.646801   0.0          0.0         0.566306  0.0\n",
       " 0.39289    0.0917412  0.361589     0.0         0.68242   0.0\n",
       " 0.707941   0.63136    0.593598     0.335458    0.892261  0.0\n",
       " 0.689411   0.513675   0.0          0.0         0.782969  0.0\n",
       " 0.575449   0.476437   1.30396   …  0.0         0.131085  0.0\n",
       " 0.0975316  0.0897625  0.601879     1.31628     0.653719  0.0140242\n",
       " 0.153096   0.0        0.229118     0.0         0.0       0.242102\n",
       " 0.222473   0.0        0.210664     0.154417    0.0       0.0\n",
       "\n",
       "[:, :, 3, 1] =\n",
       " 0.433661    0.0        0.0         …  0.141323   0.430438   0.492772\n",
       " 0.516303    0.0        0.476733       1.33315    1.21611    0.628477\n",
       " 0.00734334  0.279794   0.370602       0.365149   0.18522    0.0\n",
       " 0.0         0.0        0.0            0.0396481  0.590441   0.0\n",
       " 0.0         0.0        0.855343       0.0        0.655201   0.0\n",
       " 0.500437    0.0        0.758123    …  0.0        0.0774604  0.0\n",
       " 0.0         0.0        0.748865       0.0        0.485993   0.0\n",
       " 0.433437    0.0        0.554851       0.474535   0.0957825  0.0\n",
       " 0.300211    0.0        0.495326       0.156131   0.425866   0.0\n",
       " 0.0952103   0.0        0.226159       0.0        0.0        0.0\n",
       " 0.0         0.0        0.0         …  0.245652   0.0309602  0.0\n",
       " 0.159069    0.0244675  0.553986       0.952249   0.0529521  0.251588\n",
       " 0.181573    0.0        0.258967       0.0        0.0        0.0\n",
       " 0.0         0.682286   0.256239       0.0        0.0        0.468377\n",
       " 0.0         0.220555   0.00509817     0.0        0.178309   0.0\n",
       " 0.385579    0.0        0.011462    …  0.0        0.0        0.0\n",
       " 0.0         0.0        0.0            0.262151   0.0        0.0\n",
       " 0.0         0.0        0.0            0.0        0.0        0.0\n",
       " 0.304012    0.0        0.0            0.0        0.0        0.0\n",
       "\n",
       "...\n",
       "\n",
       "[:, :, 62, 1] =\n",
       " 0.400115   0.401366   0.432894  0.310693  …  0.0        0.0      0.0\n",
       " 0.227261   1.3522     0.237696  0.776649     0.611177   0.0      0.0\n",
       " 0.123613   0.0        0.386334  1.04408      0.0        0.0      0.0\n",
       " 0.0        1.15989    0.12649   1.21885      0.0        0.0      0.0\n",
       " 0.254847   0.0        0.375077  0.0          0.0        0.0      0.0270543\n",
       " 0.187404   0.0581985  0.9351    0.0       …  0.0        0.0      0.0\n",
       " 0.0252851  0.0726877  0.773648  0.0          0.0        0.0      0.0\n",
       " 0.254017   0.77338    0.342008  0.0          0.100237   0.31917  0.0\n",
       " 0.395375   0.927149   0.408988  0.0          0.0        0.0      0.0\n",
       " 0.224495   0.0        0.0       0.166543     0.0        0.0      0.0\n",
       " 0.158081   0.424542   0.676636  0.0       …  0.0683534  0.0      0.0\n",
       " 0.0        0.159555   0.0       1.16049      0.0        0.0      0.0\n",
       " 0.0        0.955407   0.27001   0.395001     0.0        0.0      0.0\n",
       " 0.0        0.0        0.0       0.804354     0.0        0.0      0.0\n",
       " 0.0        0.43297    0.0       0.0          0.0760975  0.0      0.0\n",
       " 0.0        0.29535    0.0       0.314932  …  0.0        0.0      0.0\n",
       " 0.0        0.188352   0.0       0.0          0.0        0.0      0.0\n",
       " 0.0        0.0        0.0       0.0          0.0        0.0      0.0\n",
       " 0.0        0.0        0.0       0.0          0.457903   0.0      0.209767\n",
       "\n",
       "[:, :, 63, 1] =\n",
       " 0.0       0.0        0.0        0.0        …  0.282098  0.260395  0.0\n",
       " 0.135941  0.0        0.0        0.0           0.150717  0.0       0.0\n",
       " 0.0       0.0        0.0        0.0           0.678042  0.0       0.0\n",
       " 0.0       0.0        0.0        0.0           0.0       0.0       0.0\n",
       " 0.0       0.0        0.0        0.0           0.0       0.0       0.0\n",
       " 0.0       0.0        0.0        0.0        …  0.0       0.0       0.314056\n",
       " 0.0       0.0        0.0        0.0535947     0.0       0.0       0.0\n",
       " 0.0       0.0        0.0        0.0           0.0       0.0       0.284693\n",
       " 0.0       0.0361261  0.0        0.0           0.0       0.0       0.106733\n",
       " 0.0       0.0        0.0        0.0           0.0       0.0       0.0436091\n",
       " 0.0       0.0        0.0        0.0        …  0.0       0.0       0.706722\n",
       " 0.0       0.0        0.0        0.0           0.0       0.0       0.0\n",
       " 0.575451  0.0        0.0        0.0           0.0       0.0       0.0\n",
       " 0.0       0.0        0.0        0.0           0.0       0.0       0.0\n",
       " 0.0       0.0        0.0        0.0           0.0       0.0       0.0\n",
       " 0.0       0.0        0.0        0.0        …  0.0       0.0       0.0\n",
       " 0.241607  0.0        0.0        0.0           0.0       0.0       0.0\n",
       " 0.0       0.0979186  0.0457979  0.0           0.0       0.0       0.0\n",
       " 0.0       0.0        0.0        0.0           0.0       0.0       0.233463\n",
       "\n",
       "[:, :, 64, 1] =\n",
       " 0.0        0.637139   0.177325  0.348564   …  0.0060145  0.0581361  0.0\n",
       " 0.377368   1.21918    0.339751  0.312366      0.0        0.607518   0.0\n",
       " 0.228417   1.44384    0.0       0.0           0.0        0.0        0.0\n",
       " 0.506867   0.0883057  0.0       0.0           0.0        0.0        0.540477\n",
       " 0.517417   0.240902   0.0       0.349317      0.0        0.0        0.0\n",
       " 0.0        0.141744   0.118564  0.0259349  …  0.0        0.0        0.500632\n",
       " 0.260652   0.166355   0.0       0.853598      0.0        0.0        0.0\n",
       " 0.950548   1.06403    0.0       0.0           0.0        0.0        0.0\n",
       " 0.0565518  0.0812335  0.1904    0.0           0.493856   0.0        0.0\n",
       " 0.0        0.511047   0.0       0.500143      0.784194   0.0        0.461642\n",
       " 0.0        1.15206    0.0       0.0        …  0.0        0.0        0.234994\n",
       " 0.636951   0.459253   0.0       0.0           0.0        0.0        0.0\n",
       " 0.0        0.0276311  0.632865  0.0           0.168941   0.0        0.389529\n",
       " 0.474403   0.356319   0.0       0.0           0.743551   0.0        0.0\n",
       " 0.0        0.322593   0.229867  0.0           0.81533    0.0        0.0\n",
       " 0.0        0.0503749  0.0       0.0        …  0.0        0.0        0.0\n",
       " 0.171222   0.784346   0.0       0.0           0.0        0.0        0.150422\n",
       " 0.186692   0.0        0.0       0.0           0.0        0.0        0.202395\n",
       " 0.0        0.0        0.0       0.179536      0.29427    0.195357   0.0"
      ]
     },
     "execution_count": 33,
     "metadata": {},
     "output_type": "execute_result"
    }
   ],
   "source": [
    "# c2 = Deconv2(4,4,64,64)\n",
    "# out = c2(projected)"
   ]
  },
  {
   "cell_type": "code",
   "execution_count": 92,
   "metadata": {},
   "outputs": [
    {
     "data": {
      "text/plain": [
       "train_discriminator! (generic function with 3 methods)"
      ]
     },
     "execution_count": 92,
     "metadata": {},
     "output_type": "execute_result"
    }
   ],
   "source": []
  },
  {
   "cell_type": "code",
   "execution_count": 99,
   "metadata": {},
   "outputs": [
    {
     "data": {
      "text/plain": [
       "train_generator! (generic function with 2 methods)"
      ]
     },
     "execution_count": 99,
     "metadata": {},
     "output_type": "execute_result"
    }
   ],
   "source": []
  },
  {
   "cell_type": "code",
   "execution_count": 101,
   "metadata": {},
   "outputs": [],
   "source": []
  },
  {
   "cell_type": "code",
   "execution_count": 116,
   "metadata": {},
   "outputs": [
    {
     "data": {
      "text/plain": [
       "Generator"
      ]
     },
     "execution_count": 116,
     "metadata": {},
     "output_type": "execute_result"
    }
   ],
   "source": [
    "# function Generator()\n",
    "#     background = ObjectGenerator()\n",
    "#     foreground = ObjectGenerator()\n",
    "#     composedScene = max.(background, foreground)\n",
    "#     concat = reshape(composedScene, (16,16,16*64,1))\n",
    "#     projected = \n",
    "#     projected = deconv4(randn(1, 1, 64, 16*64), concat)\n",
    "    \n",
    "# end"
   ]
  },
  {
   "cell_type": "code",
   "execution_count": 117,
   "metadata": {
    "collapsed": true
   },
   "outputs": [
    {
     "data": {
      "text/plain": [
       "16×16×64×1 Array{Float64,4}:\n",
       "[:, :, 1, 1] =\n",
       " -23.1242    -9.50304    30.3123     …   17.0909   -42.9666    34.3435\n",
       " -33.5712   -19.5332     18.5086        -13.7116    -2.07607   16.0256\n",
       "  -4.63909   35.0904    -21.7904         -6.4425    -7.92485  -26.6754\n",
       "  -9.46873   -4.43236   -28.5608        -13.1479   -42.5505    12.0707\n",
       "   2.12206   -5.37147     5.54935         7.21008   -0.49796    8.37625\n",
       " -51.2061     8.78939     4.95452    …  -25.4357   -45.5729   -50.7343\n",
       " -10.5811    17.0472    -11.5825        -68.2748     9.87445  -47.4709\n",
       " -36.2278   -12.7541      0.0536501      -8.10017   16.2747   -16.6875\n",
       " -35.8297   -18.7343     16.2288        -13.6589    17.6443    15.4014\n",
       "   5.78907  -14.9958      8.69957       -11.0218    -7.58054   11.3442\n",
       "  -5.05401  -18.6515      2.65811    …   11.8488    35.2535     2.28959\n",
       "  26.2363   -55.4425    -11.8667         -8.19189   -9.19645  -52.6541\n",
       " -27.7112    -0.955187   17.0883        -19.0405    30.3775     2.71892\n",
       "  -6.73881  -71.3365    -43.6665         12.447    -24.6347    -1.87011\n",
       " -37.1932     0.977892  -33.8392        -10.6658   -16.4671     5.50904\n",
       "  28.9592   -51.1311    -19.9022     …   17.1699   -28.1893    13.37\n",
       "\n",
       "[:, :, 2, 1] =\n",
       " -27.1388   -25.186     18.7007   …   16.7391    -7.23869    0.893915\n",
       " -41.4571   -22.1316   -46.2414      -27.1211   -21.1531    31.8315\n",
       " -22.3242     1.00622   14.2531       40.7373   -57.9593     8.11228\n",
       "  -7.31967    8.7627    -7.21947      22.3281    -1.87025   -1.7449\n",
       "  12.5706    -8.88462    5.98367      32.2152   -22.0709    26.8717\n",
       " -22.2132   -16.6716    19.1277   …   11.7733    -1.64757  -19.6751\n",
       "  35.485    -21.0103    10.8151        5.35486  -40.1032     4.36282\n",
       " -18.1429   -23.3588     8.81742      39.669     -6.02827   11.0011\n",
       " -10.1155    -9.8106   -13.9658      -54.014     20.0696   -11.895\n",
       " -25.3329    -2.01225   15.0214       14.1243   -12.4462   -59.834\n",
       "  -3.00608   32.1004    16.4144   …  -53.0067     7.74219   14.1158\n",
       "  22.4875    -1.87397   15.5903       -8.9058    -1.24627  -25.9448\n",
       "  -2.75884   23.3816    -1.24129      -9.05664   16.3139   -39.0654\n",
       "  28.9007    36.4085     2.34276     -14.2132    13.217      4.78643\n",
       " -49.5563    27.4887     3.977        50.8862   -22.9805   -26.5103\n",
       " -11.0545    -9.38549    2.22858  …   39.4155    -8.46567   -4.40865\n",
       "\n",
       "[:, :, 3, 1] =\n",
       " -56.9515     1.88053   -4.22433  …   40.8689   -48.4554    -6.52409\n",
       "  11.0902   -13.9331    -7.15136      32.1666   -21.5593   -32.4597\n",
       "  49.7565   -13.1083   -26.8209       -6.89511  -13.7732    13.5506\n",
       " -23.1644   -21.8542   -22.9473       11.0062     6.71721   49.2559\n",
       "   6.82305   -8.71944    7.50478      29.9241    20.043     18.8176\n",
       " -25.2213   -47.3019   -23.2014   …   31.2784     6.8859    14.0635\n",
       "  27.1739    15.9205    30.0892       42.9242    -4.10986  -18.9035\n",
       "   5.51363  -26.0316    -9.31041      35.1928   -11.2106   -17.7032\n",
       " -26.8341   -55.4605     4.59256      11.1973   -29.9287    35.6361\n",
       "  40.8123    -6.75553   -7.90978      23.8895   -18.509    -34.7314\n",
       " -24.6262   -28.7821    25.5435   …   12.4574    -6.26023   30.9025\n",
       "  12.8471   -25.5532    -2.89053      20.5864   -23.9403   -57.5539\n",
       " -20.1526    -2.11315   -3.34165     -18.5304   -30.0102    20.6207\n",
       " -31.1154   -22.4563    25.291        28.5291   -14.7735    -6.96429\n",
       " -10.7129    27.1038   -46.6738      -21.7036   -31.0231    -8.26799\n",
       " -51.4139    20.8522    18.0791   …   -0.4179   -13.4241    21.8151\n",
       "\n",
       "...\n",
       "\n",
       "[:, :, 62, 1] =\n",
       " -45.4093    -39.7069     2.46948   …  -76.2921   -25.6018  -12.856\n",
       "  -6.43939   -70.8494   -34.5412        -9.46001  -37.0895    2.83428\n",
       " -26.9337    -16.3628   -26.554         -9.10121   20.1896   -8.06483\n",
       "  -5.03523     5.76451  -33.4648       -43.7487   -47.2441  -34.6304\n",
       " -30.7922     31.414    -18.1698       -70.0837   -34.9836  -22.5308\n",
       " -24.1627      9.06726  -49.1271    …  -34.2506   -42.4501    0.0585247\n",
       " -86.5629    -64.5739   -41.3088        18.3343   -22.1975  -25.2322\n",
       "  19.0388    -17.104    -39.9101       -58.4811   -19.0845   -0.953485\n",
       "   4.63056   -51.5161   -20.4278       -15.5628    40.3356    0.831885\n",
       " -20.5494    -16.9698   -15.3672        27.5803   -40.7146  -13.2927\n",
       " -53.7159    -12.667    -32.8552    …  -79.8127   -19.4233    9.92063\n",
       "  28.2174    -45.4145   -27.323        -66.6603   -56.7257  -40.2093\n",
       "  -8.06993   -50.5713   -11.7488       -82.6397   -32.9603    6.02242\n",
       "   0.165644  -19.3487     0.702731     -32.8156   -39.1478  -43.0674\n",
       "   3.8069    -18.9796   -33.8315        18.3901   -21.2744   16.6666\n",
       "  -0.842592   -6.00793  -35.9735    …   17.3346   -40.9978   -1.89999\n",
       "\n",
       "[:, :, 63, 1] =\n",
       "  -9.25954    20.4659     -2.69888   …  -43.4906     -4.47401     2.7449\n",
       " -11.198     -21.0877     12.6056         4.47965   -40.4361     39.9227\n",
       "  17.824     -50.3836     42.9767        12.8685     88.4365      3.48465\n",
       "  -2.9135     18.9232     26.7945       -32.3901     25.7343    -26.9587\n",
       "  -2.23196    -6.24154    22.7871        22.0201     -0.161444  -78.6013\n",
       " -25.0979      6.49601    -8.98786   …   10.131     -52.5783     51.0714\n",
       "  15.5668    -43.5374    -20.4117       -23.3716     -1.88379   -36.0869\n",
       " -26.7946     39.1299      3.39673      -19.6243    -23.79       23.041\n",
       " -31.9348     -7.5294     -0.750203     -45.0981    -27.742       5.00319\n",
       "  -7.31637     8.19478   -19.1762       -31.577     -41.1629    -20.6831\n",
       "  28.8153     31.9881     -0.646378  …   -1.60061     9.21662    58.8527\n",
       " -28.3469     -1.12833    56.3873        -4.90876    -9.29262    20.9229\n",
       "   1.76396    -3.59435   -21.3288       -30.4599     -1.48646    -0.076909\n",
       " -13.917      35.1647    -15.3858        56.1168    -34.7469    -35.6264\n",
       "   0.913288  -34.8608     17.9607         3.40676    15.6492    -49.002\n",
       " -20.4484     -0.511499   13.2312    …    0.198653    3.63248     3.50916\n",
       "\n",
       "[:, :, 64, 1] =\n",
       "  12.283     24.6198    65.4527   …   30.2293    13.1759   -42.7228\n",
       " -11.7787    14.7731   -18.198        21.5773    20.9862     9.37257\n",
       "  21.0632    39.2004     3.72639      36.7137     9.79353   61.6083\n",
       "  27.2971    58.2981    86.0072       42.739     29.963     21.5692\n",
       "  46.7449     1.55241   62.016        26.4413     4.5664   -18.3132\n",
       "  17.5541    -9.91303   70.8121   …   74.3489    27.3033    32.8801\n",
       "  64.1726    29.3373     8.38055      82.778      4.10474   -1.9129\n",
       "  68.2978   -15.4277    71.6719       -1.92079   -4.63103   37.7892\n",
       "  28.6241    20.6363    20.2774       -3.66914    6.859      0.580778\n",
       "   9.53522   31.4263    28.8613       24.6745    40.1223    36.1047\n",
       "  -2.98609   45.1513   -31.2628   …    3.09301   15.3368     1.55979\n",
       "  30.3174    11.5594   -41.5847       41.1317    94.9688    39.056\n",
       " -13.0367    64.1267    45.6718      -24.2511    42.6396    87.1843\n",
       " -33.7557     6.45986   15.5409       32.3996    24.6571   -19.0808\n",
       "  21.9047    -1.58087   42.1117       25.5796   -10.9328    74.6509\n",
       "  21.5892    10.9072    85.4224   …    2.09688  -18.7091    38.6241"
      ]
     },
     "execution_count": 117,
     "metadata": {},
     "output_type": "execute_result"
    }
   ],
   "source": [
    "# output = Generator()"
   ]
  },
  {
   "cell_type": "code",
   "execution_count": 77,
   "metadata": {
    "collapsed": true
   },
   "outputs": [
    {
     "data": {
      "text/plain": [
       "16×16×64×1 Array{Float64,4}:\n",
       "[:, :, 1, 1] =\n",
       " -19.7216    65.231      22.5214   …   42.4017   -20.1838    -9.89653\n",
       " -28.0032   -15.0841     46.9117       40.7346     8.10759   47.9725\n",
       "  -8.32633  -11.0709     43.9323      -43.8717    -2.78183    4.55433\n",
       "  21.4259     0.102533  -11.2515        4.21327   -3.70247  -29.0258\n",
       " -27.5532    17.7193      3.41425     -47.1453    71.3451    -1.1307\n",
       " -44.3164   -36.8055     38.0259   …   27.9213     3.65025    7.72606\n",
       "  27.7039   -29.204      19.6713      -12.594    -12.7816    15.1356\n",
       " -24.7761   -16.8721    -14.4455      -14.9723    68.2781     7.67317\n",
       "  32.0289   -35.1947     26.3093       22.7927    34.7704   -17.1456\n",
       " -14.7215    14.7318    -33.2046       10.7668     8.66632    5.11931\n",
       "   2.75515   14.8282     -4.04959  …  -19.6628    14.1892    45.5728\n",
       "  48.4668   -32.3578    -72.6382        7.03184   24.5314   -14.2772\n",
       "  46.5685    21.2506    -33.4785       16.9679    49.2914    38.9828\n",
       " -60.8831    33.2724     22.9286      -12.6761   -38.0609   -28.4064\n",
       " -56.6518    39.4162     12.1013      -13.2465   -53.378     13.1148\n",
       " -13.6465    -7.79903    19.1763   …  -28.3501    55.5585   -28.9343\n",
       "\n",
       "[:, :, 2, 1] =\n",
       " -17.2699    -25.5878    -26.4254   …   -9.7377    12.0723    38.7175\n",
       "   8.86598   -21.5268      6.90843     -22.0421   -55.3146    20.2189\n",
       "  -5.54751   -15.3822    -45.0232       40.4508   -26.3298   -54.7469\n",
       " -27.754       2.15747   -16.8061       20.5264   -12.6507    37.2211\n",
       " -19.1972    -57.2443     59.7269       82.3089   -43.4074   -17.5741\n",
       " -10.1361     -0.524332    5.98136  …   60.2009    31.079    -15.1222\n",
       " -53.9045     -2.59842     7.45001     -25.7955    20.0918    30.1359\n",
       "  48.9025    -33.402       9.18735      -6.01689   43.8053   -14.2402\n",
       "  -5.96501   -57.6165     42.0918       29.9187   -69.1633    41.0048\n",
       "  21.2675    -39.4155     40.6549        1.19272  -14.5631   -21.3252\n",
       "  11.1318     37.102       9.33187  …   70.3745   -55.5138   -46.8054\n",
       "  22.1314      8.60367   -17.2405      -24.7631    10.3855    41.7999\n",
       "  36.4602     -7.9758     15.424       -25.993     16.2024    -6.82156\n",
       "  -0.716909  -44.3044    -35.6467       -8.07602  -22.6018    34.94\n",
       " -44.8702    -48.0597      5.70393      -5.13792   10.2528     8.62556\n",
       " -13.2366     39.5583     19.6118   …    3.40538    9.70331    0.0229612\n",
       "\n",
       "[:, :, 3, 1] =\n",
       "  -9.30222    16.3093    -24.9559   …    0.946351   -3.56587    33.3422\n",
       "  -9.78765   -53.6785      1.4801      -22.9827     -6.15405    41.1008\n",
       "  45.4436     17.9299     65.2868      -33.4945    -30.635       7.22014\n",
       "  89.58       31.7332     27.4309      -35.9556      0.588901   16.5365\n",
       " -22.7757     19.5922    -42.653        -5.81511    14.5608     15.7372\n",
       "  -0.611806  -25.2732     12.1438   …  -57.4418    -14.5003     40.428\n",
       " -13.5026    -14.3884     18.5195      -29.4338    -88.188       9.69259\n",
       " -53.6116     63.9586     38.093       -17.9661     18.9871     55.1266\n",
       "  -5.99033    44.364      49.318        45.6276     -6.44126     0.474458\n",
       "   1.79718   -45.1577    -37.8252       33.5459     12.6763     17.8029\n",
       " -49.573     -48.8771      7.93022  …   -6.64525   -17.7786    -36.8544\n",
       "  16.0629     12.6071    -16.4779      -31.9224    -65.2107    -34.6371\n",
       " -40.0053     -0.411497  -29.8487       20.2895    -10.8521    -37.5664\n",
       "   1.28451   -11.2238    -33.4182      -22.2735     35.3824    -51.7409\n",
       " -31.9438    -14.8642     -6.8352       33.7595     37.201     -62.1408\n",
       "  28.404     -32.2306      2.82682  …  -24.7127    -54.2872    -33.8038\n",
       "\n",
       "...\n",
       "\n",
       "[:, :, 62, 1] =\n",
       "  30.4004   -21.2754    18.176    …   37.4739     -33.4066     32.5987\n",
       " -41.3916    16.9302   -14.013       -20.9599     -27.245     -12.7201\n",
       "  56.7569   -23.3809   -17.5106       -1.00874     56.6622      9.34388\n",
       "  -5.05816   50.1002   -11.1296       -3.48201     33.5439    -10.2379\n",
       "  17.7965   -38.1862    84.7075       45.5912     -29.9822      6.37027\n",
       "  23.9309    28.2179    64.6265   …  -20.9972      -3.49802    45.3876\n",
       "  48.5197   -33.8501   -12.0139       -0.0388485   12.3169    -37.3176\n",
       "   5.17499   14.0114   -14.3468        1.26412      4.31544   -22.6153\n",
       "  51.6539    -3.95925   25.7292      -16.3053      40.3246     10.0669\n",
       "  -7.86056   -4.89362   10.6673       25.6428       2.69598   -13.443\n",
       "  -8.76849  -31.2929   -20.8394   …  -23.335       11.6927     10.219\n",
       "  15.6763    -2.39674   29.0851      -10.7344       0.852133   -8.9957\n",
       " -44.058     38.7267     6.04088     -38.9089      68.8551     50.6185\n",
       "  -5.90598   24.9973   -14.1497      -32.5341      17.7822     -8.49739\n",
       "  26.9295   -11.972    -74.2496      -18.6737      -3.81285   -57.499\n",
       "   2.76776   17.318    -18.3711   …   -7.57496     17.739       3.19437\n",
       "\n",
       "[:, :, 63, 1] =\n",
       "  38.5772    46.3698   -14.3162   …   63.9558     3.6241    77.4819\n",
       "  30.071    -25.7857    37.2402       16.9543     9.33628   14.3961\n",
       "  -7.68116   37.6737   -64.5199      -14.4079    42.862    -20.3784\n",
       "  25.491     23.709    -61.6809      -11.0451    62.3839    27.0709\n",
       " -42.9668   -25.7767   -20.6032      -12.8129    48.8414   -61.5866\n",
       "  11.2537   -13.8893   -20.9777   …   57.2829    85.5689     4.31723\n",
       "  26.7443   -22.9009    28.0296       -4.31418  -78.9236    44.982\n",
       "  33.8312   -46.1422    12.9991       -9.43796  -46.4223    73.0407\n",
       "  18.274     -9.43421  -55.5448      -17.181     -2.52138   40.836\n",
       "  -4.93777  -16.9888    19.2166       67.4784     9.8144     1.57288\n",
       "  12.255     61.9166    18.5145   …   18.4311     9.61265    9.45461\n",
       " -28.9441    65.0944    13.0801       28.0819    16.384     41.0557\n",
       "  16.2514   -11.6343     1.4717      -29.7881   -37.1754   -92.0684\n",
       "   4.59212   33.5884    -3.23986       5.32047   27.9858    30.7063\n",
       " -80.3531   -27.788     46.7931      -53.0656   -14.0728   -44.2758\n",
       " -25.0091   -79.2943   -51.7556   …   33.9134     6.43676   -4.25637\n",
       "\n",
       "[:, :, 64, 1] =\n",
       "  14.4358     27.3128   -68.7446    …    5.17569   -31.7483    -22.4041\n",
       "  34.0703    -23.9417    -1.22098      -36.2612     54.3358    -18.8992\n",
       " -35.8721     29.3673    -8.77534      -20.879      42.8579     37.2431\n",
       "  46.1132     58.339     73.3306        66.6973     11.5819    -33.4306\n",
       "   8.37211   -29.8414   -43.8339       -35.571     -48.3441    -45.4844\n",
       "   0.880937  -44.7872   -32.8846    …    0.982505    3.85721    36.738\n",
       " -28.2362    -20.09     -29.7994         4.45076   -21.6925     -1.767\n",
       "  29.7226     50.5623   -11.1889        30.3554    -48.988      38.0827\n",
       "   3.16726   -33.4909   -17.6675        56.5302    -33.1425      5.82948\n",
       "   8.65857    -7.48765   -9.24167      -29.1494     29.4431     36.5996\n",
       " -52.2597     -6.59421  -24.8792    …  -17.0156     27.8194      0.104588\n",
       "  -7.16575   -70.0877    -0.707599      12.8862    -22.5604    -61.0428\n",
       "   8.08366     3.27276   25.7361       -29.8356      0.696356  -24.0584\n",
       "   3.74768   -13.5827    29.3617        15.0081     52.4588    -39.4087\n",
       "  71.5377      6.74302   10.7226         3.75069   -37.7822    -75.4903\n",
       " -12.2108     22.7664    27.8738    …  -18.9866     20.3801     35.8166"
      ]
     },
     "execution_count": 77,
     "metadata": {},
     "output_type": "execute_result"
    }
   ],
   "source": [
    "# x = randn(16, 16, 16*64,1)\n",
    "# w = randn(1, 1, 16*64, 64)\n",
    "# y = conv4(w, x)"
   ]
  },
  {
   "cell_type": "code",
   "execution_count": 86,
   "metadata": {
    "collapsed": true
   },
   "outputs": [
    {
     "data": {
      "text/plain": [
       "16×16×64×1 Array{Float64,4}:\n",
       "[:, :, 1, 1] =\n",
       "  41.1687  -21.2313     6.43535   …   31.9485   -12.5988    21.9147\n",
       " -15.3488  -12.9305   -28.407         42.128    -34.8528    33.3113\n",
       " -36.2156  -26.5842    -5.3665        -7.5876   -41.134    -32.6837\n",
       "  62.792    65.4765    -0.756294     -69.4366   -46.041     13.1602\n",
       "  62.779   -36.3865    19.0791       -21.2482    20.8434    36.9835\n",
       "  43.0161    2.81485   -0.710401  …   12.7327    17.8844    24.6805\n",
       " -12.9966   44.2403   -44.1296       -12.268    -16.2281    88.5513\n",
       "  49.9913   14.0089    16.5421        -9.02667  -48.2597   -38.8263\n",
       "  36.6823  -40.7765    -4.09214      -17.3608    35.6835   -19.5344\n",
       " -16.5967   53.5668     4.41911      -48.4958   -77.118     10.844\n",
       "  36.4009  -31.5965   -67.8356    …   -9.88382  -17.5629    32.2485\n",
       "  16.5396   -2.03321  -10.4416       -15.1104    -9.34157   62.1447\n",
       " -15.3629   19.9964   -12.3754       -21.9432    62.6001    24.1463\n",
       "  13.7901  -35.3844   -81.2393       -16.6532    32.3623    -6.50953\n",
       "  40.2681  -86.1056    26.226         35.9948    -9.63658    5.60173\n",
       "  20.6114   27.7152   -82.5783    …    7.36544   33.6465     6.12744\n",
       "\n",
       "[:, :, 2, 1] =\n",
       "  27.6038   -13.6558    42.2048   …    7.55898  -48.246    -24.2564\n",
       " -20.0557    -8.71021  -29.2801      -13.3957   -17.0503   -15.921\n",
       "  34.1994   -27.5035    -7.90721      20.5204   -30.3797     1.77745\n",
       "  -6.79607   -9.15171   36.3693      -26.3533    12.7333    42.4191\n",
       "  48.9544    -9.92151   35.5207      -22.0053    -1.9706    -9.46836\n",
       "  19.4726   -35.7818    64.2635   …  -28.1552   -33.3393    25.1103\n",
       "  12.559    -50.7398    -2.65608     -22.4544    46.5445    27.6695\n",
       "  33.0769    57.5017    -2.68399      -1.73101  -35.0658   -36.2265\n",
       "  39.3494    32.0344   -15.1285      -71.2741    -7.37123   -2.35246\n",
       "  32.4299   -21.553    -31.8656       -2.12887   17.863    -48.0292\n",
       "  27.1614    26.7423    23.7285   …  -35.3364   -20.2019   -39.2037\n",
       "  18.8341   -25.3893   -15.3625       11.4216   -37.3954   -30.4839\n",
       "  -1.02327    8.42729   -5.38957     -13.8837    32.3545   -57.2382\n",
       "  16.6027    -1.49373  -63.4355       13.3003   -23.6292    57.063\n",
       " -21.6197    65.7866   -12.0094       27.2209    17.9869   -51.6043\n",
       " -18.6545   -51.8259     1.59706  …   25.3459    14.3129   -69.6978\n",
       "\n",
       "[:, :, 3, 1] =\n",
       "  -9.4275   -46.2921    26.5853   …   -7.80268    66.5337     4.19709\n",
       " -30.2242   -62.0495   -22.0435       11.7959    -21.4556   -29.5242\n",
       "   4.69419   15.0949    16.642       -39.2324      9.28137  -27.7964\n",
       "  -5.54026   60.0868    47.906        32.0624    -37.9219     2.20121\n",
       " -12.8223    34.2116   -46.3924      -23.5818     43.3447    13.7326\n",
       " -11.8414    35.6232    42.0737   …    2.12813    -6.02463   -6.8439\n",
       "  14.8695    36.0675    -2.63014      35.8776     -5.7326   -32.9038\n",
       " -54.0173   -21.2442    24.0544       10.2637     48.6171    -5.73454\n",
       " -65.7877     4.80825   37.0049      -55.73       37.4926    17.1741\n",
       " -69.184     -5.76125   36.7581       11.87       50.9848    47.8397\n",
       "  -7.00388    8.32356   -3.55549  …   28.0536    -25.8677   -91.3736\n",
       " -12.6003    -1.66831   -1.42339     -31.524      -6.9265   -19.2742\n",
       " -40.2088    27.9528     7.97761     -28.316      32.2547    36.7174\n",
       "  30.3178    -3.51133  -66.2659      -19.007     -15.8026   -39.7008\n",
       " -36.4557    21.412     29.3424        3.74931    -8.6147   -41.807\n",
       "  27.7899    15.354    -36.2524   …   -0.955392    9.43684  -16.5866\n",
       "\n",
       "...\n",
       "\n",
       "[:, :, 62, 1] =\n",
       "  22.7088    45.5596   -20.6486   …  -28.284      20.9898     59.6733\n",
       " -57.6355    -7.03045  -12.3957      -12.7189     17.8152     29.7015\n",
       "  30.4099    15.9328    27.0549      -17.6476     -8.0823      4.41805\n",
       "   4.50113   54.7657   -32.646       -27.2181     27.0017     28.8935\n",
       "  -5.80511  -13.3329   -20.805        -0.496544  -44.0181     -2.46918\n",
       " -19.6275    -7.41924   38.6314   …    7.67318    27.4452    -24.7854\n",
       "   5.2654   -10.0517   -44.6852       -5.60399    35.5494    -25.2287\n",
       "  18.7651   -22.5146    71.9901       68.6702     64.9784     45.3051\n",
       " -45.8645   -37.4832   -34.6443       -8.47648    59.1361    -58.5366\n",
       " -17.8324    60.6878     3.49351      30.2822    -37.4188    -17.8306\n",
       "  10.3424   -64.586    -53.5315   …   25.2972     -8.87625    27.7757\n",
       " -43.8241   -40.8907   -36.7141      -22.6273     55.8519     -4.53454\n",
       " -27.7922    -6.5362    23.2164      -52.0094    -30.1732     -5.09375\n",
       " -25.3072   -13.1643    -6.62321      11.9558     65.7774     -4.34543\n",
       "  38.8675   -31.6852    -1.5601       -0.988239    0.673541   -1.91269\n",
       "  31.1416   -17.2964    -7.23809  …  -86.816      -7.36136    -0.955927\n",
       "\n",
       "[:, :, 63, 1] =\n",
       " -50.4415    27.091     19.1605   …    4.07095  -11.2365   -13.222\n",
       " -19.9099    29.7568     3.62095      21.6247    14.6859    25.5059\n",
       " -12.3129     6.84934  -47.8608      -21.4866    11.3349    -7.30379\n",
       "  -8.06035    9.95787   -8.44438      12.3081    -1.71748   60.196\n",
       "  20.9142   -21.2951    21.6327       27.518      1.17815   24.4572\n",
       " -74.7608   -42.0313   -28.3158   …  -10.6628   -10.3635   -11.0898\n",
       "  24.7554   -10.5146    23.0222      -30.7223   -41.7464    38.3838\n",
       " -22.0031    62.1739   -53.1916      -37.021     20.956     -7.85169\n",
       "   2.57023   13.0624    -5.76178     -41.3268    30.8694   -11.9068\n",
       "  -5.47354  -32.8043    -6.63277      24.9541     4.46603   50.4113\n",
       "  27.7183    23.8047   -32.3936   …   15.3962   -21.0724    12.9252\n",
       "  -3.89859   24.9535    16.5029       35.4942    73.5513   -45.8707\n",
       "   4.45008   -2.52578  -22.3107        6.32349   67.6633   -43.6945\n",
       " -49.5481    16.4847    24.1991      -31.9059     9.65455  -58.9447\n",
       " -21.5011   -68.7956   -14.5201      -60.0137    28.1617    28.7069\n",
       " -27.6764   -10.5731     7.50121  …   22.9885    15.7238    22.2025\n",
       "\n",
       "[:, :, 64, 1] =\n",
       " -63.1553   -28.7442    54.1188   …  -10.842      -12.1793    -7.34516\n",
       "  26.3035    18.289     45.8719       45.0026      -8.31731   49.3341\n",
       "  45.0071   -24.3997   -27.2119      -27.8822     -85.4166    29.2147\n",
       " -49.7593    19.3438   -53.8161       81.0064      17.5528   -10.4291\n",
       "   1.60872   14.7442   -17.2386       22.4553      31.0722   -10.6282\n",
       " -69.5246   -52.4192   -14.9842   …   -4.87171    -56.0053    15.102\n",
       " -11.7554    -5.05978   -3.02472       0.0734942   -7.32521   13.8525\n",
       "  45.2934    10.788      1.12053      -1.77754    -33.115     33.0054\n",
       " -40.8032   -21.5724    -3.92829      34.625      -23.5078    -0.0928505\n",
       " -14.0763    -6.62968  -17.5283      -22.434        9.52555  -15.5193\n",
       " -69.9004    -3.09461   53.9505   …   40.4295      -9.04194   -3.06804\n",
       "  87.8419     6.34963   43.7285       17.5669      30.5085    26.1265\n",
       "  21.5224     1.68596    8.76652      36.4663     -16.4036    -3.71731\n",
       " -61.616      9.77641   13.5372       12.7226     -53.6218    -1.77267\n",
       "  -1.43229   14.8023    -2.19858      32.1391     -19.2697    54.1378\n",
       "  28.4578    21.6655    36.8135   …   50.4186     -27.1562   -57.2282"
      ]
     },
     "execution_count": 86,
     "metadata": {},
     "output_type": "execute_result"
    }
   ],
   "source": [
    "# x = randn(16, 16, 16*64, 1)\n",
    "# w = randn(1, 1, 64, 16*64)\n",
    "# y = deconv4(w, x)"
   ]
  },
  {
   "cell_type": "code",
   "execution_count": 60,
   "metadata": {
    "collapsed": true
   },
   "outputs": [
    {
     "data": {
      "text/plain": [
       "(16, 16, 1, 1)"
      ]
     },
     "execution_count": 60,
     "metadata": {},
     "output_type": "execute_result"
    }
   ],
   "source": [
    "# size(y)"
   ]
  },
  {
   "cell_type": "code",
   "execution_count": null,
   "metadata": {},
   "outputs": [],
   "source": []
  },
  {
   "cell_type": "code",
   "execution_count": 8,
   "metadata": {
    "collapsed": true
   },
   "outputs": [
    {
     "data": {
      "text/plain": [
       "156×64 Array{String,2}:\n",
       " \"GeNeVA-v1\\\\i-CLEVR\\\\images\\\\CLEVR_test_000000_0.png\"  …  \"GeNeVA-v1\\\\i-CLEVR\\\\images\\\\CLEVR_val_001824_0.png\"\n",
       " \"GeNeVA-v1\\\\i-CLEVR\\\\images\\\\CLEVR_test_000001_0.png\"     \"GeNeVA-v1\\\\i-CLEVR\\\\images\\\\CLEVR_val_001825_0.png\"\n",
       " \"GeNeVA-v1\\\\i-CLEVR\\\\images\\\\CLEVR_test_000002_0.png\"     \"GeNeVA-v1\\\\i-CLEVR\\\\images\\\\CLEVR_val_001826_0.png\"\n",
       " \"GeNeVA-v1\\\\i-CLEVR\\\\images\\\\CLEVR_test_000003_0.png\"     \"GeNeVA-v1\\\\i-CLEVR\\\\images\\\\CLEVR_val_001827_0.png\"\n",
       " \"GeNeVA-v1\\\\i-CLEVR\\\\images\\\\CLEVR_test_000004_0.png\"     \"GeNeVA-v1\\\\i-CLEVR\\\\images\\\\CLEVR_val_001828_0.png\"\n",
       " \"GeNeVA-v1\\\\i-CLEVR\\\\images\\\\CLEVR_test_000005_0.png\"  …  \"GeNeVA-v1\\\\i-CLEVR\\\\images\\\\CLEVR_val_001829_0.png\"\n",
       " \"GeNeVA-v1\\\\i-CLEVR\\\\images\\\\CLEVR_test_000006_0.png\"     \"GeNeVA-v1\\\\i-CLEVR\\\\images\\\\CLEVR_val_001830_0.png\"\n",
       " \"GeNeVA-v1\\\\i-CLEVR\\\\images\\\\CLEVR_test_000007_0.png\"     \"GeNeVA-v1\\\\i-CLEVR\\\\images\\\\CLEVR_val_001831_0.png\"\n",
       " \"GeNeVA-v1\\\\i-CLEVR\\\\images\\\\CLEVR_test_000008_0.png\"     \"GeNeVA-v1\\\\i-CLEVR\\\\images\\\\CLEVR_val_001832_0.png\"\n",
       " \"GeNeVA-v1\\\\i-CLEVR\\\\images\\\\CLEVR_test_000009_0.png\"     \"GeNeVA-v1\\\\i-CLEVR\\\\images\\\\CLEVR_val_001833_0.png\"\n",
       " \"GeNeVA-v1\\\\i-CLEVR\\\\images\\\\CLEVR_test_000010_0.png\"  …  \"GeNeVA-v1\\\\i-CLEVR\\\\images\\\\CLEVR_val_001834_0.png\"\n",
       " \"GeNeVA-v1\\\\i-CLEVR\\\\images\\\\CLEVR_test_000011_0.png\"     \"GeNeVA-v1\\\\i-CLEVR\\\\images\\\\CLEVR_val_001835_0.png\"\n",
       " \"GeNeVA-v1\\\\i-CLEVR\\\\images\\\\CLEVR_test_000012_0.png\"     \"GeNeVA-v1\\\\i-CLEVR\\\\images\\\\CLEVR_val_001836_0.png\"\n",
       " ⋮                                                      ⋱  \n",
       " \"GeNeVA-v1\\\\i-CLEVR\\\\images\\\\CLEVR_test_000144_0.png\"     \"GeNeVA-v1\\\\i-CLEVR\\\\images\\\\CLEVR_val_001968_0.png\"\n",
       " \"GeNeVA-v1\\\\i-CLEVR\\\\images\\\\CLEVR_test_000145_0.png\"  …  \"GeNeVA-v1\\\\i-CLEVR\\\\images\\\\CLEVR_val_001969_0.png\"\n",
       " \"GeNeVA-v1\\\\i-CLEVR\\\\images\\\\CLEVR_test_000146_0.png\"     \"GeNeVA-v1\\\\i-CLEVR\\\\images\\\\CLEVR_val_001970_0.png\"\n",
       " \"GeNeVA-v1\\\\i-CLEVR\\\\images\\\\CLEVR_test_000147_0.png\"     \"GeNeVA-v1\\\\i-CLEVR\\\\images\\\\CLEVR_val_001971_0.png\"\n",
       " \"GeNeVA-v1\\\\i-CLEVR\\\\images\\\\CLEVR_test_000148_0.png\"     \"GeNeVA-v1\\\\i-CLEVR\\\\images\\\\CLEVR_val_001972_0.png\"\n",
       " \"GeNeVA-v1\\\\i-CLEVR\\\\images\\\\CLEVR_test_000149_0.png\"     \"GeNeVA-v1\\\\i-CLEVR\\\\images\\\\CLEVR_val_001973_0.png\"\n",
       " \"GeNeVA-v1\\\\i-CLEVR\\\\images\\\\CLEVR_test_000150_0.png\"  …  \"GeNeVA-v1\\\\i-CLEVR\\\\images\\\\CLEVR_val_001974_0.png\"\n",
       " \"GeNeVA-v1\\\\i-CLEVR\\\\images\\\\CLEVR_test_000151_0.png\"     \"GeNeVA-v1\\\\i-CLEVR\\\\images\\\\CLEVR_val_001975_0.png\"\n",
       " \"GeNeVA-v1\\\\i-CLEVR\\\\images\\\\CLEVR_test_000152_0.png\"     \"GeNeVA-v1\\\\i-CLEVR\\\\images\\\\CLEVR_val_001976_0.png\"\n",
       " \"GeNeVA-v1\\\\i-CLEVR\\\\images\\\\CLEVR_test_000153_0.png\"     \"GeNeVA-v1\\\\i-CLEVR\\\\images\\\\CLEVR_val_001977_0.png\"\n",
       " \"GeNeVA-v1\\\\i-CLEVR\\\\images\\\\CLEVR_test_000154_0.png\"     \"GeNeVA-v1\\\\i-CLEVR\\\\images\\\\CLEVR_val_001978_0.png\"\n",
       " \"GeNeVA-v1\\\\i-CLEVR\\\\images\\\\CLEVR_test_000155_0.png\"  …  \"GeNeVA-v1\\\\i-CLEVR\\\\images\\\\CLEVR_val_001979_0.png\""
      ]
     },
     "execution_count": 8,
     "metadata": {},
     "output_type": "execute_result"
    }
   ],
   "source": [
    "# function make_minibatch(names, batchSize = 128)\n",
    "#     rem = mod(length(names), batchSize)\n",
    "#     names = reshape(names[1:end-rem], :, batchSize)\n",
    "# end\n",
    "\n",
    "# batches = make_minibatch(singleObj, 64)\n",
    "# batch = load_batch(batches, 1)"
   ]
  },
  {
   "cell_type": "code",
   "execution_count": null,
   "metadata": {},
   "outputs": [],
   "source": [
    "# struct Conv\n",
    "#     w\n",
    "#     b\n",
    "#     function Conv()\n",
    "    \n",
    "# end"
   ]
  }
 ],
 "metadata": {
  "kernelspec": {
   "display_name": "Julia 1.5.2",
   "language": "julia",
   "name": "julia-1.5"
  },
  "language_info": {
   "file_extension": ".jl",
   "mimetype": "application/julia",
   "name": "julia",
   "version": "1.5.2"
  }
 },
 "nbformat": 4,
 "nbformat_minor": 2
}
