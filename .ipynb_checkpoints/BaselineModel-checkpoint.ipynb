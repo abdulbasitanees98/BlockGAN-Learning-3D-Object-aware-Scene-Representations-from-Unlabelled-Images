{
 "cells": [
  {
   "cell_type": "code",
   "execution_count": 1,
   "metadata": {},
   "outputs": [
    {
     "name": "stderr",
     "output_type": "stream",
     "text": [
      "\u001b[32m\u001b[1m   Updating\u001b[22m\u001b[39m registry at `C:\\Users\\basit\\.julia\\registries\\General`\n",
      "\u001b[32m\u001b[1m  Resolving\u001b[22m\u001b[39m package versions...\n",
      "\u001b[32m\u001b[1mNo Changes\u001b[22m\u001b[39m to `C:\\Users\\basit\\.julia\\environments\\v1.5\\Project.toml`\n",
      "\u001b[32m\u001b[1mNo Changes\u001b[22m\u001b[39m to `C:\\Users\\basit\\.julia\\environments\\v1.5\\Manifest.toml`\n",
      "\u001b[32m\u001b[1m  Resolving\u001b[22m\u001b[39m package versions...\n",
      "\u001b[32m\u001b[1m  Installed\u001b[22m\u001b[39m PyPlot ─ v2.9.0\n",
      "\u001b[32m\u001b[1m  Installed\u001b[22m\u001b[39m PyCall ─ v1.92.1\n",
      "\u001b[32m\u001b[1mUpdating\u001b[22m\u001b[39m `C:\\Users\\basit\\.julia\\environments\\v1.5\\Project.toml`\n",
      " \u001b[90m [d330b81b] \u001b[39m\u001b[92m+ PyPlot v2.9.0\u001b[39m\n",
      "\u001b[32m\u001b[1mUpdating\u001b[22m\u001b[39m `C:\\Users\\basit\\.julia\\environments\\v1.5\\Manifest.toml`\n",
      " \u001b[90m [438e738f] \u001b[39m\u001b[92m+ PyCall v1.92.1\u001b[39m\n",
      " \u001b[90m [d330b81b] \u001b[39m\u001b[92m+ PyPlot v2.9.0\u001b[39m\n",
      "\u001b[32m\u001b[1m   Building\u001b[22m\u001b[39m PyCall → `C:\\Users\\basit\\.julia\\packages\\PyCall\\BcTLp\\deps\\build.log`\n",
      "┌ Info: Precompiling PyPlot [d330b81b-6aea-500a-939a-2ce795aea3ee]\n",
      "└ @ Base loading.jl:1278\n",
      "┌ Info: Installing matplotlib via the Conda matplotlib package...\n",
      "└ @ PyCall C:\\Users\\basit\\.julia\\packages\\PyCall\\BcTLp\\src\\PyCall.jl:708\n",
      "┌ Info: Running `conda install -y matplotlib` in root environment\n",
      "└ @ Conda C:\\Users\\basit\\.julia\\packages\\Conda\\3rPhK\\src\\Conda.jl:113\n"
     ]
    },
    {
     "name": "stdout",
     "output_type": "stream",
     "text": [
      "Collecting package metadata (current_repodata.json): ...working... done\n",
      "Solving environment: ...working... done\n",
      "\n",
      "## Package Plan ##\n",
      "\n",
      "  environment location: C:\\Users\\basit\\.julia\\conda\\3\n",
      "\n",
      "  added / updated specs:\n",
      "    - matplotlib\n",
      "\n",
      "\n",
      "The following packages will be downloaded:\n",
      "\n",
      "    package                    |            build\n",
      "    ---------------------------|-----------------\n",
      "    cycler-0.10.0              |           py38_0          14 KB\n",
      "    freetype-2.10.4            |       hd328e21_0         466 KB\n",
      "    kiwisolver-1.3.0           |   py38hd77b12b_0          78 KB\n",
      "    libtiff-4.1.0              |       h56a325e_1         739 KB\n",
      "    lz4-c-1.9.2                |       hf4a77e7_3         106 KB\n",
      "    matplotlib-3.3.2           |                0          25 KB\n",
      "    matplotlib-base-3.3.2      |   py38hba9282a_0         5.1 MB\n",
      "    olefile-0.46               |             py_0          33 KB\n",
      "    pillow-8.0.1               |   py38h4fa10fc_0         690 KB\n",
      "    tk-8.6.10                  |       he774522_0         2.7 MB\n",
      "    xz-5.2.5                   |       h62dcd97_0         244 KB\n",
      "    zstd-1.4.5                 |       h04227a9_0         456 KB\n",
      "    ------------------------------------------------------------\n",
      "                                           Total:        10.5 MB\n",
      "\n",
      "The following NEW packages will be INSTALLED:\n",
      "\n",
      "  cycler             pkgs/main/win-64::cycler-0.10.0-py38_0\n",
      "  freetype           pkgs/main/win-64::freetype-2.10.4-hd328e21_0\n",
      "  kiwisolver         pkgs/main/win-64::kiwisolver-1.3.0-py38hd77b12b_0\n",
      "  libtiff            pkgs/main/win-64::libtiff-4.1.0-h56a325e_1\n",
      "  lz4-c              pkgs/main/win-64::lz4-c-1.9.2-hf4a77e7_3\n",
      "  matplotlib         pkgs/main/win-64::matplotlib-3.3.2-0\n",
      "  matplotlib-base    pkgs/main/win-64::matplotlib-base-3.3.2-py38hba9282a_0\n",
      "  olefile            pkgs/main/noarch::olefile-0.46-py_0\n",
      "  pillow             pkgs/main/win-64::pillow-8.0.1-py38h4fa10fc_0\n",
      "  tk                 pkgs/main/win-64::tk-8.6.10-he774522_0\n",
      "  xz                 pkgs/main/win-64::xz-5.2.5-h62dcd97_0\n",
      "  zstd               pkgs/main/win-64::zstd-1.4.5-h04227a9_0\n",
      "\n",
      "\n",
      "\n",
      "Downloading and Extracting Packages\n",
      "matplotlib-3.3.2     | 25 KB     | ########## | 100% \n",
      "tk-8.6.10            | 2.7 MB    | ########## | 100% \n",
      "lz4-c-1.9.2          | 106 KB    | ########## | 100% \n",
      "pillow-8.0.1         | 690 KB    | ########## | 100% \n",
      "olefile-0.46         | 33 KB     | ########## | 100% \n",
      "cycler-0.10.0        | 14 KB     | ########## | 100% \n",
      "xz-5.2.5             | 244 KB    | ########## | 100% \n",
      "matplotlib-base-3.3. | 5.1 MB    | ########## | 100% \n",
      "kiwisolver-1.3.0     | 78 KB     | ########## | 100% \n",
      "libtiff-4.1.0        | 739 KB    | ########## | 100% \n",
      "freetype-2.10.4      | 466 KB    | ########## | 100% \n",
      "zstd-1.4.5           | 456 KB    | ########## | 100% \n",
      "Preparing transaction: ...working... done\n",
      "Verifying transaction: ...working... done\n",
      "Executing transaction: ...working... done\n"
     ]
    }
   ],
   "source": [
    "using Pkg; for p in [\"MLDatasets\"]; Pkg.add(p); end\n",
    "import Pkg; Pkg.add(\"PyPlot\")\n",
    "using PyPlot\n",
    "using Printf, Random, Test, Statistics\n",
    "using MLDatasets\n",
    "using Knet\n",
    "import Base: length, size, iterate, eltype, IteratorSize, IteratorEltype, haslength, @propagate_inbounds, repeat, rand, tail\n",
    "import .Iterators: cycle, Cycle, take\n",
    "using Plots; default(fmt=:png,ls=:auto)\n",
    "import CUDA # functional\n",
    "array_type=(CUDA.functional() ? KnetArray{Float32} : Array{Float32})\n",
    "using Knet: Knet, dir, accuracy, progress, sgd, load, save, gc, Param, KnetArray, Data, minibatch, nll, relu, training, dropout # param, param0, xavier_uniform\n",
    "using IterTools: ncycle, takenth\n",
    "using Base.Iterators: flatten"
   ]
  },
  {
   "cell_type": "code",
   "execution_count": 2,
   "metadata": {},
   "outputs": [
    {
     "data": {
      "text/plain": [
       "((28, 28, 60000), (60000,), (28, 28, 10000), (10000,))"
      ]
     },
     "execution_count": 2,
     "metadata": {},
     "output_type": "execute_result"
    }
   ],
   "source": [
    "# load full training set\n",
    "train_x, train_y = MNIST.traindata();\n",
    "\n",
    "# load full test set\n",
    "test_x,  test_y  = MNIST.testdata();\n",
    "\n",
    "size(train_x), size(train_y), size(test_x), size(test_y)"
   ]
  },
  {
   "cell_type": "code",
   "execution_count": 3,
   "metadata": {},
   "outputs": [],
   "source": [
    "struct MnistData\n",
    "    x\n",
    "    y\n",
    "    batchsize::Int\n",
    "    shuffle::Bool\n",
    "    num_instances::Int\n",
    "\n",
    "    function MnistData(x, y; batchsize::Int=100, shuffle::Bool=false, dtype::Type=Array{Float32})\n",
    "        # Your code here\n",
    "        \n",
    "        batch_x::dtype = x\n",
    "        batch_y::dtype = y\n",
    "        \n",
    "        new(batch_x,batch_y, batchsize, shuffle, length(y))\n",
    "    end\n",
    "end\n"
   ]
  },
  {
   "cell_type": "code",
   "execution_count": 4,
   "metadata": {},
   "outputs": [
    {
     "data": {
      "text/plain": [
       "Base.length"
      ]
     },
     "execution_count": 4,
     "metadata": {},
     "output_type": "execute_result"
    }
   ],
   "source": [
    "\"\"\"\n",
    "    length(d::MnistData)\n",
    "\n",
    "Return how many minibatches dataset `d` has.\n",
    "\"\"\"\n",
    "function length(d::MnistData)\n",
    "    # Your code here\n",
    "    quotient, remainder = divrem(d.num_instances, d.batchsize)\n",
    "    if remainder>0\n",
    "        return quotient + 1\n",
    "    else\n",
    "        return quotient\n",
    "    end\n",
    "end\n"
   ]
  },
  {
   "cell_type": "code",
   "execution_count": 5,
   "metadata": {},
   "outputs": [
    {
     "data": {
      "text/plain": [
       "Base.iterate"
      ]
     },
     "execution_count": 5,
     "metadata": {},
     "output_type": "execute_result"
    }
   ],
   "source": [
    "\"\"\"\n",
    "    iterate(d::MnistData[, state])\n",
    "\n",
    "Iterate over `d::MnistData` object. If `state` is missing, it's the beginning\n",
    "of the whole iteration process.\n",
    "\"\"\"\n",
    "function iterate(d::MnistData, state=ifelse(\n",
    "    d.shuffle, randperm(d.num_instances), collect(1:d.num_instances)))\n",
    "    # Your code here\n",
    "    \n",
    "    if length(state) > 0 \n",
    "        \n",
    "        if length(state) >= d.batchsize\n",
    "            batch_x = d.x[:,:, state[1:d.batchsize]]\n",
    "            batch_y = d.y[:, state[1:d.batchsize]]\n",
    "        else\n",
    "            batch_x = d.x[:,:, state[1:end]]\n",
    "            batch_y = d.y[:, state[1:end]]\n",
    "\n",
    "        end\n",
    "        state = state[d.batchsize+1:end]\n",
    "        return (batch_x, batch_y), state\n",
    "    end\n",
    "    \n",
    "end"
   ]
  },
  {
   "cell_type": "code",
   "execution_count": 6,
   "metadata": {},
   "outputs": [
    {
     "data": {
      "image/png": "[encoded data removed]",
      "text/plain": [
       "Figure(PyObject <Figure size 480x480 with 1 Axes>)"
      ]
     },
     "metadata": {},
     "output_type": "display_data"
    },
    {
     "name": "stderr",
     "output_type": "stream",
     "text": [
      "┌ Warning: Knet.seed!() is deprecated, please use Random.seed!() and/or CUDA.seed!() instead\n",
      "└ @ Knet.KnetArrays C:\\Users\\basit\\.julia\\packages\\Knet\\OYNCT\\src\\knetarrays\\random.jl:14\n"
     ]
    },
    {
     "data": {
      "text/plain": [
       "PyObject <matplotlib.image.AxesImage object at 0x000000003B757070>"
      ]
     },
     "execution_count": 6,
     "metadata": {},
     "output_type": "execute_result"
    }
   ],
   "source": [
    "\"\"\"\n",
    "    predictPixel(image)\n",
    "\n",
    "predicts the value of the pixel based on the previous pixel values\n",
    "The pixels in the input image given as the parameter will be used to predict the pixel.\n",
    "This function will return the probabilities of the functions that will be used to calculate the loss.\n",
    "\"\"\"\n",
    "function predictPixel(image, i, j)\n",
    "    random_index = rand(1:60000,size(image));\n",
    "    randPixel = train_x[i,j,random_index[i,j]]\n",
    "end\n",
    "\n",
    "\"\"\"\n",
    "    generateImage()\n",
    "\n",
    "uses `predictPixel` function recursively to generate entire image.\n",
    "\n",
    "\"\"\"\n",
    "function generateImage()\n",
    "    img = zeros(28,28);\n",
    "    for i in 1:28\n",
    "        for j in 1:28\n",
    "            img[i,j] = predictPixel(img, i, j)\n",
    "        end\n",
    "    end\n",
    "    return img;\n",
    "end\n",
    "\n",
    "Knet.seed!(2)\n",
    "image=generateImage()\n",
    "\n",
    "matshow(image)"
   ]
  },
  {
   "cell_type": "code",
   "execution_count": 7,
   "metadata": {},
   "outputs": [
    {
     "data": {
      "image/png": "[encoded data removed]",
      "text/plain": [
       "Figure(PyObject <Figure size 480x480 with 1 Axes>)"
      ]
     },
     "metadata": {},
     "output_type": "display_data"
    },
    {
     "data": {
      "text/plain": [
       "PyObject <matplotlib.image.AxesImage object at 0x000000004AA2A610>"
      ]
     },
     "execution_count": 7,
     "metadata": {},
     "output_type": "execute_result"
    }
   ],
   "source": [
    "\"\"\"\n",
    "    occlude(image, n_rows)\n",
    "\n",
    "Creates occluded image by assigning zeros to image rows - n_rows\n",
    "\"\"\"\n",
    "function occlude(image, n_rows)\n",
    "    i_size = size(image)\n",
    "    zero = zeros(i_size[1]-n_rows, i_size[2])\n",
    "    occluded = vcat(image[1:n_rows,:], zero)\n",
    "    return occluded\n",
    "end\n",
    "\n",
    "function occlude_data(data, n_rows)\n",
    "    i_size = size(data)\n",
    "    zero = zeros(i_size[1]-n_rows, i_size[2], i_size[3])\n",
    "    occluded_data = vcat(data[1:n_rows,:,:], zero)\n",
    "    return occluded_data\n",
    "end\n",
    "\n",
    "\n",
    "true_image = train_x[:,:,1]\n",
    "occludedimg = occlude(true_image, 14)\n",
    "\n",
    "occluded_data = occlude_data(train_x, 14)\n",
    "matshow(occluded_data[:,:,19])"
   ]
  },
  {
   "cell_type": "code",
   "execution_count": 8,
   "metadata": {},
   "outputs": [],
   "source": [
    "# Load MNIST data\n",
    "xtrn,ytrn = MNIST.traindata(Float32); ytrn[ytrn.==0] .= 10\n",
    "xtst,ytst = MNIST.testdata(Float32);  ytst[ytst.==0] .= 10\n",
    "\n",
    "ytrn = xtrn[14+1:end,:,:]\n",
    "ytrn = reshape(ytrn,(392,60000))\n",
    "\n",
    "ytst = xtst[14+1:end,:,:]\n",
    "ytst = reshape(ytst,(392,10000))\n",
    "\n",
    "xtrn = occlude_data(xtrn,14)\n",
    "xtst = occlude_data(xtst,14)\n",
    "\n",
    "dtrn = minibatch(xtrn, ytrn, 100; xsize = (784,:))\n",
    "dtst = minibatch(xtst, ytst, 10000; xsize = (784,:));"
   ]
  },
  {
   "cell_type": "code",
   "execution_count": 18,
   "metadata": {},
   "outputs": [],
   "source": [
    "# Let's define a chain of layers\n",
    "struct Chain\n",
    "    layers\n",
    "    Chain(layers...) = new(layers)\n",
    "end\n",
    "(c::Chain)(x) = (for l in c.layers; x = l(x); end; x)\n",
    "(c::Chain)(x,y) = mse(c(x),y)\n",
    "(c::Chain)(d::Data) = mean(c(x,y) for (x,y) in d)\n",
    "\n",
    "# Using nonlinearities between layers results in a model with higher capacity and helps underfitting\n",
    "# relu(x)=max(0,x) is a popular function used for this purpose, it replaces all negative values with zeros.\n",
    "struct Layer; w; b; f; end\n",
    "Layer(i::Int,o::Int,f=relu) = Layer(param(o,i),param0(o),f)\n",
    "(l::Layer)(x) = l.f.(l.w * x .+ l.b)\n"
   ]
  },
  {
   "cell_type": "code",
   "execution_count": 28,
   "metadata": {},
   "outputs": [
    {
     "data": {
      "text/plain": [
       "784×100 KnetArray{Float32,2}:\n",
       " 0.0  0.0  0.0  0.0  0.0  0.0  0.0  0.0  …  0.0  0.0  0.0  0.0  0.0  0.0  0.0\n",
       " 0.0  0.0  0.0  0.0  0.0  0.0  0.0  0.0     0.0  0.0  0.0  0.0  0.0  0.0  0.0\n",
       " 0.0  0.0  0.0  0.0  0.0  0.0  0.0  0.0     0.0  0.0  0.0  0.0  0.0  0.0  0.0\n",
       " 0.0  0.0  0.0  0.0  0.0  0.0  0.0  0.0     0.0  0.0  0.0  0.0  0.0  0.0  0.0\n",
       " 0.0  0.0  0.0  0.0  0.0  0.0  0.0  0.0     0.0  0.0  0.0  0.0  0.0  0.0  0.0\n",
       " 0.0  0.0  0.0  0.0  0.0  0.0  0.0  0.0  …  0.0  0.0  0.0  0.0  0.0  0.0  0.0\n",
       " 0.0  0.0  0.0  0.0  0.0  0.0  0.0  0.0     0.0  0.0  0.0  0.0  0.0  0.0  0.0\n",
       " 0.0  0.0  0.0  0.0  0.0  0.0  0.0  0.0     0.0  0.0  0.0  0.0  0.0  0.0  0.0\n",
       " 0.0  0.0  0.0  0.0  0.0  0.0  0.0  0.0     0.0  0.0  0.0  0.0  0.0  0.0  0.0\n",
       " 0.0  0.0  0.0  0.0  0.0  0.0  0.0  0.0     0.0  0.0  0.0  0.0  0.0  0.0  0.0\n",
       " 0.0  0.0  0.0  0.0  0.0  0.0  0.0  0.0  …  0.0  0.0  0.0  0.0  0.0  0.0  0.0\n",
       " 0.0  0.0  0.0  0.0  0.0  0.0  0.0  0.0     0.0  0.0  0.0  0.0  0.0  0.0  0.0\n",
       " 0.0  0.0  0.0  0.0  0.0  0.0  0.0  0.0     0.0  0.0  0.0  0.0  0.0  0.0  0.0\n",
       " ⋮                        ⋮              ⋱            ⋮                   \n",
       " 0.0  0.0  0.0  0.0  0.0  0.0  0.0  0.0     0.0  0.0  0.0  0.0  0.0  0.0  0.0\n",
       " 0.0  0.0  0.0  0.0  0.0  0.0  0.0  0.0     0.0  0.0  0.0  0.0  0.0  0.0  0.0\n",
       " 0.0  0.0  0.0  0.0  0.0  0.0  0.0  0.0     0.0  0.0  0.0  0.0  0.0  0.0  0.0\n",
       " 0.0  0.0  0.0  0.0  0.0  0.0  0.0  0.0  …  0.0  0.0  0.0  0.0  0.0  0.0  0.0\n",
       " 0.0  0.0  0.0  0.0  0.0  0.0  0.0  0.0     0.0  0.0  0.0  0.0  0.0  0.0  0.0\n",
       " 0.0  0.0  0.0  0.0  0.0  0.0  0.0  0.0     0.0  0.0  0.0  0.0  0.0  0.0  0.0\n",
       " 0.0  0.0  0.0  0.0  0.0  0.0  0.0  0.0     0.0  0.0  0.0  0.0  0.0  0.0  0.0\n",
       " 0.0  0.0  0.0  0.0  0.0  0.0  0.0  0.0     0.0  0.0  0.0  0.0  0.0  0.0  0.0\n",
       " 0.0  0.0  0.0  0.0  0.0  0.0  0.0  0.0  …  0.0  0.0  0.0  0.0  0.0  0.0  0.0\n",
       " 0.0  0.0  0.0  0.0  0.0  0.0  0.0  0.0     0.0  0.0  0.0  0.0  0.0  0.0  0.0\n",
       " 0.0  0.0  0.0  0.0  0.0  0.0  0.0  0.0     0.0  0.0  0.0  0.0  0.0  0.0  0.0\n",
       " 0.0  0.0  0.0  0.0  0.0  0.0  0.0  0.0     0.0  0.0  0.0  0.0  0.0  0.0  0.0"
      ]
     },
     "execution_count": 28,
     "metadata": {},
     "output_type": "execute_result"
    }
   ],
   "source": [
    "x = first(dtrn)[1]"
   ]
  },
  {
   "cell_type": "code",
   "execution_count": 29,
   "metadata": {},
   "outputs": [
    {
     "ename": "LoadError",
     "evalue": "MethodError: no method matching *(::KnetArray{Float32,2}, ::Array{Float64,2})\nClosest candidates are:\n  *(::Any, ::Any, !Matched::Any, !Matched::Any...) at operators.jl:538\n  *(!Matched::PyCall.PyObject, ::Any) at C:\\Users\\basit\\.julia\\packages\\PyCall\\BcTLp\\src\\pyoperators.jl:13\n  *(!Matched::LinearAlgebra.Adjoint{var\"#s828\",var\"#s827\"} where var\"#s827\"<:SparseArrays.AbstractSparseMatrixCSC where var\"#s828\", ::Union{StridedArray{T, 2}, LinearAlgebra.Adjoint{var\"#s828\",var\"#s827\"} where var\"#s827\"<:Union{StridedArray{T, 2}, LinearAlgebra.LowerTriangular{T,S} where S<:AbstractArray{T,2}, LinearAlgebra.UnitLowerTriangular{T,S} where S<:AbstractArray{T,2}, LinearAlgebra.UnitUpperTriangular{T,S} where S<:AbstractArray{T,2}, LinearAlgebra.UpperTriangular{T,S} where S<:AbstractArray{T,2}} where var\"#s828\", LinearAlgebra.LowerTriangular{T,S} where S<:AbstractArray{T,2}, LinearAlgebra.Transpose{var\"#s826\",var\"#s825\"} where var\"#s825\"<:Union{StridedArray{T, 2}, LinearAlgebra.LowerTriangular{T,S} where S<:AbstractArray{T,2}, LinearAlgebra.UnitLowerTriangular{T,S} where S<:AbstractArray{T,2}, LinearAlgebra.UnitUpperTriangular{T,S} where S<:AbstractArray{T,2}, LinearAlgebra.UpperTriangular{T,S} where S<:AbstractArray{T,2}} where var\"#s826\", LinearAlgebra.UnitLowerTriangular{T,S} where S<:AbstractArray{T,2}, LinearAlgebra.UnitUpperTriangular{T,S} where S<:AbstractArray{T,2}, LinearAlgebra.UpperTriangular{T,S} where S<:AbstractArray{T,2}} where T) at D:\\buildbot\\worker\\package_win64\\build\\usr\\share\\julia\\stdlib\\v1.5\\SparseArrays\\src\\linalg.jl:75\n  ...",
     "output_type": "error",
     "traceback": [
      "MethodError: no method matching *(::KnetArray{Float32,2}, ::Array{Float64,2})\nClosest candidates are:\n  *(::Any, ::Any, !Matched::Any, !Matched::Any...) at operators.jl:538\n  *(!Matched::PyCall.PyObject, ::Any) at C:\\Users\\basit\\.julia\\packages\\PyCall\\BcTLp\\src\\pyoperators.jl:13\n  *(!Matched::LinearAlgebra.Adjoint{var\"#s828\",var\"#s827\"} where var\"#s827\"<:SparseArrays.AbstractSparseMatrixCSC where var\"#s828\", ::Union{StridedArray{T, 2}, LinearAlgebra.Adjoint{var\"#s828\",var\"#s827\"} where var\"#s827\"<:Union{StridedArray{T, 2}, LinearAlgebra.LowerTriangular{T,S} where S<:AbstractArray{T,2}, LinearAlgebra.UnitLowerTriangular{T,S} where S<:AbstractArray{T,2}, LinearAlgebra.UnitUpperTriangular{T,S} where S<:AbstractArray{T,2}, LinearAlgebra.UpperTriangular{T,S} where S<:AbstractArray{T,2}} where var\"#s828\", LinearAlgebra.LowerTriangular{T,S} where S<:AbstractArray{T,2}, LinearAlgebra.Transpose{var\"#s826\",var\"#s825\"} where var\"#s825\"<:Union{StridedArray{T, 2}, LinearAlgebra.LowerTriangular{T,S} where S<:AbstractArray{T,2}, LinearAlgebra.UnitLowerTriangular{T,S} where S<:AbstractArray{T,2}, LinearAlgebra.UnitUpperTriangular{T,S} where S<:AbstractArray{T,2}, LinearAlgebra.UpperTriangular{T,S} where S<:AbstractArray{T,2}} where var\"#s826\", LinearAlgebra.UnitLowerTriangular{T,S} where S<:AbstractArray{T,2}, LinearAlgebra.UnitUpperTriangular{T,S} where S<:AbstractArray{T,2}, LinearAlgebra.UpperTriangular{T,S} where S<:AbstractArray{T,2}} where T) at D:\\buildbot\\worker\\package_win64\\build\\usr\\share\\julia\\stdlib\\v1.5\\SparseArrays\\src\\linalg.jl:75\n  ...",
      "",
      "Stacktrace:",
      " [1] forw(::Function, ::Param{KnetArray{Float32,2}}, ::Vararg{Any,N} where N; kwargs::Base.Iterators.Pairs{Union{},Union{},Tuple{},NamedTuple{(),Tuple{}}}) at C:\\Users\\basit\\.julia\\packages\\AutoGrad\\VFrAv\\src\\core.jl:66",
      " [2] forw at C:\\Users\\basit\\.julia\\packages\\AutoGrad\\VFrAv\\src\\core.jl:65 [inlined]",
      " [3] *(::Param{KnetArray{Float32,2}}, ::Array{Float64,2}) at .\\none:0",
      " [4] (::Layer)(::Array{Float64,2}) at .\\In[18]:14",
      " [5] top-level scope at In[29]:4",
      " [6] include_string(::Function, ::Module, ::String, ::String) at .\\loading.jl:1091",
      " [7] execute_code(::String, ::String) at C:\\Users\\basit\\.julia\\packages\\IJulia\\rWZ9e\\src\\execute_request.jl:27",
      " [8] execute_request(::ZMQ.Socket, ::IJulia.Msg) at C:\\Users\\basit\\.julia\\packages\\IJulia\\rWZ9e\\src\\execute_request.jl:86",
      " [9] #invokelatest#1 at .\\essentials.jl:710 [inlined]",
      " [10] invokelatest at .\\essentials.jl:709 [inlined]",
      " [11] eventloop(::ZMQ.Socket) at C:\\Users\\basit\\.julia\\packages\\IJulia\\rWZ9e\\src\\eventloop.jl:8",
      " [12] (::IJulia.var\"#15#18\")() at .\\task.jl:356"
     ]
    }
   ],
   "source": [
    "# c = Chain(Layer(784,2000))\n",
    "l = Layer(784,2000)\n",
    "l(x)\n",
    "\n",
    "# r = [println(size(c(x[1]))) for x in ncycle(dtrn,1)]"
   ]
  },
  {
   "cell_type": "code",
   "execution_count": 10,
   "metadata": {},
   "outputs": [
    {
     "data": {
      "text/plain": [
       "trainresults (generic function with 1 method)"
      ]
     },
     "execution_count": 10,
     "metadata": {},
     "output_type": "execute_result"
    }
   ],
   "source": [
    "# For running experiments\n",
    "function trainresults(model; o...)\n",
    "    r = ((model(dtrn), model(dtst), 1-accuracy(model,dtrn), 1-accuracy(model,dtst))\n",
    "         for x in takenth(progress(sgd!(model,ncycle(dtrn,100))),length(dtrn)))\n",
    "    r = reshape(collect(Float32,flatten(r)),(4,:))\n",
    "    GC.gc(true) # To save gpu memory\n",
    "\n",
    "    println(minimum(r,dims=2))\n",
    "    return r\n",
    "end"
   ]
  },
  {
   "cell_type": "code",
   "execution_count": 19,
   "metadata": {},
   "outputs": [],
   "source": [
    "\n",
    "function mse(predictions, targets)\n",
    "    # Your code here\n",
    "    N = length(targets)\n",
    "    y = 1/(2*N) * sum((predictions - targets).^2)\n",
    "    return y\n",
    "end\n",
    "\n",
    "function (m::Chain)(x, y)\n",
    "    # Your code here\n",
    "    println(size(m(x)))\n",
    "    println(size(y))\n",
    "    return mse(m(x), y)\n",
    "end\n",
    "\n",
    "function (m::Chain)(data)\n",
    "    # Your code here\n",
    "    sum_mse = 0\n",
    "    for (x,y) in data\n",
    "        sum_mse = m(x,y) + sum_mse\n",
    "    end\n",
    "    return sum_mse/length(data)\n",
    "end\n"
   ]
  },
  {
   "cell_type": "code",
   "execution_count": 13,
   "metadata": {
    "scrolled": true
   },
   "outputs": [
    {
     "name": "stdout",
     "output_type": "stream",
     "text": [
      "\n",
      "Stacktrace:\n",
      " [1] \u001b[1merror\u001b[22m\u001b[1m(\u001b[22m\u001b[1m)\u001b[22m at \u001b[1m.\\error.jl:42\u001b[22m\n",
      " [2] \u001b[1miterate\u001b[22m\u001b[1m(\u001b[22m::KnetArray{Float32,2}\u001b[1m)\u001b[22m at \u001b[1mC:\\Users\\basit\\.julia\\packages\\Knet\\OYNCT\\src\\knetarrays\\abstractarray.jl:37\u001b[22m\n",
      " [3] \u001b[1m(::Chain)\u001b[22m\u001b[1m(\u001b[22m::KnetArray{Float32,2}\u001b[1m)\u001b[22m at \u001b[1m.\\In[12]:19\u001b[22m\n",
      " [4] \u001b[1m(::Chain)\u001b[22m\u001b[1m(\u001b[22m::KnetArray{Float32,2}, ::KnetArray{Float32,2}\u001b[1m)\u001b[22m at \u001b[1m.\\In[12]:11\u001b[22m\n",
      " [5] \u001b[1m(::Knet.Train20.var\"#27#28\"{Knet.Train20.Minimize{IterTools.NCycle{Data{Tuple{KnetArray{Float32,N} where N,KnetArray{Float32,N} where N}}}},Tuple{KnetArray{Float32,2},KnetArray{Float32,2}}})\u001b[22m\u001b[1m(\u001b[22m\u001b[1m)\u001b[22m at \u001b[1mC:\\Users\\basit\\.julia\\packages\\AutoGrad\\VFrAv\\src\\core.jl:205\u001b[22m\n",
      " [6] \u001b[1mdifferentiate\u001b[22m\u001b[1m(\u001b[22m::Function; o::Base.Iterators.Pairs{Union{},Union{},Tuple{},NamedTuple{(),Tuple{}}}\u001b[1m)\u001b[22m at \u001b[1mC:\\Users\\basit\\.julia\\packages\\AutoGrad\\VFrAv\\src\\core.jl:144\u001b[22m\n",
      " [7] \u001b[1mdifferentiate\u001b[22m at \u001b[1mC:\\Users\\basit\\.julia\\packages\\AutoGrad\\VFrAv\\src\\core.jl:135\u001b[22m [inlined]\n",
      " [8] \u001b[1miterate\u001b[22m\u001b[1m(\u001b[22m::Knet.Train20.Minimize{IterTools.NCycle{Data{Tuple{KnetArray{Float32,N} where N,KnetArray{Float32,N} where N}}}}\u001b[1m)\u001b[22m at \u001b[1mC:\\Users\\basit\\.julia\\packages\\Knet\\OYNCT\\src\\train20\\train.jl:26\u001b[22m\n",
      " [9] \u001b[1msgd!\u001b[22m\u001b[1m(\u001b[22m::Chain, ::Vararg{Any,N} where N; o::Base.Iterators.Pairs{Union{},Union{},Tuple{},NamedTuple{(),Tuple{}}}\u001b[1m)\u001b[22m at \u001b[1mC:\\Users\\basit\\.julia\\packages\\Knet\\OYNCT\\src\\train20\\update.jl:134\u001b[22m\n",
      " [10] \u001b[1msgd!\u001b[22m at \u001b[1mC:\\Users\\basit\\.julia\\packages\\Knet\\OYNCT\\src\\train20\\update.jl:134\u001b[22m [inlined]\n",
      " [11] \u001b[1mtrainresults\u001b[22m\u001b[1m(\u001b[22m::Chain; o::Base.Iterators.Pairs{Union{},Union{},Tuple{},NamedTuple{(),Tuple{}}}\u001b[1m)\u001b[22m at \u001b[1m.\\In[10]:3\u001b[22m\n",
      " [12] \u001b[1mtrainresults\u001b[22m\u001b[1m(\u001b[22m::Chain\u001b[1m)\u001b[22m at \u001b[1m.\\In[10]:3\u001b[22m\n",
      " [13] top-level scope at \u001b[1mIn[13]:3\u001b[22m\n",
      " [14] \u001b[1minclude_string\u001b[22m\u001b[1m(\u001b[22m::Function, ::Module, ::String, ::String\u001b[1m)\u001b[22m at \u001b[1m.\\loading.jl:1091\u001b[22m\n",
      " [15] \u001b[1mexecute_code\u001b[22m\u001b[1m(\u001b[22m::String, ::String\u001b[1m)\u001b[22m at \u001b[1mC:\\Users\\basit\\.julia\\packages\\IJulia\\rWZ9e\\src\\execute_request.jl:27\u001b[22m\n",
      " [16] \u001b[1mexecute_request\u001b[22m\u001b[1m(\u001b[22m::ZMQ.Socket, ::IJulia.Msg\u001b[1m)\u001b[22m at \u001b[1mC:\\Users\\basit\\.julia\\packages\\IJulia\\rWZ9e\\src\\execute_request.jl:86\u001b[22m\n",
      " [17] \u001b[1m#invokelatest#1\u001b[22m at \u001b[1m.\\essentials.jl:710\u001b[22m [inlined]\n",
      " [18] \u001b[1minvokelatest\u001b[22m at \u001b[1m.\\essentials.jl:709\u001b[22m [inlined]\n",
      " [19] \u001b[1meventloop\u001b[22m\u001b[1m(\u001b[22m::ZMQ.Socket\u001b[1m)\u001b[22m at \u001b[1mC:\\Users\\basit\\.julia\\packages\\IJulia\\rWZ9e\\src\\eventloop.jl:8\u001b[22m\n",
      " [20] \u001b[1m(::IJulia.var\"#15#18\")\u001b[22m\u001b[1m(\u001b[22m\u001b[1m)\u001b[22m at \u001b[1m.\\task.jl:356\u001b[22m\n"
     ]
    },
    {
     "ename": "LoadError",
     "evalue": "",
     "output_type": "error",
     "traceback": [
      "",
      "",
      "Stacktrace:",
      " [1] differentiate(::Function; o::Base.Iterators.Pairs{Union{},Union{},Tuple{},NamedTuple{(),Tuple{}}}) at C:\\Users\\basit\\.julia\\packages\\AutoGrad\\VFrAv\\src\\core.jl:148",
      " [2] differentiate at C:\\Users\\basit\\.julia\\packages\\AutoGrad\\VFrAv\\src\\core.jl:135 [inlined]",
      " [3] iterate(::Knet.Train20.Minimize{IterTools.NCycle{Data{Tuple{KnetArray{Float32,N} where N,KnetArray{Float32,N} where N}}}}) at C:\\Users\\basit\\.julia\\packages\\Knet\\OYNCT\\src\\train20\\train.jl:26",
      " [4] sgd!(::Chain, ::Vararg{Any,N} where N; o::Base.Iterators.Pairs{Union{},Union{},Tuple{},NamedTuple{(),Tuple{}}}) at C:\\Users\\basit\\.julia\\packages\\Knet\\OYNCT\\src\\train20\\update.jl:134",
      " [5] sgd! at C:\\Users\\basit\\.julia\\packages\\Knet\\OYNCT\\src\\train20\\update.jl:134 [inlined]",
      " [6] trainresults(::Chain; o::Base.Iterators.Pairs{Union{},Union{},Tuple{},NamedTuple{(),Tuple{}}}) at .\\In[10]:3",
      " [7] trainresults(::Chain) at .\\In[10]:3",
      " [8] top-level scope at In[13]:3",
      " [9] include_string(::Function, ::Module, ::String, ::String) at .\\loading.jl:1091",
      " [10] execute_code(::String, ::String) at C:\\Users\\basit\\.julia\\packages\\IJulia\\rWZ9e\\src\\execute_request.jl:27",
      " [11] execute_request(::ZMQ.Socket, ::IJulia.Msg) at C:\\Users\\basit\\.julia\\packages\\IJulia\\rWZ9e\\src\\execute_request.jl:86",
      " [12] #invokelatest#1 at .\\essentials.jl:710 [inlined]",
      " [13] invokelatest at .\\essentials.jl:709 [inlined]",
      " [14] eventloop(::ZMQ.Socket) at C:\\Users\\basit\\.julia\\packages\\IJulia\\rWZ9e\\src\\eventloop.jl:8",
      " [15] (::IJulia.var\"#15#18\")() at .\\task.jl:356"
     ]
    }
   ],
   "source": [
    "Random.seed!(22);\n",
    "model = Chain(Layer(784,2000), Layer(2000,392,identity))\n",
    "soft1 = trainresults(model);"
   ]
  },
  {
   "cell_type": "code",
   "execution_count": 14,
   "metadata": {},
   "outputs": [
    {
     "data": {
      "image/png": "[encoded data removed]",
      "text/plain": [
       "Figure(PyObject <Figure size 480x480 with 1 Axes>)"
      ]
     },
     "metadata": {},
     "output_type": "display_data"
    },
    {
     "data": {
      "text/plain": [
       "PyObject <matplotlib.image.AxesImage object at 0x000000004AA8F4F0>"
      ]
     },
     "execution_count": 14,
     "metadata": {},
     "output_type": "execute_result"
    }
   ],
   "source": [
    "#training data sample image\n",
    "true_image = train_x[:,:,19]\n",
    "matshow(true_image)"
   ]
  },
  {
   "cell_type": "code",
   "execution_count": 15,
   "metadata": {},
   "outputs": [
    {
     "data": {
      "text/plain": [
       "softloss (generic function with 1 method)"
      ]
     },
     "execution_count": 15,
     "metadata": {},
     "output_type": "execute_result"
    }
   ],
   "source": [
    "function softloss(ygold, ypred)\n",
    "    ynorm = ypred .- log.(sum(exp(ypred),dims=1))\n",
    "    -sum(ygold .* ynorm) / size(ygold,2)\n",
    "end"
   ]
  },
  {
   "cell_type": "code",
   "execution_count": 16,
   "metadata": {},
   "outputs": [
    {
     "data": {
      "text/plain": [
       "9.772929386294008"
      ]
     },
     "execution_count": 16,
     "metadata": {},
     "output_type": "execute_result"
    }
   ],
   "source": [
    "softloss(true_image, image)"
   ]
  },
  {
   "cell_type": "code",
   "execution_count": 17,
   "metadata": {},
   "outputs": [
    {
     "data": {
      "text/latex": [
       "\\begin{verbatim}\n",
       "nll(scores, labels; dims=1, average=true)\n",
       "\\end{verbatim}\n",
       "Return the negative log likelihood for a single batch of data given an unnormalized \\texttt{scores} matrix and an \\texttt{Integer} array of correct \\texttt{labels}. The \\texttt{scores} matrix should have size \\texttt{(classes,instances)} if \\texttt{dims=1} or \\texttt{(instances,classes)} if \\texttt{dims=2}. \\texttt{labels[i]} should be in \\texttt{1:classes} to indicate the correct class for instance i, or 0 to skip instance i.\n",
       "\n",
       "The return value is \\texttt{(total/count)} if \\texttt{average=true} and \\texttt{(total,count)} if \\texttt{average=false} where \\texttt{count} is the number of instances not skipped (i.e. \\texttt{label != 0}) and \\texttt{total} is their total negative log likelihood.\n",
       "\n",
       "\\subsection{Example}\n",
       "Let's assume that there are three classes (cat, dog, ostrich) and just 2 instances with the unnormalized score \\texttt{scores[:,1]} and \\texttt{scores[:,2]} respectively. The first instance is actually a cat and the second instance a dog:\n",
       "\n",
       "\\begin{verbatim}\n",
       "scores = [12.2    0.3;\n",
       "           2.0   21.5;\n",
       "           0.0  -21.0]\n",
       "labels = [1, 2]\n",
       "nll(scores,labels)\n",
       "# returns 2.1657e-5\n",
       "\\end{verbatim}\n",
       "The probabilites are derived from the scores and the negative log-probabilities corresponding to the labels are averaged:\n",
       "\n",
       "\\begin{verbatim}\n",
       "probabilites = exp.(scores) ./ sum(exp.(scores),dims=1)\n",
       "-(log(probabilites[labels[1],1]) + log(probabilites[labels[2],2]))/2\n",
       "# returns 2.1657e-5\n",
       "\\end{verbatim}\n",
       "\\begin{verbatim}\n",
       "nll(model; data, dims=1, average=true, o...)\n",
       "\\end{verbatim}\n",
       "Compute the negative log likelihood for a model over a dataset:\n",
       "\n",
       "\\begin{verbatim}\n",
       "nll(model(inputs; kwargs...), labels; dims) for (inputs,labels) in data\n",
       "\\end{verbatim}\n",
       "and return \\texttt{(total/count)} if \\texttt{average=true} or \\texttt{(total,count)} if \\texttt{average=false} where \\texttt{count} is the number of instances not skipped (instances with \\texttt{label==0} are skipped) and \\texttt{total} is their total negative log likelihood.\n",
       "\n",
       "The \\texttt{model} should be a function returning scores given inputs, and data should be an iterable of \\texttt{(inputs,labels)} pairs. The valid labels should be integers in the range \\texttt{1:numclasses}, if \\texttt{labels[i] == 0}, instance i is skipped.\n",
       "\n"
      ],
      "text/markdown": [
       "```\n",
       "nll(scores, labels; dims=1, average=true)\n",
       "```\n",
       "\n",
       "Return the negative log likelihood for a single batch of data given an unnormalized `scores` matrix and an `Integer` array of correct `labels`. The `scores` matrix should have size `(classes,instances)` if `dims=1` or `(instances,classes)` if `dims=2`. `labels[i]` should be in `1:classes` to indicate the correct class for instance i, or 0 to skip instance i.\n",
       "\n",
       "The return value is `(total/count)` if `average=true` and `(total,count)` if `average=false` where `count` is the number of instances not skipped (i.e. `label != 0`) and `total` is their total negative log likelihood.\n",
       "\n",
       "## Example\n",
       "\n",
       "Let's assume that there are three classes (cat, dog, ostrich) and just 2 instances with the unnormalized score `scores[:,1]` and `scores[:,2]` respectively. The first instance is actually a cat and the second instance a dog:\n",
       "\n",
       "```\n",
       "scores = [12.2    0.3;\n",
       "           2.0   21.5;\n",
       "           0.0  -21.0]\n",
       "labels = [1, 2]\n",
       "nll(scores,labels)\n",
       "# returns 2.1657e-5\n",
       "```\n",
       "\n",
       "The probabilites are derived from the scores and the negative log-probabilities corresponding to the labels are averaged:\n",
       "\n",
       "```\n",
       "probabilites = exp.(scores) ./ sum(exp.(scores),dims=1)\n",
       "-(log(probabilites[labels[1],1]) + log(probabilites[labels[2],2]))/2\n",
       "# returns 2.1657e-5\n",
       "```\n",
       "\n",
       "```\n",
       "nll(model; data, dims=1, average=true, o...)\n",
       "```\n",
       "\n",
       "Compute the negative log likelihood for a model over a dataset:\n",
       "\n",
       "```\n",
       "nll(model(inputs; kwargs...), labels; dims) for (inputs,labels) in data\n",
       "```\n",
       "\n",
       "and return `(total/count)` if `average=true` or `(total,count)` if `average=false` where `count` is the number of instances not skipped (instances with `label==0` are skipped) and `total` is their total negative log likelihood.\n",
       "\n",
       "The `model` should be a function returning scores given inputs, and data should be an iterable of `(inputs,labels)` pairs. The valid labels should be integers in the range `1:numclasses`, if `labels[i] == 0`, instance i is skipped.\n"
      ],
      "text/plain": [
       "\u001b[36m  nll(scores, labels; dims=1, average=true)\u001b[39m\n",
       "\n",
       "  Return the negative log likelihood for a single batch of data given an\n",
       "  unnormalized \u001b[36mscores\u001b[39m matrix and an \u001b[36mInteger\u001b[39m array of correct \u001b[36mlabels\u001b[39m. The\n",
       "  \u001b[36mscores\u001b[39m matrix should have size \u001b[36m(classes,instances)\u001b[39m if \u001b[36mdims=1\u001b[39m or\n",
       "  \u001b[36m(instances,classes)\u001b[39m if \u001b[36mdims=2\u001b[39m. \u001b[36mlabels[i]\u001b[39m should be in \u001b[36m1:classes\u001b[39m to indicate\n",
       "  the correct class for instance i, or 0 to skip instance i.\n",
       "\n",
       "  The return value is \u001b[36m(total/count)\u001b[39m if \u001b[36maverage=true\u001b[39m and \u001b[36m(total,count)\u001b[39m if\n",
       "  \u001b[36maverage=false\u001b[39m where \u001b[36mcount\u001b[39m is the number of instances not skipped (i.e. \u001b[36mlabel\n",
       "  != 0\u001b[39m) and \u001b[36mtotal\u001b[39m is their total negative log likelihood.\n",
       "\n",
       "\u001b[1m  Example\u001b[22m\n",
       "\u001b[1m  =========\u001b[22m\n",
       "\n",
       "  Let's assume that there are three classes (cat, dog, ostrich) and just 2\n",
       "  instances with the unnormalized score \u001b[36mscores[:,1]\u001b[39m and \u001b[36mscores[:,2]\u001b[39m\n",
       "  respectively. The first instance is actually a cat and the second instance a\n",
       "  dog:\n",
       "\n",
       "\u001b[36m  scores = [12.2    0.3;\u001b[39m\n",
       "\u001b[36m             2.0   21.5;\u001b[39m\n",
       "\u001b[36m             0.0  -21.0]\u001b[39m\n",
       "\u001b[36m  labels = [1, 2]\u001b[39m\n",
       "\u001b[36m  nll(scores,labels)\u001b[39m\n",
       "\u001b[36m  # returns 2.1657e-5\u001b[39m\n",
       "\n",
       "  The probabilites are derived from the scores and the negative\n",
       "  log-probabilities corresponding to the labels are averaged:\n",
       "\n",
       "\u001b[36m  probabilites = exp.(scores) ./ sum(exp.(scores),dims=1)\u001b[39m\n",
       "\u001b[36m  -(log(probabilites[labels[1],1]) + log(probabilites[labels[2],2]))/2\u001b[39m\n",
       "\u001b[36m  # returns 2.1657e-5\u001b[39m\n",
       "\n",
       "\u001b[36m  nll(model; data, dims=1, average=true, o...)\u001b[39m\n",
       "\n",
       "  Compute the negative log likelihood for a model over a dataset:\n",
       "\n",
       "\u001b[36m  nll(model(inputs; kwargs...), labels; dims) for (inputs,labels) in data\u001b[39m\n",
       "\n",
       "  and return \u001b[36m(total/count)\u001b[39m if \u001b[36maverage=true\u001b[39m or \u001b[36m(total,count)\u001b[39m if \u001b[36maverage=false\u001b[39m\n",
       "  where \u001b[36mcount\u001b[39m is the number of instances not skipped (instances with \u001b[36mlabel==0\u001b[39m\n",
       "  are skipped) and \u001b[36mtotal\u001b[39m is their total negative log likelihood.\n",
       "\n",
       "  The \u001b[36mmodel\u001b[39m should be a function returning scores given inputs, and data\n",
       "  should be an iterable of \u001b[36m(inputs,labels)\u001b[39m pairs. The valid labels should be\n",
       "  integers in the range \u001b[36m1:numclasses\u001b[39m, if \u001b[36mlabels[i] == 0\u001b[39m, instance i is\n",
       "  skipped."
      ]
     },
     "execution_count": 17,
     "metadata": {},
     "output_type": "execute_result"
    }
   ],
   "source": [
    "@doc nll"
   ]
  },
  {
   "cell_type": "code",
   "execution_count": null,
   "metadata": {},
   "outputs": [],
   "source": []
  }
 ],
 "metadata": {
  "kernelspec": {
   "display_name": "Julia 1.5.2",
   "language": "julia",
   "name": "julia-1.5"
  },
  "language_info": {
   "file_extension": ".jl",
   "mimetype": "application/julia",
   "name": "julia",
   "version": "1.5.2"
  }
 },
 "nbformat": 4,
 "nbformat_minor": 4
}
